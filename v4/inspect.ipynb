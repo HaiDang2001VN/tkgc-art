{
 "cells": [
  {
   "cell_type": "code",
   "execution_count": 4,
   "id": "524ea7c0",
   "metadata": {},
   "outputs": [
    {
     "name": "stderr",
     "output_type": "stream",
     "text": [
      "Matplotlib is building the font cache; this may take a moment.\n"
     ]
    },
    {
     "name": "stdout",
     "output_type": "stream",
     "text": [
      "{'dataset': 'ogbl-collab', 'storage_dir': '../data/', 'embedding_config': './full_embedding.json', 'train_ratio': 0.3, 'hidden_dim': 128, 'max_hops': 4, 'num_threads': 'vast', 'max_epochs': 10, 'batch_size': 'vast', 'dim_feedforward': 128, 'nhead': 4, 'num_layers': 4, 'dropout': 0.1, 'store': 'model', 'save_text_embeddings': True, 'shallow': True, 'pre_scan': ['train'], 'adjust_no_neg_paths_samples': True, 'max_adjust': 5.0, 'positive_deviation': True, 'embedding': 'all', 'test_time': 4, 'num_ckpt': 2, 'scale_loss': True, 'chi2': False, 'lr': 0.001, 'wandb_project': 'thesis-graph'}\n"
     ]
    }
   ],
   "source": [
    "import os\n",
    "import json\n",
    "import pandas as pd\n",
    "import numpy as np\n",
    "import matplotlib.pyplot as plt\n",
    "import seaborn as sns\n",
    "from loader import PathDataModule\n",
    "from tqdm import tqdm\n",
    "\n",
    "# --- 1. Configuration and Data Loading ---\n",
    "config_path = 'full.json'\n",
    "config_data = json.load(open(config_path, 'r'))\n",
    "print(config_data)"
   ]
  },
  {
   "cell_type": "code",
   "execution_count": 2,
   "id": "25d7f189-3ec3-4ab7-8de1-414157b4c512",
   "metadata": {},
   "outputs": [
    {
     "name": "stdout",
     "output_type": "stream",
     "text": [
      "Not running on Vast.ai container, or failed to fetch instance info.\n",
      "Error: Not running on a Vast.ai container!\n"
     ]
    }
   ],
   "source": [
    "import os, requests, json, pprint\n",
    "\n",
    "try:\n",
    "    cid  = os.getenv(\"CONTAINER_ID\")          # ← set by Vast.ai inside every container\n",
    "    key  = os.getenv(\"CONTAINER_API_KEY\")     # ← scoped token for this one instance\n",
    "    assert cid and key, \"Not running on a Vast.ai container!\"\n",
    "\n",
    "    resp = requests.get(\n",
    "        f\"https://console.vast.ai/api/v0/instances/{cid}/\",\n",
    "        headers={\"Authorization\": f\"Bearer {key}\",\n",
    "                \"accept\": \"application/json\"},\n",
    "        timeout=10,\n",
    "    )\n",
    "\n",
    "    info = resp.json()\n",
    "    print(\"Effective vCPUs:\", info['instances'][\"cpu_cores_effective\"])\n",
    "    # print(info['instances'].keys())\n",
    "except Exception as e:\n",
    "    print(\"Not running on Vast.ai container, or failed to fetch instance info.\")\n",
    "    print(\"Error:\", e)"
   ]
  },
  {
   "cell_type": "code",
   "execution_count": 13,
   "id": "3e197402",
   "metadata": {},
   "outputs": [
    {
     "name": "stdout",
     "output_type": "stream",
     "text": [
      "Embedding config path: ./full_embedding.json\n"
     ]
    },
    {
     "data": {
      "text/plain": [
       "{'batch_size': 4096,\n",
       " 'lr': 0.001,\n",
       " 'epochs': 10,\n",
       " 'model_name': 'transe',\n",
       " 'hidden_channels': 128,\n",
       " 'p_norm': 2}"
      ]
     },
     "execution_count": 13,
     "metadata": {},
     "output_type": "execute_result"
    }
   ],
   "source": [
    "import json\n",
    "import os\n",
    "\n",
    "embedding_cfg_path = config_data['embedding_config'] # path to config file\n",
    "print(\"Embedding config path:\", embedding_cfg_path)\n",
    "# Read config from json file at embedding cfg path\n",
    "with open(embedding_cfg_path, 'r') as f:\n",
    "    embedding_cfg = json.load(f)\n",
    "    \n",
    "embedding_cfg"
   ]
  },
  {
   "cell_type": "code",
   "execution_count": 16,
   "id": "03a63495-3ce5-4c7d-b54d-767672d9d576",
   "metadata": {},
   "outputs": [
    {
     "name": "stdout",
     "output_type": "stream",
     "text": [
      "Save directory: ../data/transe/ogbl-collab/thesis-graph\n"
     ]
    }
   ],
   "source": [
    "\n",
    "\n",
    "# --- 2. Load exported JSON results from model.py ---\n",
    "\n",
    "# Construct the path to your export (update these variables as needed)\n",
    "save_dir = config_data['storage_dir'] + embedding_cfg['model_name'] + \\\n",
    "    \"/\" + config_data['dataset'] + \"/\" + config_data['wandb_project']\n",
    "    \n",
    "print(f\"Save directory: {save_dir}\")\n"
   ]
  },
  {
   "cell_type": "code",
   "execution_count": 18,
   "id": "614aa8ff",
   "metadata": {},
   "outputs": [
    {
     "name": "stdout",
     "output_type": "stream",
     "text": [
      "../data/transe/ogbl-collab/thesis-graph/0/train_val_0_raw.json\n"
     ]
    }
   ],
   "source": [
    "wandb_name = \"0\"      \n",
    "stage = \"val\"  # or \"test\"\n",
    "epoch = \"0\"  # e.g. \"9\"\n",
    "test_time = False  # set True if test_time\n",
    "\n",
    "prefix = \"test\" if test_time else \"train\"\n",
    "export_path = os.path.join(save_dir, wandb_name, f\"{prefix}_{stage}_{epoch}_raw.json\")\n",
    "print(export_path)"
   ]
  },
  {
   "cell_type": "code",
   "execution_count": 19,
   "id": "3a3c6075",
   "metadata": {},
   "outputs": [
    {
     "name": "stdout",
     "output_type": "stream",
     "text": [
      "Loaded 160084\n"
     ]
    }
   ],
   "source": [
    "# Load the JSON file\n",
    "with open(export_path, \"r\") as f:\n",
    "    export_items = json.load(f)\n",
    "\n",
    "print(f\"Loaded {len(export_items)}\")"
   ]
  },
  {
   "cell_type": "code",
   "execution_count": 52,
   "id": "11c7d9a1",
   "metadata": {},
   "outputs": [
    {
     "data": {
      "text/plain": [
       "{'score': 0.09943151473999023,\n",
       " 'length': 1,\n",
       " 'label': 1,\n",
       " 'has_neg': True,\n",
       " 'pos_dist': [11.837754249572754],\n",
       " 'neg_dist': [[10.281356811523438],\n",
       "  [10.281356811523438],\n",
       "  [10.281356811523438],\n",
       "  [10.281356811523438],\n",
       "  [10.34947681427002],\n",
       "  [11.837754249572754],\n",
       "  [11.837754249572754],\n",
       "  [11.837754249572754],\n",
       "  [10.65380859375],\n",
       "  [10.65380859375],\n",
       "  [10.65380859375],\n",
       "  [9.960492134094238],\n",
       "  [9.960492134094238],\n",
       "  [11.205546379089355],\n",
       "  [11.113570213317871],\n",
       "  [11.833039283752441],\n",
       "  [10.587995529174805],\n",
       "  [11.491482734680176],\n",
       "  [11.343835830688477],\n",
       "  [11.866433143615723]],\n",
       " 'adjusted_score': 4.09943151473999}"
      ]
     },
     "execution_count": 52,
     "metadata": {},
     "output_type": "execute_result"
    }
   ],
   "source": [
    "export_items[0]"
   ]
  },
  {
   "cell_type": "code",
   "execution_count": 67,
   "id": "50d64cec",
   "metadata": {},
   "outputs": [
    {
     "name": "stdout",
     "output_type": "stream",
     "text": [
      "Max hops: 4, Max adjust: 5.0\n"
     ]
    }
   ],
   "source": [
    "# recompute adjusted score\n",
    "max_hops = config_data['max_hops']\n",
    "max_adjust = config_data['max_adjust']\n",
    "print(f\"Max hops: {max_hops}, Max adjust: {max_adjust}\")"
   ]
  },
  {
   "cell_type": "code",
   "execution_count": 68,
   "id": "e9b9b26e",
   "metadata": {},
   "outputs": [
    {
     "name": "stderr",
     "output_type": "stream",
     "text": [
      "100%|██████████| 160084/160084 [00:00<00:00, 813324.63it/s]\n"
     ]
    },
    {
     "name": "stdout",
     "output_type": "stream",
     "text": [
      "Minimum length: 1\n"
     ]
    }
   ],
   "source": [
    "# length zero adjusted to max_hops + 2\n",
    "for item in tqdm(export_items):\n",
    "    if item['length'] == 0:\n",
    "        item['length'] = max_hops + 2\n",
    "\n",
    "min_length = min(item['length'] for item in export_items)\n",
    "print(f\"Minimum length: {min_length}\")"
   ]
  },
  {
   "cell_type": "code",
   "execution_count": 69,
   "id": "f7ebe84b",
   "metadata": {},
   "outputs": [
    {
     "name": "stderr",
     "output_type": "stream",
     "text": [
      "  0%|          | 0/160084 [00:00<?, ?it/s]"
     ]
    },
    {
     "name": "stderr",
     "output_type": "stream",
     "text": [
      "100%|██████████| 160084/160084 [00:00<00:00, 273830.31it/s]\n"
     ]
    }
   ],
   "source": [
    "# adjusted score\n",
    "for item in tqdm(export_items):\n",
    "    ratio = 1 - (item['length'] - min_length) / (max_hops + 1 - min_length)\n",
    "    item['adjusted_score'] = item['score'] + (ratio * max_adjust)"
   ]
  },
  {
   "cell_type": "code",
   "execution_count": 72,
   "id": "46e373eb",
   "metadata": {},
   "outputs": [
    {
     "data": {
      "text/plain": [
       "{'score': 0.0,\n",
       " 'length': 6,\n",
       " 'label': 1,\n",
       " 'has_neg': False,\n",
       " 'pos_dist': None,\n",
       " 'neg_dist': None,\n",
       " 'adjusted_score': -1.25}"
      ]
     },
     "execution_count": 72,
     "metadata": {},
     "output_type": "execute_result"
    }
   ],
   "source": [
    "export_items[3]"
   ]
  },
  {
   "cell_type": "code",
   "execution_count": 79,
   "id": "da35d4e6",
   "metadata": {},
   "outputs": [
    {
     "name": "stdout",
     "output_type": "stream",
     "text": [
      "Filtered non-zero items: 7083\n"
     ]
    }
   ],
   "source": [
    "# Get list of label 0 but non-zero length\n",
    "neg_items = [item for item in export_items if item['label'] == 0 and item['has_neg']]\n",
    "print(f\"Filtered non-zero items: {len(neg_items)}\")"
   ]
  },
  {
   "cell_type": "code",
   "execution_count": 80,
   "id": "f24aa22e",
   "metadata": {},
   "outputs": [
    {
     "data": {
      "text/plain": [
       "{'score': 0.1156584620475769,\n",
       " 'length': 4,\n",
       " 'label': 0,\n",
       " 'has_neg': True,\n",
       " 'pos_dist': [10.880391120910645,\n",
       "  9.0462646484375,\n",
       "  11.833160400390625,\n",
       "  11.009916305541992],\n",
       " 'neg_dist': [[10.880391120910645,\n",
       "   9.187994956970215,\n",
       "   9.84019947052002,\n",
       "   9.160685539245605],\n",
       "  [10.880391120910645, 9.187994956970215, 9.84019947052002, 9.070316314697266],\n",
       "  [11.834572792053223, 9.037266731262207, 9.06799030303955, 9.232804298400879],\n",
       "  [11.834572792053223, 9.037266731262207, 9.06799030303955, 9.232804298400879],\n",
       "  [11.834572792053223, 9.037266731262207, 9.06799030303955, 9.232804298400879],\n",
       "  [11.834572792053223, 9.037266731262207, 9.06799030303955, 9.158455848693848],\n",
       "  [11.834572792053223, 9.037266731262207, 9.06799030303955, 9.158455848693848],\n",
       "  [11.834572792053223, 9.037266731262207, 9.06799030303955, 9.158455848693848],\n",
       "  [10.880391120910645, 9.0462646484375, 8.9961576461792, 9.072173118591309],\n",
       "  [11.69300651550293, 9.3045654296875, 9.246265411376953, 9.40832233428955],\n",
       "  [11.834572792053223,\n",
       "   9.037266731262207,\n",
       "   9.203685760498047,\n",
       "   9.406335830688477],\n",
       "  [11.834572792053223,\n",
       "   9.037266731262207,\n",
       "   9.203685760498047,\n",
       "   9.406335830688477],\n",
       "  [11.834572792053223,\n",
       "   9.037266731262207,\n",
       "   9.203685760498047,\n",
       "   9.406335830688477],\n",
       "  [11.834572792053223, 9.037266731262207, 9.277726173400879, 9.82383918762207],\n",
       "  [11.834572792053223, 9.037266731262207, 9.277726173400879, 9.82383918762207],\n",
       "  [11.834572792053223, 9.037266731262207, 9.277726173400879, 9.82383918762207],\n",
       "  [11.69300651550293, 9.3045654296875, 9.246265411376953, 10.377616882324219],\n",
       "  [11.834572792053223, 9.037266731262207, 9.06799030303955, 9.868486404418945],\n",
       "  [11.834572792053223, 9.037266731262207, 9.06799030303955, 9.868486404418945],\n",
       "  [11.834572792053223,\n",
       "   9.037266731262207,\n",
       "   9.06799030303955,\n",
       "   9.868486404418945]],\n",
       " 'adjusted_score': 1.365658462047577}"
      ]
     },
     "execution_count": 80,
     "metadata": {},
     "output_type": "execute_result"
    }
   ],
   "source": [
    "neg_items[200]"
   ]
  },
  {
   "cell_type": "code",
   "execution_count": 81,
   "id": "bb49d476",
   "metadata": {},
   "outputs": [
    {
     "name": "stdout",
     "output_type": "stream",
     "text": [
      "Filtered positive items: 47553\n"
     ]
    }
   ],
   "source": [
    "pos_items = [item for item in export_items if item['label'] == 1 and item['has_neg']]\n",
    "print(f\"Filtered positive items: {len(pos_items)}\")"
   ]
  },
  {
   "cell_type": "code",
   "execution_count": 82,
   "id": "7bcb8f77",
   "metadata": {},
   "outputs": [
    {
     "data": {
      "text/plain": [
       "{'score': 0.10578328371047974,\n",
       " 'length': 4,\n",
       " 'label': 1,\n",
       " 'has_neg': True,\n",
       " 'pos_dist': [10.618992805480957,\n",
       "  11.806119918823242,\n",
       "  10.071521759033203,\n",
       "  11.036768913269043],\n",
       " 'neg_dist': [[10.258853912353516,\n",
       "   9.220107078552246,\n",
       "   11.754127502441406,\n",
       "   9.055917739868164],\n",
       "  [10.258853912353516,\n",
       "   9.220107078552246,\n",
       "   11.754127502441406,\n",
       "   9.055917739868164],\n",
       "  [10.258853912353516,\n",
       "   9.220107078552246,\n",
       "   11.754127502441406,\n",
       "   9.055917739868164],\n",
       "  [10.258853912353516,\n",
       "   9.220107078552246,\n",
       "   11.754127502441406,\n",
       "   9.055917739868164],\n",
       "  [10.258853912353516,\n",
       "   9.220107078552246,\n",
       "   11.754127502441406,\n",
       "   9.055917739868164],\n",
       "  [10.258853912353516,\n",
       "   9.220107078552246,\n",
       "   11.754127502441406,\n",
       "   9.055917739868164],\n",
       "  [10.258853912353516,\n",
       "   9.220107078552246,\n",
       "   11.754127502441406,\n",
       "   9.055917739868164],\n",
       "  [10.258853912353516,\n",
       "   9.220107078552246,\n",
       "   11.754127502441406,\n",
       "   10.539167404174805],\n",
       "  [9.720569610595703,\n",
       "   11.568655014038086,\n",
       "   9.324789047241211,\n",
       "   9.173327445983887],\n",
       "  [10.258853912353516,\n",
       "   9.220107078552246,\n",
       "   11.754127502441406,\n",
       "   10.484123229980469],\n",
       "  [10.258853912353516,\n",
       "   9.220107078552246,\n",
       "   11.754127502441406,\n",
       "   9.924982070922852],\n",
       "  [10.258853912353516,\n",
       "   9.220107078552246,\n",
       "   11.754127502441406,\n",
       "   9.80312728881836],\n",
       "  [10.025394439697266,\n",
       "   9.247379302978516,\n",
       "   9.087329864501953,\n",
       "   9.156309127807617],\n",
       "  [10.025394439697266,\n",
       "   9.247379302978516,\n",
       "   9.087329864501953,\n",
       "   9.156309127807617],\n",
       "  [10.258853912353516,\n",
       "   9.220107078552246,\n",
       "   11.754127502441406,\n",
       "   10.857178688049316],\n",
       "  [10.258853912353516,\n",
       "   9.220107078552246,\n",
       "   11.754127502441406,\n",
       "   9.135927200317383],\n",
       "  [11.760736465454102,\n",
       "   9.052434921264648,\n",
       "   8.945473670959473,\n",
       "   9.150959014892578],\n",
       "  [11.760736465454102,\n",
       "   9.052434921264648,\n",
       "   8.945473670959473,\n",
       "   9.150959014892578],\n",
       "  [10.258853912353516,\n",
       "   9.220107078552246,\n",
       "   11.754127502441406,\n",
       "   10.582503318786621],\n",
       "  [11.884639739990234,\n",
       "   9.24893856048584,\n",
       "   9.123000144958496,\n",
       "   9.306228637695312]],\n",
       " 'adjusted_score': 1.3557832837104797}"
      ]
     },
     "execution_count": 82,
     "metadata": {},
     "output_type": "execute_result"
    }
   ],
   "source": [
    "pos_items[100]"
   ]
  },
  {
   "cell_type": "code",
   "execution_count": 83,
   "id": "016de052",
   "metadata": {},
   "outputs": [
    {
     "name": "stdout",
     "output_type": "stream",
     "text": [
      "Top 50 negative items: 50\n"
     ]
    }
   ],
   "source": [
    "K = 50\n",
    "# Select top K items in negative highest adjsuted scores\n",
    "top_neg = sorted(neg_items, key=lambda x: x['adjusted_score'], reverse=True)[:K]\n",
    "print(f\"Top {K} negative items: {len(top_neg)}\")"
   ]
  },
  {
   "cell_type": "code",
   "execution_count": 84,
   "id": "c213404d",
   "metadata": {},
   "outputs": [
    {
     "data": {
      "text/plain": [
       "{'score': 0.04810476303100586,\n",
       " 'length': 2,\n",
       " 'label': 0,\n",
       " 'has_neg': True,\n",
       " 'pos_dist': [11.907910346984863, 11.800949096679688],\n",
       " 'neg_dist': [[11.65769100189209, 9.036953926086426],\n",
       "  [11.65769100189209, 9.158842086791992],\n",
       "  [11.65769100189209, 9.09864616394043],\n",
       "  [11.65769100189209, 9.19129467010498],\n",
       "  [11.65769100189209, 9.616718292236328],\n",
       "  [11.65769100189209, 9.363011360168457],\n",
       "  [11.65769100189209, 9.611128807067871],\n",
       "  [11.65769100189209, 9.94509506225586],\n",
       "  [11.65769100189209, 9.872747421264648],\n",
       "  [11.65769100189209, 10.084528923034668],\n",
       "  [11.65769100189209, 10.084528923034668],\n",
       "  [11.65769100189209, 10.397904396057129],\n",
       "  [11.65769100189209, 10.541487693786621],\n",
       "  [11.65769100189209, 10.541487693786621],\n",
       "  [11.65769100189209, 10.26445484161377],\n",
       "  [11.65769100189209, 10.238680839538574],\n",
       "  [11.65769100189209, 10.544231414794922],\n",
       "  [10.154446601867676, 10.298988342285156],\n",
       "  [11.65769100189209, 11.149565696716309],\n",
       "  [11.65769100189209, 11.149565696716309]],\n",
       " 'adjusted_score': 3.798104763031006}"
      ]
     },
     "execution_count": 84,
     "metadata": {},
     "output_type": "execute_result"
    }
   ],
   "source": [
    "top_neg[-1]"
   ]
  },
  {
   "cell_type": "code",
   "execution_count": null,
   "id": "de7b5e72",
   "metadata": {},
   "outputs": [
    {
     "name": "stdout",
     "output_type": "stream",
     "text": [
      "Top negative score: 3.798104763031006\n"
     ]
    }
   ],
   "source": [
    "top_neg_score = top_neg[-1]['adjusted_score']\n",
    "print(f\"Top negative score: {top_neg_score}\")"
   ]
  },
  {
   "cell_type": "code",
   "execution_count": 86,
   "id": "d1a1206b",
   "metadata": {},
   "outputs": [
    {
     "name": "stdout",
     "output_type": "stream",
     "text": [
      "Top positive items: 47553\n"
     ]
    }
   ],
   "source": [
    "# Sort the positive items by adjusted score\n",
    "top_pos = sorted(pos_items, key=lambda x: x['adjusted_score'], reverse=True)\n",
    "print(f\"Top positive items: {len(top_pos)}\")"
   ]
  },
  {
   "cell_type": "code",
   "execution_count": 88,
   "id": "7a72644e",
   "metadata": {},
   "outputs": [
    {
     "data": {
      "text/plain": [
       "{'score': 0.0,\n",
       " 'length': 4,\n",
       " 'label': 1,\n",
       " 'has_neg': True,\n",
       " 'pos_dist': [8.87608814239502,\n",
       "  9.663317680358887,\n",
       "  11.870468139648438,\n",
       "  9.194988250732422],\n",
       " 'neg_dist': [[8.87608814239502,\n",
       "   9.00528335571289,\n",
       "   9.917184829711914,\n",
       "   9.127494812011719],\n",
       "  [8.87608814239502, 9.00528335571289, 9.917184829711914, 9.127494812011719],\n",
       "  [8.87608814239502, 9.00528335571289, 9.917184829711914, 9.127494812011719],\n",
       "  [8.87608814239502, 9.00528335571289, 10.477001190185547, 9.342772483825684],\n",
       "  [8.87608814239502, 9.00528335571289, 10.477001190185547, 9.342772483825684],\n",
       "  [8.87608814239502, 9.00528335571289, 10.477001190185547, 9.342772483825684],\n",
       "  [8.87608814239502, 9.00528335571289, 10.477001190185547, 9.904752731323242],\n",
       "  [8.87608814239502, 9.00528335571289, 10.477001190185547, 9.904752731323242],\n",
       "  [8.87608814239502, 9.00528335571289, 10.477001190185547, 9.904752731323242],\n",
       "  [8.87608814239502, 9.00528335571289, 10.477001190185547, 9.904752731323242],\n",
       "  [8.87608814239502, 9.00528335571289, 10.477001190185547, 9.904752731323242],\n",
       "  [8.87608814239502, 9.00528335571289, 10.477001190185547, 9.904752731323242],\n",
       "  [8.87608814239502, 9.00528335571289, 10.477001190185547, 9.904752731323242],\n",
       "  [8.87608814239502, 9.00528335571289, 10.477001190185547, 9.904752731323242],\n",
       "  [8.87608814239502, 9.00528335571289, 10.477001190185547, 9.904752731323242],\n",
       "  [8.87608814239502, 9.077886581420898, 9.048587799072266, 9.827238082885742],\n",
       "  [8.87608814239502, 9.077886581420898, 9.048587799072266, 9.827238082885742],\n",
       "  [8.87608814239502, 9.077886581420898, 9.048587799072266, 9.827238082885742],\n",
       "  [8.87608814239502, 9.077886581420898, 9.048587799072266, 9.827238082885742],\n",
       "  [8.87608814239502, 9.077886581420898, 9.048587799072266, 9.827238082885742]],\n",
       " 'adjusted_score': 1.25}"
      ]
     },
     "execution_count": 88,
     "metadata": {},
     "output_type": "execute_result"
    }
   ],
   "source": [
    "top_pos[-1]"
   ]
  },
  {
   "cell_type": "code",
   "execution_count": 100,
   "id": "d3816912",
   "metadata": {},
   "outputs": [
    {
     "data": {
      "text/plain": [
       "28221"
      ]
     },
     "execution_count": 100,
     "metadata": {},
     "output_type": "execute_result"
    }
   ],
   "source": [
    "# How many pos items higher adjusted scores than last item in top_neg\n",
    "higher_pos = [\n",
    "    item for item in top_pos if item['adjusted_score'] > top_neg_score]\n",
    "len(higher_pos)"
   ]
  },
  {
   "cell_type": "code",
   "execution_count": 101,
   "id": "48c50508",
   "metadata": {},
   "outputs": [
    {
     "data": {
      "text/plain": [
       "0.593464134754905"
      ]
     },
     "execution_count": 101,
     "metadata": {},
     "output_type": "execute_result"
    }
   ],
   "source": [
    "len(higher_pos) / len(pos_items)"
   ]
  },
  {
   "cell_type": "code",
   "execution_count": 212,
   "id": "ae7a8d16",
   "metadata": {},
   "outputs": [
    {
     "data": {
      "text/plain": [
       "{'score': 0.5525299906730652,\n",
       " 'length': 1,\n",
       " 'label': 0,\n",
       " 'has_neg': True,\n",
       " 'pos_dist': [10.340187072753906],\n",
       " 'neg_dist': [[10.9002046585083],\n",
       "  [10.036107063293457],\n",
       "  [10.908438682556152],\n",
       "  [11.678206443786621],\n",
       "  [11.931611061096191],\n",
       "  [9.94173812866211],\n",
       "  [10.060835838317871],\n",
       "  [9.959172248840332],\n",
       "  [10.111923217773438],\n",
       "  [10.485343933105469],\n",
       "  [11.073307037353516],\n",
       "  [10.134439468383789],\n",
       "  [10.20603084564209],\n",
       "  [10.360928535461426],\n",
       "  [10.773707389831543],\n",
       "  [10.060410499572754],\n",
       "  [11.012125968933105],\n",
       "  [9.097715377807617],\n",
       "  [10.538289070129395],\n",
       "  [9.367842674255371]],\n",
       " 'adjusted_score': 5.552529990673065}"
      ]
     },
     "execution_count": 212,
     "metadata": {},
     "output_type": "execute_result"
    }
   ],
   "source": [
    "top_neg[2]"
   ]
  },
  {
   "cell_type": "code",
   "execution_count": 210,
   "id": "75da4064",
   "metadata": {},
   "outputs": [
    {
     "data": {
      "text/plain": [
       "{'score': 0.05698955059051514,\n",
       " 'length': 2,\n",
       " 'label': 1,\n",
       " 'has_neg': True,\n",
       " 'pos_dist': [11.744134902954102, 9.308808326721191],\n",
       " 'neg_dist': [[10.79800033569336, 9.019627571105957],\n",
       "  [10.79800033569336, 9.019627571105957],\n",
       "  [10.79800033569336, 9.019627571105957],\n",
       "  [10.79800033569336, 9.019627571105957],\n",
       "  [10.79800033569336, 9.019627571105957],\n",
       "  [10.79800033569336, 9.019627571105957],\n",
       "  [10.20862865447998, 9.302032470703125],\n",
       "  [10.20862865447998, 9.302032470703125],\n",
       "  [10.20862865447998, 9.254949569702148],\n",
       "  [10.20862865447998, 9.254949569702148],\n",
       "  [10.79800033569336, 8.999908447265625],\n",
       "  [10.057108879089355, 9.060296058654785],\n",
       "  [10.057108879089355, 9.060296058654785],\n",
       "  [10.79800033569336, 9.187488555908203],\n",
       "  [10.057108879089355, 9.345187187194824],\n",
       "  [10.057108879089355, 9.345187187194824],\n",
       "  [10.057108879089355, 9.345187187194824],\n",
       "  [10.057108879089355, 9.345187187194824],\n",
       "  [11.744134902954102, 9.238731384277344],\n",
       "  [10.20862865447998, 9.516009330749512]],\n",
       " 'adjusted_score': 3.806989550590515}"
      ]
     },
     "execution_count": 210,
     "metadata": {},
     "output_type": "execute_result"
    }
   ],
   "source": [
    "higher_pos[-1]"
   ]
  },
  {
   "cell_type": "code",
   "execution_count": 202,
   "id": "7acfc1ee",
   "metadata": {},
   "outputs": [
    {
     "name": "stdout",
     "output_type": "stream",
     "text": [
      "Example item: {'score': 0.8055481314659119, 'length': 2, 'label': 0, 'has_neg': True, 'pos_dist': [9.02879810333252, 11.814641952514648], 'neg_dist': [[10.189638137817383, 11.470064163208008], [10.908744812011719, 11.718202590942383], [11.769558906555176, 11.77409553527832], [11.769558906555176, 11.77409553527832], [11.769558906555176, 12.102071762084961], [11.769558906555176, 12.102071762084961], [10.075501441955566, 11.720455169677734], [10.47824478149414, 10.513073921203613], [10.485727310180664, 10.92050552368164], [11.769558906555176, 11.358835220336914], [11.769558906555176, 11.358835220336914], [11.769558906555176, 11.358835220336914], [11.769558906555176, 11.358835220336914], [10.54875373840332, 10.767017364501953], [10.389164924621582, 11.487698554992676], [10.485727310180664, 10.481659889221191], [11.002202987670898, 10.045196533203125], [11.002202987670898, 10.045196533203125], [11.002202987670898, 10.045196533203125], [11.769558906555176, 11.552481651306152]], 'adjusted_score': 4.555548131465912}\n"
     ]
    }
   ],
   "source": [
    "# example = top_pos[30000]\n",
    "example = top_neg[-30]\n",
    "print(f\"Example item: {example}\")"
   ]
  },
  {
   "cell_type": "code",
   "execution_count": 203,
   "id": "5e564b9b",
   "metadata": {},
   "outputs": [],
   "source": [
    "pos = np.array(example['pos_dist'])\n",
    "neg = np.array(example['neg_dist'])"
   ]
  },
  {
   "cell_type": "code",
   "execution_count": 204,
   "id": "8a0e824d",
   "metadata": {},
   "outputs": [
    {
     "data": {
      "text/plain": [
       "((2,), (20, 2))"
      ]
     },
     "execution_count": 204,
     "metadata": {},
     "output_type": "execute_result"
    }
   ],
   "source": [
    "pos.shape, neg.shape"
   ]
  },
  {
   "cell_type": "code",
   "execution_count": 205,
   "id": "3723395e",
   "metadata": {},
   "outputs": [
    {
     "name": "stdout",
     "output_type": "stream",
     "text": [
      "[11.12470708 11.1977212 ] [0.62915026 0.65042252]\n"
     ]
    }
   ],
   "source": [
    "mean, std = np.mean(neg, axis=0), np.std(neg, axis=0, ddof=0)\n",
    "print(mean, std)"
   ]
  },
  {
   "cell_type": "code",
   "execution_count": 206,
   "id": "0a825f42",
   "metadata": {},
   "outputs": [
    {
     "name": "stdout",
     "output_type": "stream",
     "text": [
      "[-3.33133286  0.94849229] -1.1914202810395529\n"
     ]
    }
   ],
   "source": [
    "z = (pos - mean) / (std + 1e-8)\n",
    "mean_z = np.mean(z)\n",
    "print(z, mean_z)"
   ]
  },
  {
   "cell_type": "code",
   "execution_count": 207,
   "id": "bcff3d97",
   "metadata": {},
   "outputs": [
    {
     "name": "stdout",
     "output_type": "stream",
     "text": [
      "Arcsinh mean z: -1.0104689225626229\n"
     ]
    }
   ],
   "source": [
    "# arcsinh(mean z)\n",
    "arcsinh_mean_z = np.arcsinh(mean_z)\n",
    "print(f\"Arcsinh mean z: {arcsinh_mean_z}\")"
   ]
  },
  {
   "cell_type": "code",
   "execution_count": null,
   "id": "e76604b5",
   "metadata": {},
   "outputs": [],
   "source": []
  }
 ],
 "metadata": {
  "kernelspec": {
   "display_name": "graphml",
   "language": "python",
   "name": "python3"
  },
  "language_info": {
   "codemirror_mode": {
    "name": "ipython",
    "version": 3
   },
   "file_extension": ".py",
   "mimetype": "text/x-python",
   "name": "python",
   "nbconvert_exporter": "python",
   "pygments_lexer": "ipython3",
   "version": "3.11.8"
  }
 },
 "nbformat": 4,
 "nbformat_minor": 5
}

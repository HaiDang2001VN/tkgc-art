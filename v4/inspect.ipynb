{
 "cells": [
  {
   "cell_type": "code",
   "execution_count": 195,
   "id": "524ea7c0",
   "metadata": {},
   "outputs": [
    {
     "name": "stdout",
     "output_type": "stream",
     "text": [
      "{'dataset': 'ogbl-collab', 'storage_dir': '../data/', 'embedding_config': './full_embedding.json', 'train_ratio': 0.3, 'hidden_dim': 128, 'max_hops': 4, 'num_neg': 50, 'num_threads': 'vast', 'max_epochs': 10, 'batch_size': 'vast', 'dim_feedforward': 128, 'nhead': 4, 'num_layers': 4, 'dropout': 0.1, 'store': 'model', 'save_text_embeddings': True, 'shallow': True, 'pre_scan': ['train'], 'adjust_no_neg_paths_samples': True, 'max_adjust': 5.0, 'positive_deviation': True, 'embedding': 'all', 'test_time': 4, 'num_ckpt': 2, 'scale_loss': True, 'chi2': False, 'lr': 0.0001, 'wandb_project': 'thesis-graph'}\n"
     ]
    }
   ],
   "source": [
    "import os\n",
    "import json\n",
    "import pandas as pd\n",
    "import numpy as np\n",
    "import matplotlib.pyplot as plt\n",
    "import seaborn as sns\n",
    "from loader import PathDataModule\n",
    "from tqdm import tqdm\n",
    "\n",
    "# --- 1. Configuration and Data Loading ---\n",
    "config_path = 'full.json'\n",
    "config_data = json.load(open(config_path, 'r'))\n",
    "print(config_data)"
   ]
  },
  {
   "cell_type": "code",
   "execution_count": 196,
   "id": "9ce40a47",
   "metadata": {},
   "outputs": [],
   "source": [
    "import torch"
   ]
  },
  {
   "cell_type": "code",
   "execution_count": 197,
   "id": "25d7f189-3ec3-4ab7-8de1-414157b4c512",
   "metadata": {},
   "outputs": [
    {
     "name": "stdout",
     "output_type": "stream",
     "text": [
      "Not running on Vast.ai container, or failed to fetch instance info.\n",
      "Error: Not running on a Vast.ai container!\n"
     ]
    }
   ],
   "source": [
    "import os, requests, json, pprint\n",
    "\n",
    "try:\n",
    "    cid  = os.getenv(\"CONTAINER_ID\")          # ← set by Vast.ai inside every container\n",
    "    key  = os.getenv(\"CONTAINER_API_KEY\")     # ← scoped token for this one instance\n",
    "    assert cid and key, \"Not running on a Vast.ai container!\"\n",
    "\n",
    "    resp = requests.get(\n",
    "        f\"https://console.vast.ai/api/v0/instances/{cid}/\",\n",
    "        headers={\"Authorization\": f\"Bearer {key}\",\n",
    "                \"accept\": \"application/json\"},\n",
    "        timeout=10,\n",
    "    )\n",
    "\n",
    "    info = resp.json()\n",
    "    print(\"Effective vCPUs:\", info['instances'][\"cpu_cores_effective\"])\n",
    "    # print(info['instances'].keys())\n",
    "except Exception as e:\n",
    "    print(\"Not running on Vast.ai container, or failed to fetch instance info.\")\n",
    "    print(\"Error:\", e)"
   ]
  },
  {
   "cell_type": "code",
   "execution_count": 198,
   "id": "3e197402",
   "metadata": {},
   "outputs": [
    {
     "name": "stdout",
     "output_type": "stream",
     "text": [
      "Embedding config path: ./full_embedding.json\n"
     ]
    },
    {
     "data": {
      "text/plain": [
       "{'batch_size': 4096,\n",
       " 'lr': 0.001,\n",
       " 'epochs': 10,\n",
       " 'model_name': 'transe',\n",
       " 'hidden_channels': 128,\n",
       " 'p_norm': 2}"
      ]
     },
     "execution_count": 198,
     "metadata": {},
     "output_type": "execute_result"
    }
   ],
   "source": [
    "import json\n",
    "import os\n",
    "\n",
    "embedding_cfg_path = config_data['embedding_config'] # path to config file\n",
    "print(\"Embedding config path:\", embedding_cfg_path)\n",
    "# Read config from json file at embedding cfg path\n",
    "with open(embedding_cfg_path, 'r') as f:\n",
    "    embedding_cfg = json.load(f)\n",
    "    \n",
    "embedding_cfg"
   ]
  },
  {
   "cell_type": "code",
   "execution_count": 199,
   "id": "03a63495-3ce5-4c7d-b54d-767672d9d576",
   "metadata": {},
   "outputs": [
    {
     "name": "stdout",
     "output_type": "stream",
     "text": [
      "Save directory: ../data/transe/ogbl-collab/thesis-graph\n"
     ]
    }
   ],
   "source": [
    "\n",
    "\n",
    "# --- 2. Load exported JSON results from model.py ---\n",
    "\n",
    "# Construct the path to your export (update these variables as needed)\n",
    "save_dir = config_data['storage_dir'] + embedding_cfg['model_name'] + \\\n",
    "    \"/\" + config_data['dataset'] + \"/\" + config_data['wandb_project']\n",
    "    \n",
    "print(f\"Save directory: {save_dir}\")\n"
   ]
  },
  {
   "cell_type": "code",
   "execution_count": 200,
   "id": "614aa8ff",
   "metadata": {},
   "outputs": [
    {
     "name": "stdout",
     "output_type": "stream",
     "text": [
      "../data/transe/ogbl-collab/thesis-graph/1/train_val_0_raw.json\n"
     ]
    }
   ],
   "source": [
    "wandb_name = \"1\"      \n",
    "stage = \"val\"  # or \"test\"\n",
    "epoch = \"0\"  # e.g. \"9\"\n",
    "test_time = False  # set True if test_time\n",
    "\n",
    "prefix = \"test\" if test_time else \"train\"\n",
    "export_path = os.path.join(save_dir, wandb_name, f\"{prefix}_{stage}_{epoch}_raw.json\")\n",
    "print(export_path)"
   ]
  },
  {
   "cell_type": "code",
   "execution_count": 201,
   "id": "3a3c6075",
   "metadata": {},
   "outputs": [
    {
     "name": "stdout",
     "output_type": "stream",
     "text": [
      "Loaded 160084\n"
     ]
    }
   ],
   "source": [
    "# Load the JSON file\n",
    "with open(export_path, \"r\") as f:\n",
    "    export_items = json.load(f)\n",
    "\n",
    "print(f\"Loaded {len(export_items)}\")"
   ]
  },
  {
   "cell_type": "code",
   "execution_count": 202,
   "id": "11c7d9a1",
   "metadata": {},
   "outputs": [
    {
     "data": {
      "text/plain": [
       "{'score': 0.10174286365509033,\n",
       " 'length': 1,\n",
       " 'label': 1,\n",
       " 'has_neg': True,\n",
       " 'pos_dist': [22.353134155273438],\n",
       " 'neg_dist': [[21.08070182800293],\n",
       "  [21.08070182800293],\n",
       "  [21.08070182800293],\n",
       "  [21.08070182800293],\n",
       "  [20.94063949584961],\n",
       "  [22.353134155273438],\n",
       "  [22.353134155273438],\n",
       "  [22.353134155273438],\n",
       "  [21.128007888793945],\n",
       "  [21.128007888793945],\n",
       "  [21.128007888793945],\n",
       "  [21.313785552978516],\n",
       "  [21.313785552978516],\n",
       "  [21.754823684692383],\n",
       "  [21.798219680786133],\n",
       "  [22.58941650390625],\n",
       "  [21.19548225402832],\n",
       "  [22.160743713378906],\n",
       "  [21.9285831451416],\n",
       "  [22.265535354614258]],\n",
       " 'adjusted_score': 4.101742744445801}"
      ]
     },
     "execution_count": 202,
     "metadata": {},
     "output_type": "execute_result"
    }
   ],
   "source": [
    "export_items[0]"
   ]
  },
  {
   "cell_type": "code",
   "execution_count": 203,
   "id": "50d64cec",
   "metadata": {},
   "outputs": [
    {
     "name": "stdout",
     "output_type": "stream",
     "text": [
      "Max hops: 4, Max adjust: 5.0\n"
     ]
    }
   ],
   "source": [
    "# recompute adjusted score\n",
    "max_hops = config_data['max_hops']\n",
    "max_adjust = config_data['max_adjust']\n",
    "print(f\"Max hops: {max_hops}, Max adjust: {max_adjust}\")"
   ]
  },
  {
   "cell_type": "code",
   "execution_count": 204,
   "id": "e9b9b26e",
   "metadata": {},
   "outputs": [
    {
     "name": "stderr",
     "output_type": "stream",
     "text": [
      "100%|██████████| 160084/160084 [00:00<00:00, 485473.88it/s]"
     ]
    },
    {
     "name": "stdout",
     "output_type": "stream",
     "text": [
      "Minimum length: 1\n"
     ]
    },
    {
     "name": "stderr",
     "output_type": "stream",
     "text": [
      "\n"
     ]
    }
   ],
   "source": [
    "# length zero adjusted to max_hops + 2\n",
    "for item in tqdm(export_items):\n",
    "    if item['length'] == 0:\n",
    "        item['length'] = max_hops + 2\n",
    "\n",
    "min_length = min(item['length'] for item in export_items)\n",
    "print(f\"Minimum length: {min_length}\")"
   ]
  },
  {
   "cell_type": "code",
   "execution_count": 205,
   "id": "f7ebe84b",
   "metadata": {},
   "outputs": [
    {
     "name": "stderr",
     "output_type": "stream",
     "text": [
      "100%|██████████| 160084/160084 [00:00<00:00, 442243.14it/s]\n"
     ]
    }
   ],
   "source": [
    "# adjusted score\n",
    "for item in tqdm(export_items):\n",
    "    # ratio = 1 - (item['length'] - min_length) / (max_hops + 1 - min_length)\n",
    "    # item['adjusted_score'] = item['score'] + (ratio * max_adjust)\n",
    "    item['adjusted_score'] = item['score']"
   ]
  },
  {
   "cell_type": "code",
   "execution_count": 206,
   "id": "ede36376",
   "metadata": {},
   "outputs": [
    {
     "name": "stderr",
     "output_type": "stream",
     "text": [
      "100%|██████████| 160084/160084 [00:03<00:00, 45523.87it/s] \n"
     ]
    }
   ],
   "source": [
    "# Re-compute the percentile pos for each items in given export_items\n",
    "for item in tqdm(export_items):\n",
    "    if item['pos_dist'] is not None:\n",
    "        pos = torch.tensor(item['pos_dist'])\n",
    "        if item['neg_dist'] is None:\n",
    "            item['percentile_pos'] = 1.0\n",
    "            continue\n",
    "        \n",
    "        neg = torch.tensor(item['neg_dist'])\n",
    "        \n",
    "        if config_data[\"positive_deviation\"]:\n",
    "            neg = torch.cat([neg, pos.unsqueeze(0)], dim=0)\n",
    "        \n",
    "        mean, std = neg.mean(0), neg.std(0, correction=0)\n",
    "        z = torch.where(std > 1e-4, (pos - mean) / std,\n",
    "                        torch.zeros(pos.shape, dtype=pos.dtype, device=pos.device))\n",
    "        mean_z = z.mean()\n",
    "    \n",
    "        item['loss'] = mean_z.item() if config_data['scale_loss'] else torch.asinh(mean_z).item()\n",
    "        item['percentile_pos'] = 1.0 - torch.special.ndtr(mean_z).item()\n",
    "    else:\n",
    "        item['percentile_pos'] = 0.0"
   ]
  },
  {
   "cell_type": "code",
   "execution_count": 207,
   "id": "46e373eb",
   "metadata": {},
   "outputs": [
    {
     "data": {
      "text/plain": [
       "{'score': 0.0,\n",
       " 'length': 6,\n",
       " 'label': 1,\n",
       " 'has_neg': False,\n",
       " 'pos_dist': None,\n",
       " 'neg_dist': None,\n",
       " 'adjusted_score': 0.0,\n",
       " 'percentile_pos': 0.0}"
      ]
     },
     "execution_count": 207,
     "metadata": {},
     "output_type": "execute_result"
    }
   ],
   "source": [
    "export_items[3]"
   ]
  },
  {
   "cell_type": "code",
   "execution_count": 208,
   "id": "da35d4e6",
   "metadata": {},
   "outputs": [
    {
     "name": "stdout",
     "output_type": "stream",
     "text": [
      "Filtered non-zero items: 7083\n"
     ]
    }
   ],
   "source": [
    "# Get list of label 0 but non-zero length\n",
    "neg_items = [item for item in export_items if item['label'] == 0 and item['has_neg']]\n",
    "print(f\"Filtered non-zero items: {len(neg_items)}\")"
   ]
  },
  {
   "cell_type": "code",
   "execution_count": 209,
   "id": "f24aa22e",
   "metadata": {},
   "outputs": [
    {
     "data": {
      "text/plain": [
       "{'score': 0.07763171195983887,\n",
       " 'length': 4,\n",
       " 'label': 0,\n",
       " 'has_neg': True,\n",
       " 'pos_dist': [21.756620407104492,\n",
       "  20.32785987854004,\n",
       "  22.24242401123047,\n",
       "  21.86017417907715],\n",
       " 'neg_dist': [[21.756620407104492,\n",
       "   20.529212951660156,\n",
       "   20.60442352294922,\n",
       "   20.41798973083496],\n",
       "  [21.756620407104492,\n",
       "   20.529212951660156,\n",
       "   20.60442352294922,\n",
       "   20.450239181518555],\n",
       "  [22.24396324157715, 20.29498863220215, 20.3772029876709, 20.47519302368164],\n",
       "  [22.24396324157715, 20.29498863220215, 20.3772029876709, 20.47519302368164],\n",
       "  [22.24396324157715, 20.29498863220215, 20.3772029876709, 20.47519302368164],\n",
       "  [22.24396324157715, 20.29498863220215, 20.3772029876709, 20.376419067382812],\n",
       "  [22.24396324157715, 20.29498863220215, 20.3772029876709, 20.376419067382812],\n",
       "  [22.24396324157715, 20.29498863220215, 20.3772029876709, 20.376419067382812],\n",
       "  [21.756620407104492,\n",
       "   20.32785987854004,\n",
       "   20.29673194885254,\n",
       "   20.334518432617188],\n",
       "  [22.20726203918457,\n",
       "   20.6400089263916,\n",
       "   20.394393920898438,\n",
       "   20.238073348999023],\n",
       "  [22.24396324157715,\n",
       "   20.29498863220215,\n",
       "   20.37936782836914,\n",
       "   20.570438385009766],\n",
       "  [22.24396324157715,\n",
       "   20.29498863220215,\n",
       "   20.37936782836914,\n",
       "   20.570438385009766],\n",
       "  [22.24396324157715,\n",
       "   20.29498863220215,\n",
       "   20.37936782836914,\n",
       "   20.570438385009766],\n",
       "  [22.24396324157715,\n",
       "   20.29498863220215,\n",
       "   20.190731048583984,\n",
       "   20.876811981201172],\n",
       "  [22.24396324157715,\n",
       "   20.29498863220215,\n",
       "   20.190731048583984,\n",
       "   20.876811981201172],\n",
       "  [22.24396324157715,\n",
       "   20.29498863220215,\n",
       "   20.190731048583984,\n",
       "   20.876811981201172],\n",
       "  [22.20726203918457,\n",
       "   20.6400089263916,\n",
       "   20.394393920898438,\n",
       "   20.692649841308594],\n",
       "  [22.24396324157715, 20.29498863220215, 20.3772029876709, 20.814237594604492],\n",
       "  [22.24396324157715, 20.29498863220215, 20.3772029876709, 20.814237594604492],\n",
       "  [22.24396324157715,\n",
       "   20.29498863220215,\n",
       "   20.3772029876709,\n",
       "   20.814237594604492]],\n",
       " 'adjusted_score': 0.07763171195983887,\n",
       " 'loss': 1.4211945533752441,\n",
       " 'percentile_pos': 0.07763016223907471}"
      ]
     },
     "execution_count": 209,
     "metadata": {},
     "output_type": "execute_result"
    }
   ],
   "source": [
    "neg_items[200]"
   ]
  },
  {
   "cell_type": "code",
   "execution_count": 210,
   "id": "bb49d476",
   "metadata": {},
   "outputs": [
    {
     "name": "stdout",
     "output_type": "stream",
     "text": [
      "Filtered positive items: 47553\n"
     ]
    }
   ],
   "source": [
    "pos_items = [item for item in export_items if item['label'] == 1 and item['has_neg']]\n",
    "print(f\"Filtered positive items: {len(pos_items)}\")"
   ]
  },
  {
   "cell_type": "code",
   "execution_count": 211,
   "id": "7bcb8f77",
   "metadata": {},
   "outputs": [
    {
     "data": {
      "text/plain": [
       "{'score': 0.10174286365509033,\n",
       " 'length': 1,\n",
       " 'label': 1,\n",
       " 'has_neg': True,\n",
       " 'pos_dist': [22.353134155273438],\n",
       " 'neg_dist': [[21.08070182800293],\n",
       "  [21.08070182800293],\n",
       "  [21.08070182800293],\n",
       "  [21.08070182800293],\n",
       "  [20.94063949584961],\n",
       "  [22.353134155273438],\n",
       "  [22.353134155273438],\n",
       "  [22.353134155273438],\n",
       "  [21.128007888793945],\n",
       "  [21.128007888793945],\n",
       "  [21.128007888793945],\n",
       "  [21.313785552978516],\n",
       "  [21.313785552978516],\n",
       "  [21.754823684692383],\n",
       "  [21.798219680786133],\n",
       "  [22.58941650390625],\n",
       "  [21.19548225402832],\n",
       "  [22.160743713378906],\n",
       "  [21.9285831451416],\n",
       "  [22.265535354614258]],\n",
       " 'adjusted_score': 0.10174286365509033,\n",
       " 'loss': 1.2716835737228394,\n",
       " 'percentile_pos': 0.10174286365509033}"
      ]
     },
     "execution_count": 211,
     "metadata": {},
     "output_type": "execute_result"
    }
   ],
   "source": [
    "pos_items[0]"
   ]
  },
  {
   "cell_type": "code",
   "execution_count": 237,
   "id": "016de052",
   "metadata": {},
   "outputs": [
    {
     "name": "stdout",
     "output_type": "stream",
     "text": [
      "Top 500 negative items: 500\n"
     ]
    }
   ],
   "source": [
    "K = 500\n",
    "# Select top K items in negative highest adjsuted scores\n",
    "top_neg = sorted(\n",
    "    neg_items, key=lambda x: x['percentile_pos'], reverse=True)[:K]\n",
    "print(f\"Top {K} negative items: {len(top_neg)}\")"
   ]
  },
  {
   "cell_type": "code",
   "execution_count": 238,
   "id": "c213404d",
   "metadata": {},
   "outputs": [
    {
     "data": {
      "text/plain": [
       "{'score': 0.8685190081596375,\n",
       " 'length': 4,\n",
       " 'label': 0,\n",
       " 'has_neg': True,\n",
       " 'pos_dist': [21.195392608642578,\n",
       "  22.33131980895996,\n",
       "  20.51560401916504,\n",
       "  22.107666015625],\n",
       " 'neg_dist': [[21.525774002075195,\n",
       "   20.74609375,\n",
       "   21.451709747314453,\n",
       "   22.30440330505371],\n",
       "  [21.525774002075195, 20.74609375, 21.451709747314453, 22.30440330505371],\n",
       "  [22.425880432128906,\n",
       "   22.030746459960938,\n",
       "   22.21149253845215,\n",
       "   20.321128845214844],\n",
       "  [22.425880432128906,\n",
       "   22.030746459960938,\n",
       "   22.21149253845215,\n",
       "   20.321128845214844],\n",
       "  [22.425880432128906,\n",
       "   22.030746459960938,\n",
       "   22.21149253845215,\n",
       "   20.321128845214844],\n",
       "  [22.425880432128906,\n",
       "   22.030746459960938,\n",
       "   22.21149253845215,\n",
       "   20.9583740234375],\n",
       "  [22.425880432128906,\n",
       "   22.030746459960938,\n",
       "   22.21149253845215,\n",
       "   20.9583740234375],\n",
       "  [22.425880432128906,\n",
       "   22.030746459960938,\n",
       "   22.21149253845215,\n",
       "   20.9583740234375],\n",
       "  [22.425880432128906,\n",
       "   22.030746459960938,\n",
       "   22.21149253845215,\n",
       "   22.2542667388916],\n",
       "  [22.425880432128906,\n",
       "   22.030746459960938,\n",
       "   22.21149253845215,\n",
       "   22.2542667388916],\n",
       "  [22.425880432128906,\n",
       "   22.030746459960938,\n",
       "   22.21149253845215,\n",
       "   22.2542667388916],\n",
       "  [22.425880432128906,\n",
       "   22.030746459960938,\n",
       "   22.21149253845215,\n",
       "   20.68160057067871],\n",
       "  [22.425880432128906,\n",
       "   22.030746459960938,\n",
       "   22.21149253845215,\n",
       "   20.68160057067871],\n",
       "  [22.425880432128906,\n",
       "   22.030746459960938,\n",
       "   22.21149253845215,\n",
       "   20.68160057067871],\n",
       "  [22.425880432128906,\n",
       "   22.030746459960938,\n",
       "   22.21149253845215,\n",
       "   20.351682662963867],\n",
       "  [22.425880432128906,\n",
       "   22.030746459960938,\n",
       "   22.21149253845215,\n",
       "   20.351682662963867],\n",
       "  [22.425880432128906,\n",
       "   22.030746459960938,\n",
       "   22.21149253845215,\n",
       "   20.351682662963867],\n",
       "  [22.425880432128906,\n",
       "   22.030746459960938,\n",
       "   22.21149253845215,\n",
       "   21.29059600830078],\n",
       "  [22.425880432128906,\n",
       "   22.030746459960938,\n",
       "   22.21149253845215,\n",
       "   21.29059600830078],\n",
       "  [22.425880432128906,\n",
       "   22.030746459960938,\n",
       "   22.21149253845215,\n",
       "   21.29059600830078]],\n",
       " 'adjusted_score': 0.8685190081596375,\n",
       " 'loss': -1.1194117069244385,\n",
       " 'percentile_pos': 0.86851766705513}"
      ]
     },
     "execution_count": 238,
     "metadata": {},
     "output_type": "execute_result"
    }
   ],
   "source": [
    "top_neg[-1]"
   ]
  },
  {
   "cell_type": "code",
   "execution_count": 239,
   "id": "de7b5e72",
   "metadata": {},
   "outputs": [
    {
     "name": "stdout",
     "output_type": "stream",
     "text": [
      "Top negative score: 0.86851766705513\n"
     ]
    }
   ],
   "source": [
    "top_neg_score = top_neg[-1]['percentile_pos']\n",
    "print(f\"Top negative score: {top_neg_score}\")"
   ]
  },
  {
   "cell_type": "code",
   "execution_count": 240,
   "id": "9ef9f857",
   "metadata": {},
   "outputs": [
    {
     "data": {
      "text/plain": [
       "tensor([[21.5258, 20.7461, 21.4517, 22.3044],\n",
       "        [21.5258, 20.7461, 21.4517, 22.3044],\n",
       "        [22.4259, 22.0307, 22.2115, 20.3211],\n",
       "        [22.4259, 22.0307, 22.2115, 20.3211],\n",
       "        [22.4259, 22.0307, 22.2115, 20.3211],\n",
       "        [22.4259, 22.0307, 22.2115, 20.9584],\n",
       "        [22.4259, 22.0307, 22.2115, 20.9584],\n",
       "        [22.4259, 22.0307, 22.2115, 20.9584],\n",
       "        [22.4259, 22.0307, 22.2115, 22.2543],\n",
       "        [22.4259, 22.0307, 22.2115, 22.2543],\n",
       "        [22.4259, 22.0307, 22.2115, 22.2543],\n",
       "        [22.4259, 22.0307, 22.2115, 20.6816],\n",
       "        [22.4259, 22.0307, 22.2115, 20.6816],\n",
       "        [22.4259, 22.0307, 22.2115, 20.6816],\n",
       "        [22.4259, 22.0307, 22.2115, 20.3517],\n",
       "        [22.4259, 22.0307, 22.2115, 20.3517],\n",
       "        [22.4259, 22.0307, 22.2115, 20.3517],\n",
       "        [22.4259, 22.0307, 22.2115, 21.2906],\n",
       "        [22.4259, 22.0307, 22.2115, 21.2906],\n",
       "        [22.4259, 22.0307, 22.2115, 21.2906]])"
      ]
     },
     "execution_count": 240,
     "metadata": {},
     "output_type": "execute_result"
    }
   ],
   "source": [
    "torch.tensor(top_neg[-1]['neg_dist'])"
   ]
  },
  {
   "cell_type": "code",
   "execution_count": 241,
   "id": "d1a1206b",
   "metadata": {},
   "outputs": [
    {
     "name": "stdout",
     "output_type": "stream",
     "text": [
      "Top positive items: 47553\n"
     ]
    }
   ],
   "source": [
    "# Sort the positive items by adjusted score\n",
    "top_pos = sorted(pos_items, key=lambda x: x['percentile_pos'], reverse=True)\n",
    "print(f\"Top positive items: {len(top_pos)}\")"
   ]
  },
  {
   "cell_type": "code",
   "execution_count": 242,
   "id": "7a72644e",
   "metadata": {},
   "outputs": [
    {
     "data": {
      "text/plain": [
       "{'score': 3.874301910400391e-06,\n",
       " 'length': 3,\n",
       " 'label': 1,\n",
       " 'has_neg': True,\n",
       " 'pos_dist': [20.6094913482666, 22.290287017822266, 20.304506301879883],\n",
       " 'neg_dist': [[20.388105392456055, 21.016027450561523, 20.249814987182617],\n",
       "  [20.388105392456055, 21.016027450561523, 20.249814987182617],\n",
       "  [20.388105392456055, 21.016027450561523, 20.249814987182617],\n",
       "  [20.388105392456055, 21.016027450561523, 20.249814987182617],\n",
       "  [20.388105392456055, 21.016027450561523, 20.249814987182617],\n",
       "  [20.388105392456055, 21.016027450561523, 20.249814987182617],\n",
       "  [20.388105392456055, 21.016027450561523, 20.249814987182617],\n",
       "  [20.388105392456055, 21.016027450561523, 20.249814987182617],\n",
       "  [20.388105392456055, 21.016027450561523, 20.249814987182617],\n",
       "  [20.388105392456055, 21.016027450561523, 20.249814987182617],\n",
       "  [20.388105392456055, 21.016027450561523, 20.249814987182617],\n",
       "  [20.388105392456055, 21.016027450561523, 20.249814987182617],\n",
       "  [20.388105392456055, 21.016027450561523, 20.249814987182617],\n",
       "  [20.388105392456055, 21.016027450561523, 20.249814987182617],\n",
       "  [20.388105392456055, 21.016027450561523, 20.249814987182617],\n",
       "  [20.388105392456055, 21.016027450561523, 20.249814987182617],\n",
       "  [20.388105392456055, 21.016027450561523, 20.249814987182617],\n",
       "  [20.388105392456055, 21.016027450561523, 20.249814987182617],\n",
       "  [20.388105392456055, 21.016027450561523, 20.249814987182617],\n",
       "  [20.388105392456055, 21.016027450561523, 20.249814987182617]],\n",
       " 'adjusted_score': 3.874301910400391e-06,\n",
       " 'loss': 4.472107410430908,\n",
       " 'percentile_pos': 3.874301910400391e-06}"
      ]
     },
     "execution_count": 242,
     "metadata": {},
     "output_type": "execute_result"
    }
   ],
   "source": [
    "top_pos[-1]"
   ]
  },
  {
   "cell_type": "code",
   "execution_count": 243,
   "id": "d3816912",
   "metadata": {},
   "outputs": [
    {
     "data": {
      "text/plain": [
       "11120"
      ]
     },
     "execution_count": 243,
     "metadata": {},
     "output_type": "execute_result"
    }
   ],
   "source": [
    "# How many pos items higher adjusted scores than last item in top_neg\n",
    "higher_pos = [\n",
    "    item for item in top_pos if item['percentile_pos'] > top_neg_score]\n",
    "len(higher_pos)"
   ]
  },
  {
   "cell_type": "code",
   "execution_count": 244,
   "id": "48c50508",
   "metadata": {},
   "outputs": [
    {
     "data": {
      "text/plain": [
       "0.23384434210249616"
      ]
     },
     "execution_count": 244,
     "metadata": {},
     "output_type": "execute_result"
    }
   ],
   "source": [
    "len(higher_pos) / len(pos_items)"
   ]
  },
  {
   "cell_type": "code",
   "execution_count": 245,
   "id": "ae7a8d16",
   "metadata": {},
   "outputs": [
    {
     "data": {
      "text/plain": [
       "{'score': 0.9999939799308777,\n",
       " 'length': 4,\n",
       " 'label': 0,\n",
       " 'has_neg': True,\n",
       " 'pos_dist': [20.465625762939453,\n",
       "  22.11510467529297,\n",
       "  20.927635192871094,\n",
       "  22.144454956054688],\n",
       " 'neg_dist': [[22.61302375793457,\n",
       "   22.304262161254883,\n",
       "   22.446243286132812,\n",
       "   22.44624137878418],\n",
       "  [22.61302375793457,\n",
       "   22.304262161254883,\n",
       "   22.446243286132812,\n",
       "   22.44624137878418],\n",
       "  [22.61302375793457,\n",
       "   22.304262161254883,\n",
       "   22.446243286132812,\n",
       "   22.44624137878418],\n",
       "  [22.61302375793457,\n",
       "   22.304262161254883,\n",
       "   22.446243286132812,\n",
       "   22.44624137878418],\n",
       "  [22.61302375793457,\n",
       "   22.304262161254883,\n",
       "   22.446243286132812,\n",
       "   22.44624137878418],\n",
       "  [22.61302375793457,\n",
       "   22.304262161254883,\n",
       "   22.446243286132812,\n",
       "   22.44624137878418],\n",
       "  [22.61302375793457,\n",
       "   22.304262161254883,\n",
       "   22.446243286132812,\n",
       "   22.44624137878418],\n",
       "  [22.61302375793457,\n",
       "   22.304262161254883,\n",
       "   22.446243286132812,\n",
       "   22.44624137878418],\n",
       "  [22.61302375793457,\n",
       "   22.304262161254883,\n",
       "   22.446243286132812,\n",
       "   22.44624137878418],\n",
       "  [22.61302375793457,\n",
       "   22.304262161254883,\n",
       "   22.446243286132812,\n",
       "   22.44624137878418],\n",
       "  [22.61302375793457,\n",
       "   22.304262161254883,\n",
       "   22.446243286132812,\n",
       "   22.44624137878418],\n",
       "  [22.61302375793457,\n",
       "   22.304262161254883,\n",
       "   22.446243286132812,\n",
       "   22.44624137878418],\n",
       "  [22.61302375793457,\n",
       "   22.304262161254883,\n",
       "   22.446243286132812,\n",
       "   22.44624137878418],\n",
       "  [22.61302375793457,\n",
       "   22.304262161254883,\n",
       "   22.446243286132812,\n",
       "   22.44624137878418],\n",
       "  [22.61302375793457,\n",
       "   22.304262161254883,\n",
       "   22.446243286132812,\n",
       "   22.44624137878418],\n",
       "  [22.61302375793457,\n",
       "   22.304262161254883,\n",
       "   22.446243286132812,\n",
       "   22.38239860534668],\n",
       "  [22.61302375793457,\n",
       "   22.304262161254883,\n",
       "   22.446243286132812,\n",
       "   22.38239860534668],\n",
       "  [22.61302375793457,\n",
       "   22.304262161254883,\n",
       "   22.446243286132812,\n",
       "   22.38239860534668],\n",
       "  [22.61302375793457,\n",
       "   22.304262161254883,\n",
       "   22.446243286132812,\n",
       "   22.38239860534668],\n",
       "  [22.61302375793457,\n",
       "   22.304262161254883,\n",
       "   22.446243286132812,\n",
       "   22.38239860534668]],\n",
       " 'adjusted_score': 0.9999939799308777,\n",
       " 'loss': -4.376216411590576,\n",
       " 'percentile_pos': 0.9999939501285553}"
      ]
     },
     "execution_count": 245,
     "metadata": {},
     "output_type": "execute_result"
    }
   ],
   "source": [
    "top_neg[2]"
   ]
  },
  {
   "cell_type": "code",
   "execution_count": 246,
   "id": "75da4064",
   "metadata": {},
   "outputs": [
    {
     "data": {
      "text/plain": [
       "{'score': 0.8685271739959717,\n",
       " 'length': 3,\n",
       " 'label': 1,\n",
       " 'has_neg': True,\n",
       " 'pos_dist': [20.376426696777344, 22.289064407348633, 20.222091674804688],\n",
       " 'neg_dist': [[21.669301986694336, 22.358154296875, 22.32600212097168],\n",
       "  [21.669301986694336, 22.358154296875, 22.32600212097168],\n",
       "  [21.669301986694336, 22.358154296875, 22.272611618041992],\n",
       "  [20.9945068359375, 22.142053604125977, 21.41111183166504],\n",
       "  [20.9945068359375, 22.53607940673828, 21.47248077392578],\n",
       "  [20.9945068359375, 22.142053604125977, 22.515480041503906],\n",
       "  [20.9945068359375, 22.53607940673828, 21.710390090942383],\n",
       "  [20.9945068359375, 22.53607940673828, 22.405364990234375],\n",
       "  [20.9945068359375, 22.142053604125977, 21.72614288330078],\n",
       "  [21.669301986694336, 22.358154296875, 21.32685661315918],\n",
       "  [21.343965530395508, 21.37531852722168, 21.3053035736084],\n",
       "  [20.9945068359375, 22.142053604125977, 21.83551597595215],\n",
       "  [20.543556213378906, 21.58470916748047, 21.905807495117188],\n",
       "  [20.543556213378906, 21.58470916748047, 21.905807495117188],\n",
       "  [20.543556213378906, 21.58470916748047, 21.905807495117188],\n",
       "  [20.543556213378906, 21.58470916748047, 21.905807495117188],\n",
       "  [20.543556213378906, 21.58470916748047, 21.905807495117188],\n",
       "  [20.543556213378906, 21.22318458557129, 21.168195724487305],\n",
       "  [20.543556213378906, 21.22318458557129, 21.168195724487305],\n",
       "  [20.543556213378906, 21.22318458557129, 21.168195724487305]],\n",
       " 'adjusted_score': 0.8685271739959717,\n",
       " 'loss': -1.1194545030593872,\n",
       " 'percentile_pos': 0.8685267865657806}"
      ]
     },
     "execution_count": 246,
     "metadata": {},
     "output_type": "execute_result"
    }
   ],
   "source": [
    "higher_pos[-1]"
   ]
  },
  {
   "cell_type": "code",
   "execution_count": 247,
   "id": "7acfc1ee",
   "metadata": {},
   "outputs": [
    {
     "data": {
      "text/plain": [
       "{'score': 0.8685919046401978,\n",
       " 'length': 4,\n",
       " 'label': 0,\n",
       " 'has_neg': True,\n",
       " 'pos_dist': [20.548025131225586,\n",
       "  20.432771682739258,\n",
       "  22.29763412475586,\n",
       "  20.774751663208008],\n",
       " 'neg_dist': [[22.23824119567871,\n",
       "   20.307109832763672,\n",
       "   22.408586502075195,\n",
       "   22.216800689697266],\n",
       "  [22.23824119567871,\n",
       "   20.307109832763672,\n",
       "   22.408586502075195,\n",
       "   22.216800689697266],\n",
       "  [22.23824119567871,\n",
       "   20.307109832763672,\n",
       "   22.408586502075195,\n",
       "   22.216800689697266],\n",
       "  [22.23824119567871,\n",
       "   20.307109832763672,\n",
       "   22.408586502075195,\n",
       "   22.216800689697266],\n",
       "  [22.23824119567871,\n",
       "   20.307109832763672,\n",
       "   22.408586502075195,\n",
       "   22.048505783081055],\n",
       "  [22.23824119567871,\n",
       "   20.307109832763672,\n",
       "   22.408586502075195,\n",
       "   22.048505783081055],\n",
       "  [22.23824119567871,\n",
       "   20.307109832763672,\n",
       "   22.408586502075195,\n",
       "   22.048505783081055],\n",
       "  [22.23824119567871,\n",
       "   20.307109832763672,\n",
       "   22.408586502075195,\n",
       "   22.048505783081055],\n",
       "  [22.20667266845703,\n",
       "   22.26700210571289,\n",
       "   22.30660629272461,\n",
       "   21.187986373901367],\n",
       "  [22.20667266845703,\n",
       "   22.26700210571289,\n",
       "   22.30660629272461,\n",
       "   21.187986373901367],\n",
       "  [21.127552032470703,\n",
       "   22.49044418334961,\n",
       "   20.86244773864746,\n",
       "   20.723556518554688],\n",
       "  [21.127552032470703,\n",
       "   22.49044418334961,\n",
       "   22.150705337524414,\n",
       "   20.80035972595215],\n",
       "  [21.127552032470703,\n",
       "   22.49044418334961,\n",
       "   21.04742431640625,\n",
       "   21.105928421020508],\n",
       "  [22.20667266845703,\n",
       "   22.26700210571289,\n",
       "   22.435150146484375,\n",
       "   22.400903701782227],\n",
       "  [21.127552032470703,\n",
       "   22.49044418334961,\n",
       "   22.150705337524414,\n",
       "   21.76447868347168],\n",
       "  [21.127552032470703,\n",
       "   22.49044418334961,\n",
       "   22.150705337524414,\n",
       "   21.161287307739258],\n",
       "  [21.127552032470703,\n",
       "   22.49044418334961,\n",
       "   21.04742431640625,\n",
       "   20.764028549194336],\n",
       "  [22.20667266845703,\n",
       "   22.26700210571289,\n",
       "   22.30660629272461,\n",
       "   21.686779022216797],\n",
       "  [22.20667266845703,\n",
       "   22.26700210571289,\n",
       "   22.30660629272461,\n",
       "   21.686779022216797],\n",
       "  [22.20667266845703,\n",
       "   22.26700210571289,\n",
       "   22.30660629272461,\n",
       "   21.686779022216797]],\n",
       " 'adjusted_score': 0.8685919046401978,\n",
       " 'loss': -1.119757056236267,\n",
       " 'percentile_pos': 0.86859130859375}"
      ]
     },
     "execution_count": 247,
     "metadata": {},
     "output_type": "execute_result"
    }
   ],
   "source": [
    "# example = top_pos[40000]\n",
    "example = top_neg[-2]\n",
    "example"
   ]
  },
  {
   "cell_type": "code",
   "execution_count": 248,
   "id": "5e564b9b",
   "metadata": {},
   "outputs": [],
   "source": [
    "pos = torch.tensor(example['pos_dist']) # (length, )\n",
    "neg = torch.tensor(example['neg_dist']) # (num_neg, length)"
   ]
  },
  {
   "cell_type": "code",
   "execution_count": 249,
   "id": "3b9f8949",
   "metadata": {},
   "outputs": [],
   "source": [
    "if config_data[\"positive_deviation\"]:\n",
    "    # Add pos (length, ) to neg pool (num_neg, length)\n",
    "    neg = torch.cat([neg, pos.unsqueeze(0)], dim=0)"
   ]
  },
  {
   "cell_type": "code",
   "execution_count": 250,
   "id": "8a0e824d",
   "metadata": {},
   "outputs": [
    {
     "data": {
      "text/plain": [
       "(torch.Size([4]), torch.Size([21, 4]))"
      ]
     },
     "execution_count": 250,
     "metadata": {},
     "output_type": "execute_result"
    }
   ],
   "source": [
    "pos.shape, neg.shape"
   ]
  },
  {
   "cell_type": "code",
   "execution_count": 251,
   "id": "cff7796b",
   "metadata": {},
   "outputs": [
    {
     "data": {
      "text/plain": [
       "tensor([20.5480, 20.4328, 22.2976, 20.7748])"
      ]
     },
     "execution_count": 251,
     "metadata": {},
     "output_type": "execute_result"
    }
   ],
   "source": [
    "pos"
   ]
  },
  {
   "cell_type": "code",
   "execution_count": 252,
   "id": "3723395e",
   "metadata": {},
   "outputs": [
    {
     "name": "stdout",
     "output_type": "stream",
     "text": [
      "tensor([21.8314, 21.4969, 22.1402, 21.6187]) tensor([0.5686, 1.0221, 0.4805, 0.5595])\n"
     ]
    }
   ],
   "source": [
    "mean, std = neg.mean(0), neg.std(0, correction=0)\n",
    "print(mean, std)"
   ]
  },
  {
   "cell_type": "code",
   "execution_count": 253,
   "id": "0a825f42",
   "metadata": {},
   "outputs": [
    {
     "name": "stdout",
     "output_type": "stream",
     "text": [
      "tensor([-2.2572, -1.0411,  0.3277, -1.5084]) tensor(-1.1198)\n"
     ]
    }
   ],
   "source": [
    "z = torch.where(std > 1e-4, (pos - mean) / std, torch.zeros(pos.shape, dtype=pos.dtype, device=pos.device))\n",
    "mean_z = z.mean()\n",
    "print(z, mean_z)"
   ]
  },
  {
   "cell_type": "code",
   "execution_count": 254,
   "id": "bcff3d97",
   "metadata": {},
   "outputs": [
    {
     "name": "stdout",
     "output_type": "stream",
     "text": [
      "Arcsinh mean z: -0.9635718464851379\n"
     ]
    }
   ],
   "source": [
    "# arcsinh(mean z)\n",
    "arcsinh_mean_z = torch.asinh(mean_z)\n",
    "print(f\"Arcsinh mean z: {arcsinh_mean_z}\")"
   ]
  },
  {
   "cell_type": "code",
   "execution_count": 255,
   "id": "e76604b5",
   "metadata": {},
   "outputs": [],
   "source": [
    "percentile_pos = 1.0 - torch.special.ndtr(mean_z).item()"
   ]
  },
  {
   "cell_type": "code",
   "execution_count": 256,
   "id": "ebacabc7",
   "metadata": {},
   "outputs": [
    {
     "name": "stdout",
     "output_type": "stream",
     "text": [
      "Percentile of positive item: 0.8686\n"
     ]
    }
   ],
   "source": [
    "print(f\"Percentile of positive item: {percentile_pos:.4f}\")"
   ]
  },
  {
   "cell_type": "code",
   "execution_count": 257,
   "id": "731e3c7e",
   "metadata": {},
   "outputs": [
    {
     "name": "stdout",
     "output_type": "stream",
     "text": [
      "torch.Size([47553]) torch.Size([7083])\n"
     ]
    }
   ],
   "source": [
    "pos_losses = torch.tensor([item['loss'] for item in pos_items])\n",
    "neg_losses = torch.tensor([item['loss'] for item in neg_items])\n",
    "print(pos_losses.shape, neg_losses.shape)"
   ]
  },
  {
   "cell_type": "code",
   "execution_count": 258,
   "id": "0a192920",
   "metadata": {},
   "outputs": [
    {
     "name": "stdout",
     "output_type": "stream",
     "text": [
      "tensor(-0.3501) tensor(1.1651)\n",
      "tensor(0.9054) tensor(1.2924)\n"
     ]
    }
   ],
   "source": [
    "print(pos_losses.mean(), pos_losses.std())\n",
    "print(neg_losses.mean(), neg_losses.std())"
   ]
  },
  {
   "cell_type": "code",
   "execution_count": 259,
   "id": "0fdf6e79",
   "metadata": {},
   "outputs": [
    {
     "data": {
      "image/png": "[encoded data removed]",
      "text/plain": [
       "<Figure size 1000x600 with 1 Axes>"
      ]
     },
     "metadata": {},
     "output_type": "display_data"
    }
   ],
   "source": [
    "# Plot distribution of these two pos neg losses\n",
    "plt.figure(figsize=(10, 6))\n",
    "sns.histplot(pos_losses, bins=50, color='blue', label='Positive Losses', kde=True, stat='count')\n",
    "sns.histplot(neg_losses, bins=50, color='red', label='Negative Losses', kde=True, stat='count')\n",
    "plt.title('Distribution of Positive and Negative Losses')\n",
    "plt.xlabel('Loss Value')\n",
    "plt.ylabel('Density')\n",
    "# log scale yaxis\n",
    "plt.yscale('log')\n",
    "plt.legend()\n",
    "plt.grid()\n",
    "plt.show()"
   ]
  },
  {
   "cell_type": "code",
   "execution_count": null,
   "id": "28bfd1b3",
   "metadata": {},
   "outputs": [],
   "source": []
  }
 ],
 "metadata": {
  "kernelspec": {
   "display_name": "graphml",
   "language": "python",
   "name": "python3"
  },
  "language_info": {
   "codemirror_mode": {
    "name": "ipython",
    "version": 3
   },
   "file_extension": ".py",
   "mimetype": "text/x-python",
   "name": "python",
   "nbconvert_exporter": "python",
   "pygments_lexer": "ipython3",
   "version": "3.11.8"
  }
 },
 "nbformat": 4,
 "nbformat_minor": 5
}

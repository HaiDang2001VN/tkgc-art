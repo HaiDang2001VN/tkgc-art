{
 "cells": [
  {
   "cell_type": "code",
   "execution_count": 1,
   "id": "524ea7c0",
   "metadata": {},
   "outputs": [
    {
     "name": "stdout",
     "output_type": "stream",
     "text": [
      "{'dataset': 'ogbl-collab', 'storage_dir': '../data/', 'embedding_config': './full_embedding.json', 'train_ratio': 0.3, 'hidden_dim': 128, 'max_hops': 4, 'num_neg': 50, 'num_threads': 'vast', 'max_epochs': 10, 'batch_size': 'vast', 'dim_feedforward': 128, 'nhead': 4, 'num_layers': 4, 'dropout': 0.1, 'store': 'model', 'save_text_embeddings': True, 'shallow': True, 'pre_scan': ['train'], 'adjust_no_neg_paths_samples': True, 'max_adjust': 5.0, 'positive_deviation': True, 'embedding': 'all', 'test_time': 4, 'num_ckpt': 2, 'scale_loss': True, 'chi2': False, 'lr': 0.001, 'wandb_project': 'thesis-graph'}\n"
     ]
    }
   ],
   "source": [
    "import os\n",
    "import json\n",
    "import pandas as pd\n",
    "import numpy as np\n",
    "import matplotlib.pyplot as plt\n",
    "import seaborn as sns\n",
    "from loader import PathDataModule\n",
    "from tqdm import tqdm\n",
    "\n",
    "# --- 1. Configuration and Data Loading ---\n",
    "config_path = 'full.json'\n",
    "config_data = json.load(open(config_path, 'r'))\n",
    "print(config_data)"
   ]
  },
  {
   "cell_type": "code",
   "execution_count": 2,
   "id": "25d7f189-3ec3-4ab7-8de1-414157b4c512",
   "metadata": {},
   "outputs": [
    {
     "name": "stdout",
     "output_type": "stream",
     "text": [
      "Not running on Vast.ai container, or failed to fetch instance info.\n",
      "Error: Not running on a Vast.ai container!\n"
     ]
    }
   ],
   "source": [
    "import os, requests, json, pprint\n",
    "\n",
    "try:\n",
    "    cid  = os.getenv(\"CONTAINER_ID\")          # ← set by Vast.ai inside every container\n",
    "    key  = os.getenv(\"CONTAINER_API_KEY\")     # ← scoped token for this one instance\n",
    "    assert cid and key, \"Not running on a Vast.ai container!\"\n",
    "\n",
    "    resp = requests.get(\n",
    "        f\"https://console.vast.ai/api/v0/instances/{cid}/\",\n",
    "        headers={\"Authorization\": f\"Bearer {key}\",\n",
    "                \"accept\": \"application/json\"},\n",
    "        timeout=10,\n",
    "    )\n",
    "\n",
    "    info = resp.json()\n",
    "    print(\"Effective vCPUs:\", info['instances'][\"cpu_cores_effective\"])\n",
    "    # print(info['instances'].keys())\n",
    "except Exception as e:\n",
    "    print(\"Not running on Vast.ai container, or failed to fetch instance info.\")\n",
    "    print(\"Error:\", e)"
   ]
  },
  {
   "cell_type": "code",
   "execution_count": 3,
   "id": "3e197402",
   "metadata": {},
   "outputs": [
    {
     "name": "stdout",
     "output_type": "stream",
     "text": [
      "Embedding config path: ./full_embedding.json\n"
     ]
    },
    {
     "data": {
      "text/plain": [
       "{'batch_size': 4096,\n",
       " 'lr': 0.001,\n",
       " 'epochs': 10,\n",
       " 'model_name': 'transe',\n",
       " 'hidden_channels': 128,\n",
       " 'p_norm': 2}"
      ]
     },
     "execution_count": 3,
     "metadata": {},
     "output_type": "execute_result"
    }
   ],
   "source": [
    "import json\n",
    "import os\n",
    "\n",
    "embedding_cfg_path = config_data['embedding_config'] # path to config file\n",
    "print(\"Embedding config path:\", embedding_cfg_path)\n",
    "# Read config from json file at embedding cfg path\n",
    "with open(embedding_cfg_path, 'r') as f:\n",
    "    embedding_cfg = json.load(f)\n",
    "    \n",
    "embedding_cfg"
   ]
  },
  {
   "cell_type": "code",
   "execution_count": 4,
   "id": "03a63495-3ce5-4c7d-b54d-767672d9d576",
   "metadata": {},
   "outputs": [
    {
     "name": "stdout",
     "output_type": "stream",
     "text": [
      "Save directory: ../data/transe/ogbl-collab/thesis-graph\n"
     ]
    }
   ],
   "source": [
    "\n",
    "\n",
    "# --- 2. Load exported JSON results from model.py ---\n",
    "\n",
    "# Construct the path to your export (update these variables as needed)\n",
    "save_dir = config_data['storage_dir'] + embedding_cfg['model_name'] + \\\n",
    "    \"/\" + config_data['dataset'] + \"/\" + config_data['wandb_project']\n",
    "    \n",
    "print(f\"Save directory: {save_dir}\")\n"
   ]
  },
  {
   "cell_type": "code",
   "execution_count": 5,
   "id": "614aa8ff",
   "metadata": {},
   "outputs": [
    {
     "name": "stdout",
     "output_type": "stream",
     "text": [
      "../data/transe/ogbl-collab/thesis-graph/0/train_val_0_raw.json\n"
     ]
    }
   ],
   "source": [
    "wandb_name = \"0\"      \n",
    "stage = \"val\"  # or \"test\"\n",
    "epoch = \"0\"  # e.g. \"9\"\n",
    "test_time = False  # set True if test_time\n",
    "\n",
    "prefix = \"test\" if test_time else \"train\"\n",
    "export_path = os.path.join(save_dir, wandb_name, f\"{prefix}_{stage}_{epoch}_raw.json\")\n",
    "print(export_path)"
   ]
  },
  {
   "cell_type": "code",
   "execution_count": 6,
   "id": "3a3c6075",
   "metadata": {},
   "outputs": [
    {
     "name": "stdout",
     "output_type": "stream",
     "text": [
      "Loaded 160084\n"
     ]
    }
   ],
   "source": [
    "# Load the JSON file\n",
    "with open(export_path, \"r\") as f:\n",
    "    export_items = json.load(f)\n",
    "\n",
    "print(f\"Loaded {len(export_items)}\")"
   ]
  },
  {
   "cell_type": "code",
   "execution_count": 7,
   "id": "11c7d9a1",
   "metadata": {},
   "outputs": [
    {
     "data": {
      "text/plain": [
       "{'score': 0.09943151473999023,\n",
       " 'length': 1,\n",
       " 'label': 1,\n",
       " 'has_neg': True,\n",
       " 'pos_dist': [11.837754249572754],\n",
       " 'neg_dist': [[10.281356811523438],\n",
       "  [10.281356811523438],\n",
       "  [10.281356811523438],\n",
       "  [10.281356811523438],\n",
       "  [10.34947681427002],\n",
       "  [11.837754249572754],\n",
       "  [11.837754249572754],\n",
       "  [11.837754249572754],\n",
       "  [10.65380859375],\n",
       "  [10.65380859375],\n",
       "  [10.65380859375],\n",
       "  [9.960492134094238],\n",
       "  [9.960492134094238],\n",
       "  [11.205546379089355],\n",
       "  [11.113570213317871],\n",
       "  [11.833039283752441],\n",
       "  [10.587995529174805],\n",
       "  [11.491482734680176],\n",
       "  [11.343835830688477],\n",
       "  [11.866433143615723]],\n",
       " 'adjusted_score': 4.09943151473999}"
      ]
     },
     "execution_count": 7,
     "metadata": {},
     "output_type": "execute_result"
    }
   ],
   "source": [
    "export_items[0]"
   ]
  },
  {
   "cell_type": "code",
   "execution_count": 8,
   "id": "50d64cec",
   "metadata": {},
   "outputs": [
    {
     "name": "stdout",
     "output_type": "stream",
     "text": [
      "Max hops: 4, Max adjust: 5.0\n"
     ]
    }
   ],
   "source": [
    "# recompute adjusted score\n",
    "max_hops = config_data['max_hops']\n",
    "max_adjust = config_data['max_adjust']\n",
    "print(f\"Max hops: {max_hops}, Max adjust: {max_adjust}\")"
   ]
  },
  {
   "cell_type": "code",
   "execution_count": 9,
   "id": "e9b9b26e",
   "metadata": {},
   "outputs": [
    {
     "name": "stderr",
     "output_type": "stream",
     "text": [
      "100%|██████████| 160084/160084 [00:03<00:00, 47345.29it/s]\n"
     ]
    },
    {
     "name": "stdout",
     "output_type": "stream",
     "text": [
      "Minimum length: 1\n"
     ]
    }
   ],
   "source": [
    "# length zero adjusted to max_hops + 2\n",
    "for item in tqdm(export_items):\n",
    "    if item['length'] == 0:\n",
    "        item['length'] = max_hops + 2\n",
    "\n",
    "min_length = min(item['length'] for item in export_items)\n",
    "print(f\"Minimum length: {min_length}\")"
   ]
  },
  {
   "cell_type": "code",
   "execution_count": 10,
   "id": "f7ebe84b",
   "metadata": {},
   "outputs": [
    {
     "name": "stderr",
     "output_type": "stream",
     "text": [
      "100%|██████████| 160084/160084 [00:01<00:00, 102707.57it/s]\n"
     ]
    }
   ],
   "source": [
    "# adjusted score\n",
    "for item in tqdm(export_items):\n",
    "    # ratio = 1 - (item['length'] - min_length) / (max_hops + 1 - min_length)\n",
    "    # item['adjusted_score'] = item['score'] + (ratio * max_adjust)\n",
    "    item['adjusted_score'] = item['score']"
   ]
  },
  {
   "cell_type": "code",
   "execution_count": 11,
   "id": "46e373eb",
   "metadata": {},
   "outputs": [
    {
     "data": {
      "text/plain": [
       "{'score': 0.0,\n",
       " 'length': 6,\n",
       " 'label': 1,\n",
       " 'has_neg': False,\n",
       " 'pos_dist': None,\n",
       " 'neg_dist': None,\n",
       " 'adjusted_score': 0.0}"
      ]
     },
     "execution_count": 11,
     "metadata": {},
     "output_type": "execute_result"
    }
   ],
   "source": [
    "export_items[3]"
   ]
  },
  {
   "cell_type": "code",
   "execution_count": 12,
   "id": "da35d4e6",
   "metadata": {},
   "outputs": [
    {
     "name": "stdout",
     "output_type": "stream",
     "text": [
      "Filtered non-zero items: 7083\n"
     ]
    }
   ],
   "source": [
    "# Get list of label 0 but non-zero length\n",
    "neg_items = [item for item in export_items if item['label'] == 0 and item['has_neg']]\n",
    "print(f\"Filtered non-zero items: {len(neg_items)}\")"
   ]
  },
  {
   "cell_type": "code",
   "execution_count": 13,
   "id": "f24aa22e",
   "metadata": {},
   "outputs": [
    {
     "data": {
      "text/plain": [
       "{'score': 0.1156584620475769,\n",
       " 'length': 4,\n",
       " 'label': 0,\n",
       " 'has_neg': True,\n",
       " 'pos_dist': [10.880391120910645,\n",
       "  9.0462646484375,\n",
       "  11.833160400390625,\n",
       "  11.009916305541992],\n",
       " 'neg_dist': [[10.880391120910645,\n",
       "   9.187994956970215,\n",
       "   9.84019947052002,\n",
       "   9.160685539245605],\n",
       "  [10.880391120910645, 9.187994956970215, 9.84019947052002, 9.070316314697266],\n",
       "  [11.834572792053223, 9.037266731262207, 9.06799030303955, 9.232804298400879],\n",
       "  [11.834572792053223, 9.037266731262207, 9.06799030303955, 9.232804298400879],\n",
       "  [11.834572792053223, 9.037266731262207, 9.06799030303955, 9.232804298400879],\n",
       "  [11.834572792053223, 9.037266731262207, 9.06799030303955, 9.158455848693848],\n",
       "  [11.834572792053223, 9.037266731262207, 9.06799030303955, 9.158455848693848],\n",
       "  [11.834572792053223, 9.037266731262207, 9.06799030303955, 9.158455848693848],\n",
       "  [10.880391120910645, 9.0462646484375, 8.9961576461792, 9.072173118591309],\n",
       "  [11.69300651550293, 9.3045654296875, 9.246265411376953, 9.40832233428955],\n",
       "  [11.834572792053223,\n",
       "   9.037266731262207,\n",
       "   9.203685760498047,\n",
       "   9.406335830688477],\n",
       "  [11.834572792053223,\n",
       "   9.037266731262207,\n",
       "   9.203685760498047,\n",
       "   9.406335830688477],\n",
       "  [11.834572792053223,\n",
       "   9.037266731262207,\n",
       "   9.203685760498047,\n",
       "   9.406335830688477],\n",
       "  [11.834572792053223, 9.037266731262207, 9.277726173400879, 9.82383918762207],\n",
       "  [11.834572792053223, 9.037266731262207, 9.277726173400879, 9.82383918762207],\n",
       "  [11.834572792053223, 9.037266731262207, 9.277726173400879, 9.82383918762207],\n",
       "  [11.69300651550293, 9.3045654296875, 9.246265411376953, 10.377616882324219],\n",
       "  [11.834572792053223, 9.037266731262207, 9.06799030303955, 9.868486404418945],\n",
       "  [11.834572792053223, 9.037266731262207, 9.06799030303955, 9.868486404418945],\n",
       "  [11.834572792053223,\n",
       "   9.037266731262207,\n",
       "   9.06799030303955,\n",
       "   9.868486404418945]],\n",
       " 'adjusted_score': 0.1156584620475769}"
      ]
     },
     "execution_count": 13,
     "metadata": {},
     "output_type": "execute_result"
    }
   ],
   "source": [
    "neg_items[200]"
   ]
  },
  {
   "cell_type": "code",
   "execution_count": 14,
   "id": "bb49d476",
   "metadata": {},
   "outputs": [
    {
     "name": "stdout",
     "output_type": "stream",
     "text": [
      "Filtered positive items: 47553\n"
     ]
    }
   ],
   "source": [
    "pos_items = [item for item in export_items if item['label'] == 1 and item['has_neg']]\n",
    "print(f\"Filtered positive items: {len(pos_items)}\")"
   ]
  },
  {
   "cell_type": "code",
   "execution_count": 25,
   "id": "7bcb8f77",
   "metadata": {},
   "outputs": [
    {
     "data": {
      "text/plain": [
       "{'score': 0.09943151473999023,\n",
       " 'length': 1,\n",
       " 'label': 1,\n",
       " 'has_neg': True,\n",
       " 'pos_dist': [11.837754249572754],\n",
       " 'neg_dist': [[10.281356811523438],\n",
       "  [10.281356811523438],\n",
       "  [10.281356811523438],\n",
       "  [10.281356811523438],\n",
       "  [10.34947681427002],\n",
       "  [11.837754249572754],\n",
       "  [11.837754249572754],\n",
       "  [11.837754249572754],\n",
       "  [10.65380859375],\n",
       "  [10.65380859375],\n",
       "  [10.65380859375],\n",
       "  [9.960492134094238],\n",
       "  [9.960492134094238],\n",
       "  [11.205546379089355],\n",
       "  [11.113570213317871],\n",
       "  [11.833039283752441],\n",
       "  [10.587995529174805],\n",
       "  [11.491482734680176],\n",
       "  [11.343835830688477],\n",
       "  [11.866433143615723]],\n",
       " 'adjusted_score': 0.09943151473999023}"
      ]
     },
     "execution_count": 25,
     "metadata": {},
     "output_type": "execute_result"
    }
   ],
   "source": [
    "pos_items[0]"
   ]
  },
  {
   "cell_type": "code",
   "execution_count": 16,
   "id": "016de052",
   "metadata": {},
   "outputs": [
    {
     "name": "stdout",
     "output_type": "stream",
     "text": [
      "Top 50 negative items: 50\n"
     ]
    }
   ],
   "source": [
    "K = 50\n",
    "# Select top K items in negative highest adjsuted scores\n",
    "top_neg = sorted(neg_items, key=lambda x: x['adjusted_score'], reverse=True)[:K]\n",
    "print(f\"Top {K} negative items: {len(top_neg)}\")"
   ]
  },
  {
   "cell_type": "code",
   "execution_count": 27,
   "id": "c213404d",
   "metadata": {},
   "outputs": [
    {
     "data": {
      "text/plain": [
       "{'score': 1.0,\n",
       " 'length': 4,\n",
       " 'label': 0,\n",
       " 'has_neg': True,\n",
       " 'pos_dist': [9.08548641204834,\n",
       "  11.88125228881836,\n",
       "  11.885870933532715,\n",
       "  9.091623306274414],\n",
       " 'neg_dist': [[9.08548641204834,\n",
       "   9.949609756469727,\n",
       "   9.588653564453125,\n",
       "   8.944148063659668],\n",
       "  [9.08548641204834, 9.949609756469727, 10.210198402404785, 9.128499031066895],\n",
       "  [9.08548641204834, 10.216167449951172, 10.950872421264648, 9.19459056854248],\n",
       "  [9.08548641204834,\n",
       "   10.216167449951172,\n",
       "   10.367166519165039,\n",
       "   10.207352638244629],\n",
       "  [9.08548641204834,\n",
       "   10.216167449951172,\n",
       "   10.367166519165039,\n",
       "   10.207352638244629],\n",
       "  [9.08548641204834,\n",
       "   10.216167449951172,\n",
       "   10.367166519165039,\n",
       "   9.508516311645508],\n",
       "  [9.08548641204834,\n",
       "   10.216167449951172,\n",
       "   10.367166519165039,\n",
       "   9.508516311645508],\n",
       "  [9.08548641204834,\n",
       "   10.216167449951172,\n",
       "   10.950872421264648,\n",
       "   10.500466346740723],\n",
       "  [9.08548641204834, 9.949609756469727, 9.588653564453125, 9.90206241607666],\n",
       "  [9.08548641204834,\n",
       "   10.216167449951172,\n",
       "   10.758651733398438,\n",
       "   10.691717147827148],\n",
       "  [9.08548641204834,\n",
       "   10.216167449951172,\n",
       "   10.367166519165039,\n",
       "   9.925450325012207],\n",
       "  [9.08548641204834,\n",
       "   10.216167449951172,\n",
       "   10.367166519165039,\n",
       "   9.925450325012207],\n",
       "  [9.08548641204834,\n",
       "   10.216167449951172,\n",
       "   10.758651733398438,\n",
       "   10.298307418823242],\n",
       "  [9.08548641204834, 9.53630542755127, 10.046932220458984, 10.55789852142334],\n",
       "  [9.08548641204834, 9.53630542755127, 9.521568298339844, 11.343849182128906],\n",
       "  [9.08548641204834,\n",
       "   10.216167449951172,\n",
       "   10.367166519165039,\n",
       "   12.019115447998047],\n",
       "  [9.08548641204834,\n",
       "   10.216167449951172,\n",
       "   10.367166519165039,\n",
       "   12.019115447998047],\n",
       "  [9.08548641204834,\n",
       "   10.216167449951172,\n",
       "   10.758651733398438,\n",
       "   11.219996452331543]],\n",
       " 'adjusted_score': 1.0}"
      ]
     },
     "execution_count": 27,
     "metadata": {},
     "output_type": "execute_result"
    }
   ],
   "source": [
    "top_neg[-1]"
   ]
  },
  {
   "cell_type": "code",
   "execution_count": 18,
   "id": "de7b5e72",
   "metadata": {},
   "outputs": [
    {
     "name": "stdout",
     "output_type": "stream",
     "text": [
      "Top negative score: 1.0\n"
     ]
    }
   ],
   "source": [
    "top_neg_score = top_neg[-1]['adjusted_score']\n",
    "print(f\"Top negative score: {top_neg_score}\")"
   ]
  },
  {
   "cell_type": "code",
   "execution_count": null,
   "id": "9ef9f857",
   "metadata": {},
   "outputs": [
    {
     "data": {
      "text/plain": [
       "[[9.08548641204834, 9.949609756469727, 9.588653564453125, 8.944148063659668],\n",
       " [9.08548641204834, 9.949609756469727, 10.210198402404785, 9.128499031066895],\n",
       " [9.08548641204834, 10.216167449951172, 10.950872421264648, 9.19459056854248],\n",
       " [9.08548641204834,\n",
       "  10.216167449951172,\n",
       "  10.367166519165039,\n",
       "  10.207352638244629],\n",
       " [9.08548641204834,\n",
       "  10.216167449951172,\n",
       "  10.367166519165039,\n",
       "  10.207352638244629],\n",
       " [9.08548641204834, 10.216167449951172, 10.367166519165039, 9.508516311645508],\n",
       " [9.08548641204834, 10.216167449951172, 10.367166519165039, 9.508516311645508],\n",
       " [9.08548641204834,\n",
       "  10.216167449951172,\n",
       "  10.950872421264648,\n",
       "  10.500466346740723],\n",
       " [9.08548641204834, 9.949609756469727, 9.588653564453125, 9.90206241607666],\n",
       " [9.08548641204834,\n",
       "  10.216167449951172,\n",
       "  10.758651733398438,\n",
       "  10.691717147827148],\n",
       " [9.08548641204834, 10.216167449951172, 10.367166519165039, 9.925450325012207],\n",
       " [9.08548641204834, 10.216167449951172, 10.367166519165039, 9.925450325012207],\n",
       " [9.08548641204834,\n",
       "  10.216167449951172,\n",
       "  10.758651733398438,\n",
       "  10.298307418823242],\n",
       " [9.08548641204834, 9.53630542755127, 10.046932220458984, 10.55789852142334],\n",
       " [9.08548641204834, 9.53630542755127, 9.521568298339844, 11.343849182128906],\n",
       " [9.08548641204834,\n",
       "  10.216167449951172,\n",
       "  10.367166519165039,\n",
       "  12.019115447998047],\n",
       " [9.08548641204834,\n",
       "  10.216167449951172,\n",
       "  10.367166519165039,\n",
       "  12.019115447998047],\n",
       " [9.08548641204834,\n",
       "  10.216167449951172,\n",
       "  10.758651733398438,\n",
       "  11.219996452331543]]"
      ]
     },
     "execution_count": 28,
     "metadata": {},
     "output_type": "execute_result"
    }
   ],
   "source": [
    "top_neg[-1]['neg_dist']"
   ]
  },
  {
   "cell_type": "code",
   "execution_count": 19,
   "id": "d1a1206b",
   "metadata": {},
   "outputs": [
    {
     "name": "stdout",
     "output_type": "stream",
     "text": [
      "Top positive items: 47553\n"
     ]
    }
   ],
   "source": [
    "# Sort the positive items by adjusted score\n",
    "top_pos = sorted(pos_items, key=lambda x: x['adjusted_score'], reverse=True)\n",
    "print(f\"Top positive items: {len(top_pos)}\")"
   ]
  },
  {
   "cell_type": "code",
   "execution_count": 20,
   "id": "7a72644e",
   "metadata": {},
   "outputs": [
    {
     "data": {
      "text/plain": [
       "{'score': 0.0,\n",
       " 'length': 3,\n",
       " 'label': 1,\n",
       " 'has_neg': True,\n",
       " 'pos_dist': [9.50780200958252, 11.829113006591797, 9.670458793640137],\n",
       " 'neg_dist': [[9.50780200958252, 11.829113006591797, 9.108136177062988],\n",
       "  [9.50780200958252, 11.829113006591797, 9.115540504455566],\n",
       "  [9.50780200958252, 11.829113006591797, 9.06275749206543],\n",
       "  [9.50780200958252, 11.829113006591797, 9.06275749206543],\n",
       "  [9.50780200958252, 11.829113006591797, 9.06275749206543],\n",
       "  [9.50780200958252, 11.829113006591797, 9.031770706176758],\n",
       "  [9.50780200958252, 11.829113006591797, 9.006580352783203],\n",
       "  [9.50780200958252, 11.829113006591797, 9.006580352783203],\n",
       "  [9.50780200958252, 11.829113006591797, 9.09538745880127],\n",
       "  [9.50780200958252, 11.829113006591797, 9.09538745880127],\n",
       "  [9.50780200958252, 11.829113006591797, 8.990823745727539],\n",
       "  [9.50780200958252, 11.829113006591797, 9.201242446899414],\n",
       "  [9.50780200958252, 11.829113006591797, 9.042387008666992],\n",
       "  [9.50780200958252, 11.829113006591797, 9.157793045043945],\n",
       "  [9.50780200958252, 11.829113006591797, 9.157793045043945],\n",
       "  [9.50780200958252, 11.829113006591797, 9.157793045043945],\n",
       "  [9.50780200958252, 11.829113006591797, 9.30970287322998],\n",
       "  [9.50780200958252, 11.829113006591797, 9.055479049682617],\n",
       "  [9.50780200958252, 11.829113006591797, 9.055479049682617],\n",
       "  [9.50780200958252, 11.829113006591797, 8.9522123336792]],\n",
       " 'adjusted_score': 0.0}"
      ]
     },
     "execution_count": 20,
     "metadata": {},
     "output_type": "execute_result"
    }
   ],
   "source": [
    "top_pos[-1]"
   ]
  },
  {
   "cell_type": "code",
   "execution_count": 21,
   "id": "d3816912",
   "metadata": {},
   "outputs": [
    {
     "data": {
      "text/plain": [
       "0"
      ]
     },
     "execution_count": 21,
     "metadata": {},
     "output_type": "execute_result"
    }
   ],
   "source": [
    "# How many pos items higher adjusted scores than last item in top_neg\n",
    "higher_pos = [\n",
    "    item for item in top_pos if item['adjusted_score'] > top_neg_score]\n",
    "len(higher_pos)"
   ]
  },
  {
   "cell_type": "code",
   "execution_count": 22,
   "id": "48c50508",
   "metadata": {},
   "outputs": [
    {
     "data": {
      "text/plain": [
       "0.0"
      ]
     },
     "execution_count": 22,
     "metadata": {},
     "output_type": "execute_result"
    }
   ],
   "source": [
    "len(higher_pos) / len(pos_items)"
   ]
  },
  {
   "cell_type": "code",
   "execution_count": 23,
   "id": "ae7a8d16",
   "metadata": {},
   "outputs": [
    {
     "data": {
      "text/plain": [
       "{'score': 1.0,\n",
       " 'length': 4,\n",
       " 'label': 0,\n",
       " 'has_neg': True,\n",
       " 'pos_dist': [10.178739547729492,\n",
       "  9.065033912658691,\n",
       "  11.839302062988281,\n",
       "  11.906525611877441],\n",
       " 'neg_dist': [[10.178739547729492,\n",
       "   9.065033912658691,\n",
       "   10.536744117736816,\n",
       "   8.995314598083496],\n",
       "  [10.178739547729492,\n",
       "   9.065033912658691,\n",
       "   10.960749626159668,\n",
       "   9.010370254516602],\n",
       "  [10.178739547729492,\n",
       "   9.065033912658691,\n",
       "   10.566941261291504,\n",
       "   9.425470352172852],\n",
       "  [10.178739547729492,\n",
       "   9.065033912658691,\n",
       "   10.566941261291504,\n",
       "   9.425470352172852],\n",
       "  [10.178739547729492,\n",
       "   9.065033912658691,\n",
       "   10.960749626159668,\n",
       "   9.716288566589355],\n",
       "  [10.178739547729492,\n",
       "   9.065033912658691,\n",
       "   9.791705131530762,\n",
       "   10.57628059387207],\n",
       "  [10.178739547729492,\n",
       "   9.065033912658691,\n",
       "   9.791705131530762,\n",
       "   10.57628059387207],\n",
       "  [10.178739547729492,\n",
       "   9.065033912658691,\n",
       "   10.536744117736816,\n",
       "   9.57210636138916],\n",
       "  [10.178739547729492,\n",
       "   9.065033912658691,\n",
       "   10.906560897827148,\n",
       "   10.175162315368652],\n",
       "  [10.178739547729492,\n",
       "   9.065033912658691,\n",
       "   10.960749626159668,\n",
       "   10.4273042678833],\n",
       "  [10.178739547729492,\n",
       "   9.065033912658691,\n",
       "   10.960749626159668,\n",
       "   10.301621437072754],\n",
       "  [10.178739547729492,\n",
       "   9.065033912658691,\n",
       "   10.657373428344727,\n",
       "   9.777973175048828]],\n",
       " 'adjusted_score': 1.0}"
      ]
     },
     "execution_count": 23,
     "metadata": {},
     "output_type": "execute_result"
    }
   ],
   "source": [
    "top_neg[2]"
   ]
  },
  {
   "cell_type": "code",
   "execution_count": 24,
   "id": "75da4064",
   "metadata": {},
   "outputs": [
    {
     "ename": "IndexError",
     "evalue": "list index out of range",
     "output_type": "error",
     "traceback": [
      "\u001b[0;31m---------------------------------------------------------------------------\u001b[0m",
      "\u001b[0;31mIndexError\u001b[0m                                Traceback (most recent call last)",
      "Cell \u001b[0;32mIn[24], line 1\u001b[0m\n\u001b[0;32m----> 1\u001b[0m \u001b[43mhigher_pos\u001b[49m\u001b[43m[\u001b[49m\u001b[38;5;241;43m-\u001b[39;49m\u001b[38;5;241;43m1\u001b[39;49m\u001b[43m]\u001b[49m\n",
      "\u001b[0;31mIndexError\u001b[0m: list index out of range"
     ]
    }
   ],
   "source": [
    "higher_pos[-1]"
   ]
  },
  {
   "cell_type": "code",
   "execution_count": 83,
   "id": "7acfc1ee",
   "metadata": {},
   "outputs": [
    {
     "name": "stdout",
     "output_type": "stream",
     "text": [
      "Example item: {'score': 1.0, 'length': 4, 'label': 0, 'has_neg': True, 'pos_dist': [9.06659984588623, 11.812776565551758, 9.020383834838867, 10.778009414672852], 'neg_dist': [[9.06659984588623, 9.067873001098633, 9.627302169799805, 9.019967079162598], [9.06659984588623, 9.067873001098633, 9.627302169799805, 9.019967079162598], [9.06659984588623, 9.146127700805664, 9.094917297363281, 8.964913368225098], [9.06659984588623, 9.146127700805664, 9.094917297363281, 8.964913368225098], [9.06659984588623, 9.146127700805664, 9.094917297363281, 8.964913368225098], [9.06659984588623, 9.146127700805664, 9.094917297363281, 8.964913368225098], [9.06659984588623, 9.146127700805664, 9.094917297363281, 8.964913368225098], [9.06659984588623, 9.146127700805664, 9.094917297363281, 8.964913368225098], [9.06659984588623, 9.5545072555542, 9.07029914855957, 9.351490020751953], [9.06659984588623, 9.5545072555542, 9.07029914855957, 9.351490020751953], [9.06659984588623, 9.5545072555542, 9.07029914855957, 9.351490020751953], [9.06659984588623, 9.5545072555542, 9.07029914855957, 9.122496604919434], [9.06659984588623, 9.5545072555542, 9.07029914855957, 9.122496604919434], [9.06659984588623, 9.5545072555542, 9.07029914855957, 9.122496604919434], [9.06659984588623, 9.5545072555542, 9.07029914855957, 9.122496604919434], [9.06659984588623, 9.5545072555542, 9.07029914855957, 9.122496604919434], [9.06659984588623, 9.5545072555542, 9.07029914855957, 9.122496604919434], [9.06659984588623, 9.5545072555542, 9.07029914855957, 9.146615028381348], [9.06659984588623, 9.5545072555542, 9.07029914855957, 9.146615028381348], [9.06659984588623, 9.5545072555542, 9.07029914855957, 9.146615028381348]], 'adjusted_score': 1.0}\n"
     ]
    }
   ],
   "source": [
    "# example = top_pos[40000]\n",
    "example = top_neg[-2]\n",
    "print(f\"Example item: {example}\")"
   ]
  },
  {
   "cell_type": "code",
   "execution_count": 84,
   "id": "2afa3a30",
   "metadata": {},
   "outputs": [],
   "source": [
    "import torch"
   ]
  },
  {
   "cell_type": "code",
   "execution_count": 85,
   "id": "5e564b9b",
   "metadata": {},
   "outputs": [],
   "source": [
    "pos = torch.tensor(example['pos_dist']) # (length, )\n",
    "neg = torch.tensor(example['neg_dist'])  # (num_neg, length)"
   ]
  },
  {
   "cell_type": "code",
   "execution_count": 86,
   "id": "3b9f8949",
   "metadata": {},
   "outputs": [],
   "source": [
    "if config_data[\"positive_deviation\"]:\n",
    "    # Add pos (length, ) to neg pool (num_neg, length)\n",
    "    neg = torch.cat([neg, pos.unsqueeze(0)], dim=0)"
   ]
  },
  {
   "cell_type": "code",
   "execution_count": 87,
   "id": "8a0e824d",
   "metadata": {},
   "outputs": [
    {
     "data": {
      "text/plain": [
       "(torch.Size([4]), torch.Size([21, 4]))"
      ]
     },
     "execution_count": 87,
     "metadata": {},
     "output_type": "execute_result"
    }
   ],
   "source": [
    "pos.shape, neg.shape"
   ]
  },
  {
   "cell_type": "code",
   "execution_count": 88,
   "id": "3723395e",
   "metadata": {},
   "outputs": [
    {
     "name": "stdout",
     "output_type": "stream",
     "text": [
      "tensor([9.0666, 9.4990, 9.1280, 9.1827]) tensor([0.0000, 0.5568, 0.1628, 0.3776])\n"
     ]
    }
   ],
   "source": [
    "mean, std = neg.mean(0), neg.std(0, correction=0)\n",
    "print(mean, std)"
   ]
  },
  {
   "cell_type": "code",
   "execution_count": 89,
   "id": "0a825f42",
   "metadata": {},
   "outputs": [
    {
     "name": "stdout",
     "output_type": "stream",
     "text": [
      "tensor([ 0.0000,  4.1558, -0.6610,  4.2252]) tensor(1.9300)\n"
     ]
    }
   ],
   "source": [
    "z = (pos - mean) / (std + 1e-8)\n",
    "mean_z = z.mean()\n",
    "print(z, mean_z)"
   ]
  },
  {
   "cell_type": "code",
   "execution_count": 90,
   "id": "bcff3d97",
   "metadata": {},
   "outputs": [
    {
     "name": "stdout",
     "output_type": "stream",
     "text": [
      "Arcsinh mean z: 1.4118947982788086\n"
     ]
    }
   ],
   "source": [
    "# arcsinh(mean z)\n",
    "arcsinh_mean_z = torch.asinh(mean_z)\n",
    "print(f\"Arcsinh mean z: {arcsinh_mean_z}\")"
   ]
  },
  {
   "cell_type": "code",
   "execution_count": null,
   "id": "e76604b5",
   "metadata": {},
   "outputs": [],
   "source": []
  }
 ],
 "metadata": {
  "kernelspec": {
   "display_name": "graphml",
   "language": "python",
   "name": "python3"
  },
  "language_info": {
   "codemirror_mode": {
    "name": "ipython",
    "version": 3
   },
   "file_extension": ".py",
   "mimetype": "text/x-python",
   "name": "python",
   "nbconvert_exporter": "python",
   "pygments_lexer": "ipython3",
   "version": "3.11.8"
  }
 },
 "nbformat": 4,
 "nbformat_minor": 5
}

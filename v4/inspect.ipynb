{
 "cells": [
  {
   "cell_type": "code",
   "execution_count": 1,
   "id": "524ea7c0",
   "metadata": {},
   "outputs": [
    {
     "name": "stdout",
     "output_type": "stream",
     "text": [
      "{'dataset': 'ogbl-collab', 'storage_dir': '../data/', 'embedding_config': './full_embedding.json', 'train_ratio': 0.3, 'hidden_dim': 128, 'max_hops': 4, 'num_neg': 50, 'num_threads': 'vast', 'max_epochs': 2, 'batch_size': 'vast', 'dim_feedforward': 128, 'nhead': 4, 'num_layers': 4, 'dropout': 0.1, 'store': 'model', 'save_text_embeddings': True, 'shallow': True, 'pre_scan': ['train'], 'adjust_no_neg_paths_samples': True, 'max_adjust': 5.0, 'positive_deviation': True, 'embedding': 'all', 'test_time': 1, 'num_ckpt': 2, 'scale_loss': True, 'chi2': False, 'lr': 0.0001, 'wandb_project': 'thesis-graph'}\n"
     ]
    }
   ],
   "source": [
    "import os\n",
    "import json\n",
    "import pandas as pd\n",
    "import numpy as np\n",
    "import matplotlib.pyplot as plt\n",
    "import seaborn as sns\n",
    "from loader import PathDataModule\n",
    "from tqdm import tqdm\n",
    "\n",
    "# --- 1. Configuration and Data Loading ---\n",
    "config_path = 'full.json'\n",
    "config_data = json.load(open(config_path, 'r'))\n",
    "print(config_data)"
   ]
  },
  {
   "cell_type": "code",
   "execution_count": 2,
   "id": "9ce40a47",
   "metadata": {},
   "outputs": [],
   "source": [
    "import torch"
   ]
  },
  {
   "cell_type": "code",
   "execution_count": 3,
   "id": "25d7f189-3ec3-4ab7-8de1-414157b4c512",
   "metadata": {},
   "outputs": [
    {
     "name": "stdout",
     "output_type": "stream",
     "text": [
      "Not running on Vast.ai container, or failed to fetch instance info.\n",
      "Error: Not running on a Vast.ai container!\n"
     ]
    }
   ],
   "source": [
    "import os, requests, json, pprint\n",
    "\n",
    "try:\n",
    "    cid  = os.getenv(\"CONTAINER_ID\")          # ← set by Vast.ai inside every container\n",
    "    key  = os.getenv(\"CONTAINER_API_KEY\")     # ← scoped token for this one instance\n",
    "    assert cid and key, \"Not running on a Vast.ai container!\"\n",
    "\n",
    "    resp = requests.get(\n",
    "        f\"https://console.vast.ai/api/v0/instances/{cid}/\",\n",
    "        headers={\"Authorization\": f\"Bearer {key}\",\n",
    "                \"accept\": \"application/json\"},\n",
    "        timeout=10,\n",
    "    )\n",
    "\n",
    "    info = resp.json()\n",
    "    print(\"Effective vCPUs:\", info['instances'][\"cpu_cores_effective\"])\n",
    "    # print(info['instances'].keys())\n",
    "except Exception as e:\n",
    "    print(\"Not running on Vast.ai container, or failed to fetch instance info.\")\n",
    "    print(\"Error:\", e)"
   ]
  },
  {
   "cell_type": "code",
   "execution_count": 4,
   "id": "3e197402",
   "metadata": {},
   "outputs": [
    {
     "name": "stdout",
     "output_type": "stream",
     "text": [
      "Embedding config path: ./full_embedding.json\n"
     ]
    },
    {
     "data": {
      "text/plain": [
       "{'batch_size': 4096,\n",
       " 'lr': 0.001,\n",
       " 'epochs': 10,\n",
       " 'model_name': 'transe',\n",
       " 'hidden_channels': 128,\n",
       " 'p_norm': 2}"
      ]
     },
     "execution_count": 4,
     "metadata": {},
     "output_type": "execute_result"
    }
   ],
   "source": [
    "import json\n",
    "import os\n",
    "\n",
    "embedding_cfg_path = config_data['embedding_config'] # path to config file\n",
    "print(\"Embedding config path:\", embedding_cfg_path)\n",
    "# Read config from json file at embedding cfg path\n",
    "with open(embedding_cfg_path, 'r') as f:\n",
    "    embedding_cfg = json.load(f)\n",
    "    \n",
    "embedding_cfg"
   ]
  },
  {
   "cell_type": "code",
   "execution_count": 5,
   "id": "03a63495-3ce5-4c7d-b54d-767672d9d576",
   "metadata": {},
   "outputs": [
    {
     "name": "stdout",
     "output_type": "stream",
     "text": [
      "Save directory: ../data/transe/ogbl-collab/thesis-graph\n"
     ]
    }
   ],
   "source": [
    "\n",
    "\n",
    "# --- 2. Load exported JSON results from model.py ---\n",
    "\n",
    "# Construct the path to your export (update these variables as needed)\n",
    "save_dir = config_data['storage_dir'] + embedding_cfg['model_name'] + \\\n",
    "    \"/\" + config_data['dataset'] + \"/\" + config_data['wandb_project']\n",
    "    \n",
    "print(f\"Save directory: {save_dir}\")\n"
   ]
  },
  {
   "cell_type": "code",
   "execution_count": 6,
   "id": "614aa8ff",
   "metadata": {},
   "outputs": [
    {
     "name": "stdout",
     "output_type": "stream",
     "text": [
      "../data/transe/ogbl-collab/thesis-graph/2/train_val_0_raw.json\n"
     ]
    }
   ],
   "source": [
    "wandb_name = \"2\"      \n",
    "stage = \"val\"  # or \"test\"\n",
    "epoch = \"0\"  # e.g. \"9\"\n",
    "test_time = False  # set True if test_time\n",
    "\n",
    "prefix = \"test\" if test_time else \"train\"\n",
    "export_path = os.path.join(save_dir, wandb_name, f\"{prefix}_{stage}_{epoch}_raw.json\")\n",
    "print(export_path)"
   ]
  },
  {
   "cell_type": "code",
   "execution_count": 7,
   "id": "3a3c6075",
   "metadata": {},
   "outputs": [
    {
     "name": "stdout",
     "output_type": "stream",
     "text": [
      "Loaded 160084\n"
     ]
    }
   ],
   "source": [
    "# Load the JSON file\n",
    "with open(export_path, \"r\") as f:\n",
    "    export_items = json.load(f)\n",
    "\n",
    "print(f\"Loaded {len(export_items)}\")"
   ]
  },
  {
   "cell_type": "code",
   "execution_count": 8,
   "id": "11c7d9a1",
   "metadata": {},
   "outputs": [
    {
     "data": {
      "text/plain": [
       "{'score': 0.10750281810760498,\n",
       " 'length': 1,\n",
       " 'label': 1,\n",
       " 'has_neg': True,\n",
       " 'pos_dist': [15.462690353393555],\n",
       " 'neg_dist': [[12.960073471069336],\n",
       "  [12.960073471069336],\n",
       "  [12.960073471069336],\n",
       "  [12.960073471069336],\n",
       "  [13.251718521118164],\n",
       "  [15.462690353393555],\n",
       "  [15.462690353393555],\n",
       "  [15.462690353393555],\n",
       "  [13.712559700012207],\n",
       "  [13.712559700012207],\n",
       "  [13.712559700012207],\n",
       "  [12.98974895477295],\n",
       "  [12.98974895477295],\n",
       "  [13.873517036437988],\n",
       "  [13.166553497314453],\n",
       "  [15.610689163208008],\n",
       "  [12.945801734924316],\n",
       "  [15.426545143127441],\n",
       "  [14.956171035766602],\n",
       "  [15.73241138458252]],\n",
       " 'adjusted_score': 5.1075029373168945,\n",
       " 'mean_z': 1.2399181127548218,\n",
       " 'loss': 1.0412794351577759}"
      ]
     },
     "execution_count": 8,
     "metadata": {},
     "output_type": "execute_result"
    }
   ],
   "source": [
    "export_items[0]"
   ]
  },
  {
   "cell_type": "code",
   "execution_count": 9,
   "id": "50d64cec",
   "metadata": {},
   "outputs": [
    {
     "name": "stdout",
     "output_type": "stream",
     "text": [
      "Max hops: 4, Max adjust: 5.0\n"
     ]
    }
   ],
   "source": [
    "# recompute adjusted score\n",
    "max_hops = config_data['max_hops']\n",
    "max_adjust = config_data['max_adjust']\n",
    "print(f\"Max hops: {max_hops}, Max adjust: {max_adjust}\")"
   ]
  },
  {
   "cell_type": "code",
   "execution_count": 10,
   "id": "e9b9b26e",
   "metadata": {},
   "outputs": [
    {
     "name": "stderr",
     "output_type": "stream",
     "text": [
      "100%|██████████| 160084/160084 [00:00<00:00, 3708553.13it/s]"
     ]
    },
    {
     "name": "stdout",
     "output_type": "stream",
     "text": [
      "Minimum length: 1\n"
     ]
    },
    {
     "name": "stderr",
     "output_type": "stream",
     "text": [
      "\n"
     ]
    }
   ],
   "source": [
    "# length zero adjusted to max_hops + 2\n",
    "for item in tqdm(export_items):\n",
    "    if item['length'] == 0:\n",
    "        item['length'] = max_hops + 2\n",
    "\n",
    "min_length = min(item['length'] for item in export_items)\n",
    "print(f\"Minimum length: {min_length}\")"
   ]
  },
  {
   "cell_type": "code",
   "execution_count": 11,
   "id": "f7ebe84b",
   "metadata": {},
   "outputs": [
    {
     "name": "stderr",
     "output_type": "stream",
     "text": [
      "  0%|          | 0/160084 [00:00<?, ?it/s]"
     ]
    },
    {
     "name": "stderr",
     "output_type": "stream",
     "text": [
      "100%|██████████| 160084/160084 [00:00<00:00, 2261139.87it/s]\n"
     ]
    }
   ],
   "source": [
    "# adjusted score\n",
    "for item in tqdm(export_items):\n",
    "    # ratio = 1 - (item['length'] - min_length) / (max_hops + 1 - min_length)\n",
    "    # item['adjusted_score'] = item['score'] + (ratio * max_adjust)\n",
    "    item['adjusted_score'] = item['score']"
   ]
  },
  {
   "cell_type": "code",
   "execution_count": 12,
   "id": "ede36376",
   "metadata": {},
   "outputs": [
    {
     "name": "stderr",
     "output_type": "stream",
     "text": [
      "100%|██████████| 160084/160084 [00:03<00:00, 45620.43it/s] \n"
     ]
    }
   ],
   "source": [
    "# Re-compute the percentile pos for each items in given export_items\n",
    "for item in tqdm(export_items):\n",
    "    if item['pos_dist'] is not None:\n",
    "        pos = torch.tensor(item['pos_dist'])\n",
    "        if item['neg_dist'] is None:\n",
    "            item['percentile_pos'] = 1.0\n",
    "            continue\n",
    "        \n",
    "        neg = torch.tensor(item['neg_dist'])\n",
    "        \n",
    "        if config_data[\"positive_deviation\"]:\n",
    "            neg = torch.cat([neg, pos.unsqueeze(0)], dim=0)\n",
    "        \n",
    "        mean, std = neg.mean(0), neg.std(0, correction=0)\n",
    "        z = torch.where(std > 1e-4, (pos - mean) / std,\n",
    "                        torch.zeros(pos.shape, dtype=pos.dtype, device=pos.device))\n",
    "        mean_z = z.mean()\n",
    "    \n",
    "        item['loss'] = mean_z.item() if config_data['scale_loss'] else torch.asinh(mean_z).item()\n",
    "        item['percentile_pos'] = 1.0 - torch.special.ndtr(mean_z).item()\n",
    "    else:\n",
    "        item['percentile_pos'] = 0.0"
   ]
  },
  {
   "cell_type": "code",
   "execution_count": 13,
   "id": "46e373eb",
   "metadata": {},
   "outputs": [
    {
     "data": {
      "text/plain": [
       "{'score': 0.0,\n",
       " 'length': 6,\n",
       " 'label': 1,\n",
       " 'has_neg': False,\n",
       " 'pos_dist': None,\n",
       " 'neg_dist': None,\n",
       " 'adjusted_score': 0.0,\n",
       " 'mean_z': None,\n",
       " 'loss': None,\n",
       " 'percentile_pos': 0.0}"
      ]
     },
     "execution_count": 13,
     "metadata": {},
     "output_type": "execute_result"
    }
   ],
   "source": [
    "export_items[3]"
   ]
  },
  {
   "cell_type": "code",
   "execution_count": 14,
   "id": "da35d4e6",
   "metadata": {},
   "outputs": [
    {
     "name": "stdout",
     "output_type": "stream",
     "text": [
      "Filtered non-zero items: 7083\n"
     ]
    }
   ],
   "source": [
    "# Get list of label 0 but non-zero length\n",
    "neg_items = [item for item in export_items if item['label'] == 0 and item['has_neg']]\n",
    "print(f\"Filtered non-zero items: {len(neg_items)}\")"
   ]
  },
  {
   "cell_type": "code",
   "execution_count": 15,
   "id": "f24aa22e",
   "metadata": {},
   "outputs": [
    {
     "data": {
      "text/plain": [
       "{'score': 0.975851833820343,\n",
       " 'length': 4,\n",
       " 'label': 0,\n",
       " 'has_neg': True,\n",
       " 'pos_dist': [14.205718994140625,\n",
       "  14.845471382141113,\n",
       "  13.80765151977539,\n",
       "  7.599095821380615],\n",
       " 'neg_dist': [[14.205718994140625,\n",
       "   14.925834655761719,\n",
       "   15.032785415649414,\n",
       "   14.57801342010498],\n",
       "  [14.205718994140625,\n",
       "   14.925834655761719,\n",
       "   15.032785415649414,\n",
       "   14.782130241394043],\n",
       "  [15.836421966552734,\n",
       "   13.316373825073242,\n",
       "   14.806684494018555,\n",
       "   14.716327667236328],\n",
       "  [15.836421966552734,\n",
       "   13.316373825073242,\n",
       "   14.806684494018555,\n",
       "   14.716327667236328],\n",
       "  [15.836421966552734,\n",
       "   13.316373825073242,\n",
       "   14.806684494018555,\n",
       "   14.716327667236328],\n",
       "  [15.836421966552734,\n",
       "   13.316373825073242,\n",
       "   14.806684494018555,\n",
       "   14.671391487121582],\n",
       "  [15.836421966552734,\n",
       "   13.316373825073242,\n",
       "   14.806684494018555,\n",
       "   14.671391487121582],\n",
       "  [15.836421966552734,\n",
       "   13.316373825073242,\n",
       "   14.806684494018555,\n",
       "   14.671391487121582],\n",
       "  [14.205718994140625,\n",
       "   14.845471382141113,\n",
       "   14.79312515258789,\n",
       "   14.714442253112793],\n",
       "  [15.703465461730957,\n",
       "   13.414989471435547,\n",
       "   14.677414894104004,\n",
       "   14.533742904663086],\n",
       "  [15.836421966552734,\n",
       "   13.316373825073242,\n",
       "   14.600831031799316,\n",
       "   14.879701614379883],\n",
       "  [15.836421966552734,\n",
       "   13.316373825073242,\n",
       "   14.600831031799316,\n",
       "   14.879701614379883],\n",
       "  [15.836421966552734,\n",
       "   13.316373825073242,\n",
       "   14.600831031799316,\n",
       "   14.879701614379883],\n",
       "  [15.836421966552734,\n",
       "   13.316373825073242,\n",
       "   14.42543888092041,\n",
       "   14.271379470825195],\n",
       "  [15.836421966552734,\n",
       "   13.316373825073242,\n",
       "   14.42543888092041,\n",
       "   14.271379470825195],\n",
       "  [15.836421966552734,\n",
       "   13.316373825073242,\n",
       "   14.42543888092041,\n",
       "   14.271379470825195],\n",
       "  [15.703465461730957,\n",
       "   13.414989471435547,\n",
       "   14.677414894104004,\n",
       "   14.400190353393555],\n",
       "  [15.836421966552734,\n",
       "   13.316373825073242,\n",
       "   14.806684494018555,\n",
       "   14.19160270690918],\n",
       "  [15.836421966552734,\n",
       "   13.316373825073242,\n",
       "   14.806684494018555,\n",
       "   14.19160270690918],\n",
       "  [15.836421966552734,\n",
       "   13.316373825073242,\n",
       "   14.806684494018555,\n",
       "   14.19160270690918]],\n",
       " 'adjusted_score': 0.975851833820343,\n",
       " 'mean_z': -1.9747517108917236,\n",
       " 'loss': -1.9747527837753296,\n",
       " 'percentile_pos': 0.9758519530296326}"
      ]
     },
     "execution_count": 15,
     "metadata": {},
     "output_type": "execute_result"
    }
   ],
   "source": [
    "neg_items[200]"
   ]
  },
  {
   "cell_type": "code",
   "execution_count": 16,
   "id": "bb49d476",
   "metadata": {},
   "outputs": [
    {
     "name": "stdout",
     "output_type": "stream",
     "text": [
      "Filtered positive items: 47553\n"
     ]
    }
   ],
   "source": [
    "pos_items = [item for item in export_items if item['label'] == 1 and item['has_neg']]\n",
    "print(f\"Filtered positive items: {len(pos_items)}\")"
   ]
  },
  {
   "cell_type": "code",
   "execution_count": 17,
   "id": "7bcb8f77",
   "metadata": {},
   "outputs": [
    {
     "data": {
      "text/plain": [
       "{'score': 0.10750281810760498,\n",
       " 'length': 1,\n",
       " 'label': 1,\n",
       " 'has_neg': True,\n",
       " 'pos_dist': [15.462690353393555],\n",
       " 'neg_dist': [[12.960073471069336],\n",
       "  [12.960073471069336],\n",
       "  [12.960073471069336],\n",
       "  [12.960073471069336],\n",
       "  [13.251718521118164],\n",
       "  [15.462690353393555],\n",
       "  [15.462690353393555],\n",
       "  [15.462690353393555],\n",
       "  [13.712559700012207],\n",
       "  [13.712559700012207],\n",
       "  [13.712559700012207],\n",
       "  [12.98974895477295],\n",
       "  [12.98974895477295],\n",
       "  [13.873517036437988],\n",
       "  [13.166553497314453],\n",
       "  [15.610689163208008],\n",
       "  [12.945801734924316],\n",
       "  [15.426545143127441],\n",
       "  [14.956171035766602],\n",
       "  [15.73241138458252]],\n",
       " 'adjusted_score': 0.10750281810760498,\n",
       " 'mean_z': 1.2399181127548218,\n",
       " 'loss': 1.2399171590805054,\n",
       " 'percentile_pos': 0.10750305652618408}"
      ]
     },
     "execution_count": 17,
     "metadata": {},
     "output_type": "execute_result"
    }
   ],
   "source": [
    "pos_items[0]"
   ]
  },
  {
   "cell_type": "code",
   "execution_count": 18,
   "id": "016de052",
   "metadata": {},
   "outputs": [
    {
     "name": "stdout",
     "output_type": "stream",
     "text": [
      "Top 50 negative items: 50\n"
     ]
    }
   ],
   "source": [
    "K = 50\n",
    "# Select top K items in negative highest adjsuted scores\n",
    "top_neg = sorted(\n",
    "    neg_items, key=lambda x: x['percentile_pos'], reverse=True)[:K]\n",
    "print(f\"Top {K} negative items: {len(top_neg)}\")"
   ]
  },
  {
   "cell_type": "code",
   "execution_count": 19,
   "id": "c213404d",
   "metadata": {},
   "outputs": [
    {
     "data": {
      "text/plain": [
       "{'score': 0.9999960660934448,\n",
       " 'length': 4,\n",
       " 'label': 0,\n",
       " 'has_neg': True,\n",
       " 'pos_dist': [12.284375190734863,\n",
       "  9.813383102416992,\n",
       "  1.6950284242630005,\n",
       "  7.609344482421875],\n",
       " 'neg_dist': [[16.01152229309082,\n",
       "   12.675353050231934,\n",
       "   14.790236473083496,\n",
       "   14.491157531738281],\n",
       "  [16.01152229309082,\n",
       "   12.675353050231934,\n",
       "   14.790236473083496,\n",
       "   14.491157531738281],\n",
       "  [16.01152229309082,\n",
       "   12.675353050231934,\n",
       "   14.790236473083496,\n",
       "   14.397222518920898],\n",
       "  [16.01152229309082,\n",
       "   12.675353050231934,\n",
       "   14.790236473083496,\n",
       "   14.397222518920898],\n",
       "  [16.01152229309082,\n",
       "   12.675353050231934,\n",
       "   14.790236473083496,\n",
       "   14.397222518920898],\n",
       "  [16.01152229309082,\n",
       "   12.675353050231934,\n",
       "   14.790236473083496,\n",
       "   14.397222518920898],\n",
       "  [16.01152229309082,\n",
       "   12.675353050231934,\n",
       "   14.790236473083496,\n",
       "   14.37536334991455],\n",
       "  [16.01152229309082,\n",
       "   12.675353050231934,\n",
       "   14.790236473083496,\n",
       "   14.37536334991455],\n",
       "  [16.01152229309082,\n",
       "   12.675353050231934,\n",
       "   14.790236473083496,\n",
       "   14.377911567687988],\n",
       "  [16.01152229309082,\n",
       "   12.675353050231934,\n",
       "   14.790236473083496,\n",
       "   14.377911567687988],\n",
       "  [16.01152229309082,\n",
       "   12.675353050231934,\n",
       "   14.790236473083496,\n",
       "   14.342912673950195],\n",
       "  [16.01152229309082,\n",
       "   12.675353050231934,\n",
       "   14.790236473083496,\n",
       "   14.342912673950195],\n",
       "  [16.01152229309082,\n",
       "   12.656277656555176,\n",
       "   14.470670700073242,\n",
       "   14.346878051757812],\n",
       "  [16.01152229309082,\n",
       "   12.656277656555176,\n",
       "   14.470670700073242,\n",
       "   14.346878051757812],\n",
       "  [16.01152229309082,\n",
       "   12.675353050231934,\n",
       "   14.790236473083496,\n",
       "   14.273494720458984],\n",
       "  [16.01152229309082,\n",
       "   12.675353050231934,\n",
       "   14.790236473083496,\n",
       "   14.273494720458984],\n",
       "  [16.01152229309082,\n",
       "   12.466301918029785,\n",
       "   14.689703941345215,\n",
       "   14.224713325500488],\n",
       "  [16.01152229309082,\n",
       "   12.675353050231934,\n",
       "   14.790236473083496,\n",
       "   14.585489273071289],\n",
       "  [16.01152229309082,\n",
       "   12.675353050231934,\n",
       "   14.790236473083496,\n",
       "   14.585489273071289],\n",
       "  [16.01152229309082,\n",
       "   12.675353050231934,\n",
       "   14.790236473083496,\n",
       "   14.585489273071289]],\n",
       " 'adjusted_score': 0.9999960660934448,\n",
       " 'mean_z': -4.466015338897705,\n",
       " 'loss': -4.466015338897705,\n",
       " 'percentile_pos': 0.9999960064888}"
      ]
     },
     "execution_count": 19,
     "metadata": {},
     "output_type": "execute_result"
    }
   ],
   "source": [
    "top_neg[-1]"
   ]
  },
  {
   "cell_type": "code",
   "execution_count": 20,
   "id": "de7b5e72",
   "metadata": {},
   "outputs": [
    {
     "name": "stdout",
     "output_type": "stream",
     "text": [
      "Top negative score: 0.9999960064888\n"
     ]
    }
   ],
   "source": [
    "top_neg_score = top_neg[-1]['percentile_pos']\n",
    "print(f\"Top negative score: {top_neg_score}\")"
   ]
  },
  {
   "cell_type": "code",
   "execution_count": 21,
   "id": "9ef9f857",
   "metadata": {},
   "outputs": [
    {
     "data": {
      "text/plain": [
       "tensor([[16.0115, 12.6754, 14.7902, 14.4912],\n",
       "        [16.0115, 12.6754, 14.7902, 14.4912],\n",
       "        [16.0115, 12.6754, 14.7902, 14.3972],\n",
       "        [16.0115, 12.6754, 14.7902, 14.3972],\n",
       "        [16.0115, 12.6754, 14.7902, 14.3972],\n",
       "        [16.0115, 12.6754, 14.7902, 14.3972],\n",
       "        [16.0115, 12.6754, 14.7902, 14.3754],\n",
       "        [16.0115, 12.6754, 14.7902, 14.3754],\n",
       "        [16.0115, 12.6754, 14.7902, 14.3779],\n",
       "        [16.0115, 12.6754, 14.7902, 14.3779],\n",
       "        [16.0115, 12.6754, 14.7902, 14.3429],\n",
       "        [16.0115, 12.6754, 14.7902, 14.3429],\n",
       "        [16.0115, 12.6563, 14.4707, 14.3469],\n",
       "        [16.0115, 12.6563, 14.4707, 14.3469],\n",
       "        [16.0115, 12.6754, 14.7902, 14.2735],\n",
       "        [16.0115, 12.6754, 14.7902, 14.2735],\n",
       "        [16.0115, 12.4663, 14.6897, 14.2247],\n",
       "        [16.0115, 12.6754, 14.7902, 14.5855],\n",
       "        [16.0115, 12.6754, 14.7902, 14.5855],\n",
       "        [16.0115, 12.6754, 14.7902, 14.5855]])"
      ]
     },
     "execution_count": 21,
     "metadata": {},
     "output_type": "execute_result"
    }
   ],
   "source": [
    "torch.tensor(top_neg[-1]['neg_dist'])"
   ]
  },
  {
   "cell_type": "code",
   "execution_count": 22,
   "id": "d1a1206b",
   "metadata": {},
   "outputs": [
    {
     "name": "stdout",
     "output_type": "stream",
     "text": [
      "Top positive items: 47553\n"
     ]
    }
   ],
   "source": [
    "# Sort the positive items by adjusted score\n",
    "top_pos = sorted(pos_items, key=lambda x: x['percentile_pos'], reverse=True)\n",
    "print(f\"Top positive items: {len(top_pos)}\")"
   ]
  },
  {
   "cell_type": "code",
   "execution_count": 23,
   "id": "7a72644e",
   "metadata": {},
   "outputs": [
    {
     "data": {
      "text/plain": [
       "{'score': 3.874301910400391e-06,\n",
       " 'length': 4,\n",
       " 'label': 1,\n",
       " 'has_neg': True,\n",
       " 'pos_dist': [16.070083618164062,\n",
       "  13.146574020385742,\n",
       "  14.963539123535156,\n",
       "  14.693155288696289],\n",
       " 'neg_dist': [[13.69365119934082,\n",
       "   12.98227310180664,\n",
       "   7.553370475769043,\n",
       "   12.711535453796387],\n",
       "  [13.69365119934082,\n",
       "   12.98227310180664,\n",
       "   7.553370475769043,\n",
       "   12.711535453796387],\n",
       "  [13.69365119934082,\n",
       "   12.98227310180664,\n",
       "   7.553370475769043,\n",
       "   12.711535453796387],\n",
       "  [13.69365119934082,\n",
       "   12.98227310180664,\n",
       "   7.553370475769043,\n",
       "   12.711535453796387],\n",
       "  [13.69365119934082,\n",
       "   12.98227310180664,\n",
       "   7.553370475769043,\n",
       "   12.711535453796387],\n",
       "  [13.69365119934082,\n",
       "   12.98227310180664,\n",
       "   7.553370475769043,\n",
       "   12.711535453796387],\n",
       "  [13.69365119934082,\n",
       "   12.98227310180664,\n",
       "   7.553370475769043,\n",
       "   12.711535453796387],\n",
       "  [13.69365119934082,\n",
       "   12.98227310180664,\n",
       "   7.553370475769043,\n",
       "   12.711535453796387],\n",
       "  [13.69365119934082,\n",
       "   12.98227310180664,\n",
       "   7.553370475769043,\n",
       "   12.711535453796387],\n",
       "  [13.69365119934082,\n",
       "   12.98227310180664,\n",
       "   7.553370475769043,\n",
       "   12.711535453796387],\n",
       "  [13.69365119934082,\n",
       "   12.98227310180664,\n",
       "   7.553370475769043,\n",
       "   12.711535453796387],\n",
       "  [13.69365119934082,\n",
       "   12.98227310180664,\n",
       "   7.553370475769043,\n",
       "   12.711535453796387],\n",
       "  [13.69365119934082,\n",
       "   12.98227310180664,\n",
       "   7.553370475769043,\n",
       "   12.711535453796387],\n",
       "  [13.69365119934082,\n",
       "   12.98227310180664,\n",
       "   7.553370475769043,\n",
       "   12.711535453796387],\n",
       "  [13.69365119934082,\n",
       "   12.98227310180664,\n",
       "   7.553370475769043,\n",
       "   12.711535453796387],\n",
       "  [13.69365119934082,\n",
       "   12.98227310180664,\n",
       "   7.553370475769043,\n",
       "   12.711535453796387],\n",
       "  [13.69365119934082,\n",
       "   12.98227310180664,\n",
       "   7.553370475769043,\n",
       "   12.711535453796387],\n",
       "  [13.69365119934082,\n",
       "   12.98227310180664,\n",
       "   7.553370475769043,\n",
       "   12.711535453796387],\n",
       "  [13.69365119934082,\n",
       "   12.98227310180664,\n",
       "   7.553370475769043,\n",
       "   12.711535453796387],\n",
       "  [13.69365119934082,\n",
       "   12.98227310180664,\n",
       "   7.553370475769043,\n",
       "   12.711535453796387]],\n",
       " 'adjusted_score': 3.874301910400391e-06,\n",
       " 'mean_z': 4.472146034240723,\n",
       " 'loss': 4.472150802612305,\n",
       " 'percentile_pos': 3.874301910400391e-06}"
      ]
     },
     "execution_count": 23,
     "metadata": {},
     "output_type": "execute_result"
    }
   ],
   "source": [
    "top_pos[-1]"
   ]
  },
  {
   "cell_type": "code",
   "execution_count": 24,
   "id": "d3816912",
   "metadata": {},
   "outputs": [
    {
     "data": {
      "text/plain": [
       "145"
      ]
     },
     "execution_count": 24,
     "metadata": {},
     "output_type": "execute_result"
    }
   ],
   "source": [
    "# How many pos items higher adjusted scores than last item in top_neg\n",
    "higher_pos = [\n",
    "    item for item in top_pos if item['percentile_pos'] > top_neg_score]\n",
    "len(higher_pos)"
   ]
  },
  {
   "cell_type": "code",
   "execution_count": 25,
   "id": "48c50508",
   "metadata": {},
   "outputs": [
    {
     "data": {
      "text/plain": [
       "0.003049229281012765"
      ]
     },
     "execution_count": 25,
     "metadata": {},
     "output_type": "execute_result"
    }
   ],
   "source": [
    "len(higher_pos) / len(pos_items)"
   ]
  },
  {
   "cell_type": "code",
   "execution_count": 26,
   "id": "ae7a8d16",
   "metadata": {},
   "outputs": [
    {
     "data": {
      "text/plain": [
       "{'score': 0.9999961256980896,\n",
       " 'length': 4,\n",
       " 'label': 0,\n",
       " 'has_neg': True,\n",
       " 'pos_dist': [13.994376182556152,\n",
       "  13.588933944702148,\n",
       "  13.632014274597168,\n",
       "  3.240152359008789],\n",
       " 'neg_dist': [[14.456518173217773,\n",
       "   13.721488952636719,\n",
       "   14.620986938476562,\n",
       "   14.500174522399902],\n",
       "  [14.456518173217773,\n",
       "   13.721488952636719,\n",
       "   14.620986938476562,\n",
       "   14.500174522399902],\n",
       "  [14.456518173217773,\n",
       "   13.721488952636719,\n",
       "   14.620986938476562,\n",
       "   14.500174522399902],\n",
       "  [14.456518173217773,\n",
       "   13.721488952636719,\n",
       "   14.620986938476562,\n",
       "   14.500174522399902],\n",
       "  [14.456518173217773,\n",
       "   13.721488952636719,\n",
       "   14.620986938476562,\n",
       "   14.500174522399902],\n",
       "  [14.456518173217773,\n",
       "   13.721488952636719,\n",
       "   14.620986938476562,\n",
       "   14.500174522399902],\n",
       "  [14.456518173217773,\n",
       "   13.721488952636719,\n",
       "   14.620986938476562,\n",
       "   14.500174522399902],\n",
       "  [14.456518173217773,\n",
       "   13.721488952636719,\n",
       "   14.620986938476562,\n",
       "   14.500174522399902],\n",
       "  [14.456518173217773,\n",
       "   13.721488952636719,\n",
       "   14.620986938476562,\n",
       "   14.500174522399902],\n",
       "  [14.456518173217773,\n",
       "   13.721488952636719,\n",
       "   14.620986938476562,\n",
       "   14.500174522399902],\n",
       "  [14.456518173217773,\n",
       "   13.721488952636719,\n",
       "   14.620986938476562,\n",
       "   14.500174522399902],\n",
       "  [14.456518173217773,\n",
       "   13.721488952636719,\n",
       "   14.620986938476562,\n",
       "   14.500174522399902],\n",
       "  [14.456518173217773,\n",
       "   13.721488952636719,\n",
       "   14.620986938476562,\n",
       "   14.491501808166504],\n",
       "  [14.456518173217773,\n",
       "   13.721488952636719,\n",
       "   14.620986938476562,\n",
       "   14.491501808166504],\n",
       "  [14.456518173217773,\n",
       "   13.721488952636719,\n",
       "   14.620986938476562,\n",
       "   14.491501808166504],\n",
       "  [14.456518173217773,\n",
       "   13.721488952636719,\n",
       "   14.620986938476562,\n",
       "   14.491501808166504],\n",
       "  [14.456518173217773,\n",
       "   13.721488952636719,\n",
       "   14.620986938476562,\n",
       "   14.491501808166504],\n",
       "  [14.456518173217773,\n",
       "   13.721488952636719,\n",
       "   14.620986938476562,\n",
       "   14.491501808166504],\n",
       "  [14.456518173217773,\n",
       "   13.721488952636719,\n",
       "   14.620986938476562,\n",
       "   14.491501808166504],\n",
       "  [14.456518173217773,\n",
       "   13.721488952636719,\n",
       "   14.620986938476562,\n",
       "   14.491501808166504]],\n",
       " 'adjusted_score': 0.9999961256980896,\n",
       " 'mean_z': -4.472152233123779,\n",
       " 'loss': -4.4721360206604,\n",
       " 'percentile_pos': 0.9999961256980896}"
      ]
     },
     "execution_count": 26,
     "metadata": {},
     "output_type": "execute_result"
    }
   ],
   "source": [
    "top_neg[2]"
   ]
  },
  {
   "cell_type": "code",
   "execution_count": 27,
   "id": "75da4064",
   "metadata": {},
   "outputs": [
    {
     "data": {
      "text/plain": [
       "{'score': 0.9999960660934448,\n",
       " 'length': 3,\n",
       " 'label': 1,\n",
       " 'has_neg': True,\n",
       " 'pos_dist': [10.830842018127441, 8.944114685058594, 1.5853381156921387],\n",
       " 'neg_dist': [[15.29787826538086, 13.035932540893555, 6.360732555389404],\n",
       "  [15.29787826538086, 13.035932540893555, 6.360732555389404],\n",
       "  [15.29787826538086, 13.035932540893555, 6.360732555389404],\n",
       "  [15.29787826538086, 13.035932540893555, 6.360732555389404],\n",
       "  [15.29787826538086, 13.035932540893555, 6.360732555389404],\n",
       "  [15.29787826538086, 13.035932540893555, 6.360732555389404],\n",
       "  [15.29787826538086, 13.035932540893555, 6.360732555389404],\n",
       "  [15.29787826538086, 13.035932540893555, 6.360732555389404],\n",
       "  [15.29787826538086, 13.035932540893555, 6.360732555389404],\n",
       "  [15.29787826538086, 13.035932540893555, 6.360732555389404],\n",
       "  [15.29787826538086, 13.035932540893555, 6.360732555389404],\n",
       "  [15.29787826538086, 13.035932540893555, 6.360732555389404],\n",
       "  [15.29787826538086, 13.035932540893555, 6.360732555389404],\n",
       "  [15.29787826538086, 13.035932540893555, 6.360732555389404],\n",
       "  [15.29787826538086, 13.035932540893555, 6.360732555389404],\n",
       "  [15.29787826538086, 13.035932540893555, 6.542077541351318],\n",
       "  [15.29787826538086, 13.035932540893555, 6.542077541351318],\n",
       "  [15.29787826538086, 13.035932540893555, 6.542077541351318],\n",
       "  [15.29787826538086, 13.035932540893555, 6.542077541351318],\n",
       "  [15.29787826538086, 13.035932540893555, 6.542077541351318]],\n",
       " 'adjusted_score': 0.9999960660934448,\n",
       " 'mean_z': -4.467999458312988,\n",
       " 'loss': -4.468000411987305,\n",
       " 'percentile_pos': 0.9999960362911224}"
      ]
     },
     "execution_count": 27,
     "metadata": {},
     "output_type": "execute_result"
    }
   ],
   "source": [
    "higher_pos[-1]"
   ]
  },
  {
   "cell_type": "code",
   "execution_count": 28,
   "id": "7acfc1ee",
   "metadata": {},
   "outputs": [
    {
     "data": {
      "text/plain": [
       "{'score': 0.9999961256980896,\n",
       " 'length': 4,\n",
       " 'label': 0,\n",
       " 'has_neg': True,\n",
       " 'pos_dist': [13.994376182556152,\n",
       "  13.588933944702148,\n",
       "  13.632014274597168,\n",
       "  3.240152359008789],\n",
       " 'neg_dist': [[14.456518173217773,\n",
       "   13.721488952636719,\n",
       "   14.620986938476562,\n",
       "   14.500174522399902],\n",
       "  [14.456518173217773,\n",
       "   13.721488952636719,\n",
       "   14.620986938476562,\n",
       "   14.500174522399902],\n",
       "  [14.456518173217773,\n",
       "   13.721488952636719,\n",
       "   14.620986938476562,\n",
       "   14.500174522399902],\n",
       "  [14.456518173217773,\n",
       "   13.721488952636719,\n",
       "   14.620986938476562,\n",
       "   14.500174522399902],\n",
       "  [14.456518173217773,\n",
       "   13.721488952636719,\n",
       "   14.620986938476562,\n",
       "   14.500174522399902],\n",
       "  [14.456518173217773,\n",
       "   13.721488952636719,\n",
       "   14.620986938476562,\n",
       "   14.500174522399902],\n",
       "  [14.456518173217773,\n",
       "   13.721488952636719,\n",
       "   14.620986938476562,\n",
       "   14.500174522399902],\n",
       "  [14.456518173217773,\n",
       "   13.721488952636719,\n",
       "   14.620986938476562,\n",
       "   14.500174522399902],\n",
       "  [14.456518173217773,\n",
       "   13.721488952636719,\n",
       "   14.620986938476562,\n",
       "   14.500174522399902],\n",
       "  [14.456518173217773,\n",
       "   13.721488952636719,\n",
       "   14.620986938476562,\n",
       "   14.500174522399902],\n",
       "  [14.456518173217773,\n",
       "   13.721488952636719,\n",
       "   14.620986938476562,\n",
       "   14.500174522399902],\n",
       "  [14.456518173217773,\n",
       "   13.721488952636719,\n",
       "   14.620986938476562,\n",
       "   14.500174522399902],\n",
       "  [14.456518173217773,\n",
       "   13.721488952636719,\n",
       "   14.620986938476562,\n",
       "   14.491501808166504],\n",
       "  [14.456518173217773,\n",
       "   13.721488952636719,\n",
       "   14.620986938476562,\n",
       "   14.491501808166504],\n",
       "  [14.456518173217773,\n",
       "   13.721488952636719,\n",
       "   14.620986938476562,\n",
       "   14.491501808166504],\n",
       "  [14.456518173217773,\n",
       "   13.721488952636719,\n",
       "   14.620986938476562,\n",
       "   14.491501808166504],\n",
       "  [14.456518173217773,\n",
       "   13.721488952636719,\n",
       "   14.620986938476562,\n",
       "   14.491501808166504],\n",
       "  [14.456518173217773,\n",
       "   13.721488952636719,\n",
       "   14.620986938476562,\n",
       "   14.491501808166504],\n",
       "  [14.456518173217773,\n",
       "   13.721488952636719,\n",
       "   14.620986938476562,\n",
       "   14.491501808166504],\n",
       "  [14.456518173217773,\n",
       "   13.721488952636719,\n",
       "   14.620986938476562,\n",
       "   14.491501808166504]],\n",
       " 'adjusted_score': 0.9999961256980896,\n",
       " 'mean_z': -4.472152233123779,\n",
       " 'loss': -4.4721360206604,\n",
       " 'percentile_pos': 0.9999961256980896}"
      ]
     },
     "execution_count": 28,
     "metadata": {},
     "output_type": "execute_result"
    }
   ],
   "source": [
    "# example = top_pos[40000]\n",
    "example = top_neg[2]\n",
    "example"
   ]
  },
  {
   "cell_type": "code",
   "execution_count": 29,
   "id": "5e564b9b",
   "metadata": {},
   "outputs": [],
   "source": [
    "pos = torch.tensor(example['pos_dist']) # (length, )\n",
    "neg = torch.tensor(example['neg_dist']) # (num_neg, length)"
   ]
  },
  {
   "cell_type": "code",
   "execution_count": 30,
   "id": "3b9f8949",
   "metadata": {},
   "outputs": [],
   "source": [
    "if config_data[\"positive_deviation\"]:\n",
    "    # Add pos (length, ) to neg pool (num_neg, length)\n",
    "    neg = torch.cat([neg, pos.unsqueeze(0)], dim=0)"
   ]
  },
  {
   "cell_type": "code",
   "execution_count": 31,
   "id": "8a0e824d",
   "metadata": {},
   "outputs": [
    {
     "data": {
      "text/plain": [
       "(torch.Size([4]), torch.Size([21, 4]))"
      ]
     },
     "execution_count": 31,
     "metadata": {},
     "output_type": "execute_result"
    }
   ],
   "source": [
    "pos.shape, neg.shape"
   ]
  },
  {
   "cell_type": "code",
   "execution_count": 32,
   "id": "cff7796b",
   "metadata": {},
   "outputs": [
    {
     "data": {
      "text/plain": [
       "tensor([13.9944, 13.5889, 13.6320,  3.2402])"
      ]
     },
     "execution_count": 32,
     "metadata": {},
     "output_type": "execute_result"
    }
   ],
   "source": [
    "pos"
   ]
  },
  {
   "cell_type": "code",
   "execution_count": 33,
   "id": "3e556daf",
   "metadata": {},
   "outputs": [
    {
     "data": {
      "text/plain": [
       "tensor([[14.4565, 13.7215, 14.6210, 14.5002],\n",
       "        [14.4565, 13.7215, 14.6210, 14.5002],\n",
       "        [14.4565, 13.7215, 14.6210, 14.5002],\n",
       "        [14.4565, 13.7215, 14.6210, 14.5002],\n",
       "        [14.4565, 13.7215, 14.6210, 14.5002],\n",
       "        [14.4565, 13.7215, 14.6210, 14.5002],\n",
       "        [14.4565, 13.7215, 14.6210, 14.5002],\n",
       "        [14.4565, 13.7215, 14.6210, 14.5002],\n",
       "        [14.4565, 13.7215, 14.6210, 14.5002],\n",
       "        [14.4565, 13.7215, 14.6210, 14.5002],\n",
       "        [14.4565, 13.7215, 14.6210, 14.5002],\n",
       "        [14.4565, 13.7215, 14.6210, 14.5002],\n",
       "        [14.4565, 13.7215, 14.6210, 14.4915],\n",
       "        [14.4565, 13.7215, 14.6210, 14.4915],\n",
       "        [14.4565, 13.7215, 14.6210, 14.4915],\n",
       "        [14.4565, 13.7215, 14.6210, 14.4915],\n",
       "        [14.4565, 13.7215, 14.6210, 14.4915],\n",
       "        [14.4565, 13.7215, 14.6210, 14.4915],\n",
       "        [14.4565, 13.7215, 14.6210, 14.4915],\n",
       "        [14.4565, 13.7215, 14.6210, 14.4915],\n",
       "        [13.9944, 13.5889, 13.6320,  3.2402]])"
      ]
     },
     "execution_count": 33,
     "metadata": {},
     "output_type": "execute_result"
    }
   ],
   "source": [
    "neg"
   ]
  },
  {
   "cell_type": "code",
   "execution_count": 34,
   "id": "3723395e",
   "metadata": {},
   "outputs": [
    {
     "name": "stdout",
     "output_type": "stream",
     "text": [
      "tensor([14.4345, 13.7152, 14.5739, 13.9607]) tensor([0.0984, 0.0282, 0.2106, 2.3972])\n"
     ]
    }
   ],
   "source": [
    "mean, std = neg.mean(0), neg.std(0, correction=0)\n",
    "print(mean, std)"
   ]
  },
  {
   "cell_type": "code",
   "execution_count": 35,
   "id": "0a825f42",
   "metadata": {},
   "outputs": [
    {
     "name": "stdout",
     "output_type": "stream",
     "text": [
      "tensor([-4.4721, -4.4722, -4.4721, -4.4721]) tensor(-4.4721)\n"
     ]
    }
   ],
   "source": [
    "z = torch.where(std > 1e-4, (pos - mean) / std, torch.zeros(pos.shape, dtype=pos.dtype, device=pos.device))\n",
    "mean_z = z.mean()\n",
    "print(z, mean_z)"
   ]
  },
  {
   "cell_type": "code",
   "execution_count": 36,
   "id": "bcff3d97",
   "metadata": {},
   "outputs": [
    {
     "name": "stdout",
     "output_type": "stream",
     "text": [
      "Arcsinh mean z: -2.2032852172851562\n"
     ]
    }
   ],
   "source": [
    "# arcsinh(mean z)\n",
    "arcsinh_mean_z = torch.asinh(mean_z)\n",
    "print(f\"Arcsinh mean z: {arcsinh_mean_z}\")"
   ]
  },
  {
   "cell_type": "code",
   "execution_count": 37,
   "id": "e76604b5",
   "metadata": {},
   "outputs": [],
   "source": [
    "percentile_pos = 1.0 - torch.special.ndtr(mean_z).item()"
   ]
  },
  {
   "cell_type": "code",
   "execution_count": 38,
   "id": "ebacabc7",
   "metadata": {},
   "outputs": [
    {
     "name": "stdout",
     "output_type": "stream",
     "text": [
      "Percentile of positive item: 1.0000\n"
     ]
    }
   ],
   "source": [
    "print(f\"Percentile of positive item: {percentile_pos:.4f}\")"
   ]
  },
  {
   "cell_type": "code",
   "execution_count": 39,
   "id": "731e3c7e",
   "metadata": {},
   "outputs": [
    {
     "name": "stdout",
     "output_type": "stream",
     "text": [
      "torch.Size([47553]) torch.Size([7083])\n"
     ]
    }
   ],
   "source": [
    "pos_losses = torch.tensor([item['loss'] for item in pos_items])\n",
    "neg_losses = torch.tensor([item['loss'] for item in neg_items])\n",
    "print(pos_losses.shape, neg_losses.shape)"
   ]
  },
  {
   "cell_type": "code",
   "execution_count": 40,
   "id": "0a192920",
   "metadata": {},
   "outputs": [
    {
     "name": "stdout",
     "output_type": "stream",
     "text": [
      "tensor(-1.1399) tensor(1.4654)\n",
      "tensor(-1.5057) tensor(1.6852)\n"
     ]
    }
   ],
   "source": [
    "print(pos_losses.mean(), pos_losses.std())\n",
    "print(neg_losses.mean(), neg_losses.std())"
   ]
  },
  {
   "cell_type": "code",
   "execution_count": 43,
   "id": "0fdf6e79",
   "metadata": {},
   "outputs": [
    {
     "data": {
      "image/png": "[encoded data removed]",
      "text/plain": [
       "<Figure size 1000x600 with 1 Axes>"
      ]
     },
     "metadata": {},
     "output_type": "display_data"
    }
   ],
   "source": [
    "# Plot distribution of these two pos neg losses\n",
    "plt.figure(figsize=(10, 6))\n",
    "sns.histplot(pos_losses, bins=50, color='blue', label='Positive Losses', kde=True, stat='count')\n",
    "sns.histplot(neg_losses, bins=50, color='red', label='Negative Losses', kde=True, stat='count')\n",
    "plt.title('Distribution of Positive and Negative Losses')\n",
    "plt.xlabel('Loss Value')\n",
    "plt.ylabel('Density')\n",
    "# log scale yaxis\n",
    "plt.yscale('log')\n",
    "plt.legend()\n",
    "plt.grid()\n",
    "plt.show()"
   ]
  },
  {
   "cell_type": "code",
   "execution_count": 44,
   "id": "28bfd1b3",
   "metadata": {},
   "outputs": [
    {
     "data": {
      "text/plain": [
       "{'score': 0.10750281810760498,\n",
       " 'length': 1,\n",
       " 'label': 1,\n",
       " 'has_neg': True,\n",
       " 'pos_dist': [15.462690353393555],\n",
       " 'neg_dist': [[12.960073471069336],\n",
       "  [12.960073471069336],\n",
       "  [12.960073471069336],\n",
       "  [12.960073471069336],\n",
       "  [13.251718521118164],\n",
       "  [15.462690353393555],\n",
       "  [15.462690353393555],\n",
       "  [15.462690353393555],\n",
       "  [13.712559700012207],\n",
       "  [13.712559700012207],\n",
       "  [13.712559700012207],\n",
       "  [12.98974895477295],\n",
       "  [12.98974895477295],\n",
       "  [13.873517036437988],\n",
       "  [13.166553497314453],\n",
       "  [15.610689163208008],\n",
       "  [12.945801734924316],\n",
       "  [15.426545143127441],\n",
       "  [14.956171035766602],\n",
       "  [15.73241138458252]],\n",
       " 'adjusted_score': 0.10750281810760498,\n",
       " 'mean_z': 1.2399181127548218,\n",
       " 'loss': 1.2399171590805054,\n",
       " 'percentile_pos': 0.10750305652618408}"
      ]
     },
     "execution_count": 44,
     "metadata": {},
     "output_type": "execute_result"
    }
   ],
   "source": [
    "export_items[0]"
   ]
  },
  {
   "cell_type": "code",
   "execution_count": null,
   "id": "acb2e367",
   "metadata": {},
   "outputs": [],
   "source": []
  }
 ],
 "metadata": {
  "kernelspec": {
   "display_name": "graphml",
   "language": "python",
   "name": "python3"
  },
  "language_info": {
   "codemirror_mode": {
    "name": "ipython",
    "version": 3
   },
   "file_extension": ".py",
   "mimetype": "text/x-python",
   "name": "python",
   "nbconvert_exporter": "python",
   "pygments_lexer": "ipython3",
   "version": "3.11.8"
  }
 },
 "nbformat": 4,
 "nbformat_minor": 5
}

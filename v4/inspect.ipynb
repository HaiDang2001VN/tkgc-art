{
 "cells": [
  {
   "cell_type": "code",
   "execution_count": 93,
   "id": "524ea7c0",
   "metadata": {},
   "outputs": [
    {
     "name": "stdout",
     "output_type": "stream",
     "text": [
      "{'dataset': 'ogbl-collab', 'storage_dir': '../data/', 'embedding_config': './full_embedding.json', 'train_ratio': 0.3, 'hidden_dim': 128, 'max_hops': 4, 'num_neg': 50, 'num_threads': 'vast', 'max_epochs': 10, 'batch_size': 'vast', 'dim_feedforward': 128, 'nhead': 4, 'num_layers': 4, 'dropout': 0.1, 'store': 'model', 'save_text_embeddings': True, 'shallow': True, 'pre_scan': ['train'], 'adjust_no_neg_paths_samples': True, 'max_adjust': 5.0, 'positive_deviation': True, 'embedding': 'all', 'test_time': 4, 'num_ckpt': 2, 'scale_loss': True, 'chi2': False, 'lr': 0.001, 'wandb_project': 'thesis-graph'}\n"
     ]
    }
   ],
   "source": [
    "import os\n",
    "import json\n",
    "import pandas as pd\n",
    "import numpy as np\n",
    "import matplotlib.pyplot as plt\n",
    "import seaborn as sns\n",
    "from loader import PathDataModule\n",
    "from tqdm import tqdm\n",
    "\n",
    "# --- 1. Configuration and Data Loading ---\n",
    "config_path = 'full.json'\n",
    "config_data = json.load(open(config_path, 'r'))\n",
    "print(config_data)"
   ]
  },
  {
   "cell_type": "code",
   "execution_count": 94,
   "id": "25d7f189-3ec3-4ab7-8de1-414157b4c512",
   "metadata": {},
   "outputs": [
    {
     "name": "stdout",
     "output_type": "stream",
     "text": [
      "Not running on Vast.ai container, or failed to fetch instance info.\n",
      "Error: Not running on a Vast.ai container!\n"
     ]
    }
   ],
   "source": [
    "import os, requests, json, pprint\n",
    "\n",
    "try:\n",
    "    cid  = os.getenv(\"CONTAINER_ID\")          # ← set by Vast.ai inside every container\n",
    "    key  = os.getenv(\"CONTAINER_API_KEY\")     # ← scoped token for this one instance\n",
    "    assert cid and key, \"Not running on a Vast.ai container!\"\n",
    "\n",
    "    resp = requests.get(\n",
    "        f\"https://console.vast.ai/api/v0/instances/{cid}/\",\n",
    "        headers={\"Authorization\": f\"Bearer {key}\",\n",
    "                \"accept\": \"application/json\"},\n",
    "        timeout=10,\n",
    "    )\n",
    "\n",
    "    info = resp.json()\n",
    "    print(\"Effective vCPUs:\", info['instances'][\"cpu_cores_effective\"])\n",
    "    # print(info['instances'].keys())\n",
    "except Exception as e:\n",
    "    print(\"Not running on Vast.ai container, or failed to fetch instance info.\")\n",
    "    print(\"Error:\", e)"
   ]
  },
  {
   "cell_type": "code",
   "execution_count": 95,
   "id": "3e197402",
   "metadata": {},
   "outputs": [
    {
     "name": "stdout",
     "output_type": "stream",
     "text": [
      "Embedding config path: ./full_embedding.json\n"
     ]
    },
    {
     "data": {
      "text/plain": [
       "{'batch_size': 4096,\n",
       " 'lr': 0.001,\n",
       " 'epochs': 10,\n",
       " 'model_name': 'transe',\n",
       " 'hidden_channels': 128,\n",
       " 'p_norm': 2}"
      ]
     },
     "execution_count": 95,
     "metadata": {},
     "output_type": "execute_result"
    }
   ],
   "source": [
    "import json\n",
    "import os\n",
    "\n",
    "embedding_cfg_path = config_data['embedding_config'] # path to config file\n",
    "print(\"Embedding config path:\", embedding_cfg_path)\n",
    "# Read config from json file at embedding cfg path\n",
    "with open(embedding_cfg_path, 'r') as f:\n",
    "    embedding_cfg = json.load(f)\n",
    "    \n",
    "embedding_cfg"
   ]
  },
  {
   "cell_type": "code",
   "execution_count": 96,
   "id": "03a63495-3ce5-4c7d-b54d-767672d9d576",
   "metadata": {},
   "outputs": [
    {
     "name": "stdout",
     "output_type": "stream",
     "text": [
      "Save directory: ../data/transe/ogbl-collab/thesis-graph\n"
     ]
    }
   ],
   "source": [
    "\n",
    "\n",
    "# --- 2. Load exported JSON results from model.py ---\n",
    "\n",
    "# Construct the path to your export (update these variables as needed)\n",
    "save_dir = config_data['storage_dir'] + embedding_cfg['model_name'] + \\\n",
    "    \"/\" + config_data['dataset'] + \"/\" + config_data['wandb_project']\n",
    "    \n",
    "print(f\"Save directory: {save_dir}\")\n"
   ]
  },
  {
   "cell_type": "code",
   "execution_count": 97,
   "id": "614aa8ff",
   "metadata": {},
   "outputs": [
    {
     "name": "stdout",
     "output_type": "stream",
     "text": [
      "../data/transe/ogbl-collab/thesis-graph/1/train_val_0_raw.json\n"
     ]
    }
   ],
   "source": [
    "wandb_name = \"1\"      \n",
    "stage = \"val\"  # or \"test\"\n",
    "epoch = \"0\"  # e.g. \"9\"\n",
    "test_time = False  # set True if test_time\n",
    "\n",
    "prefix = \"test\" if test_time else \"train\"\n",
    "export_path = os.path.join(save_dir, wandb_name, f\"{prefix}_{stage}_{epoch}_raw.json\")\n",
    "print(export_path)"
   ]
  },
  {
   "cell_type": "code",
   "execution_count": 98,
   "id": "3a3c6075",
   "metadata": {},
   "outputs": [
    {
     "name": "stdout",
     "output_type": "stream",
     "text": [
      "Loaded 160084\n"
     ]
    }
   ],
   "source": [
    "# Load the JSON file\n",
    "with open(export_path, \"r\") as f:\n",
    "    export_items = json.load(f)\n",
    "\n",
    "print(f\"Loaded {len(export_items)}\")"
   ]
  },
  {
   "cell_type": "code",
   "execution_count": 99,
   "id": "11c7d9a1",
   "metadata": {},
   "outputs": [
    {
     "data": {
      "text/plain": [
       "{'score': 0.10174286365509033,\n",
       " 'length': 1,\n",
       " 'label': 1,\n",
       " 'has_neg': True,\n",
       " 'pos_dist': [22.353134155273438],\n",
       " 'neg_dist': [[21.08070182800293],\n",
       "  [21.08070182800293],\n",
       "  [21.08070182800293],\n",
       "  [21.08070182800293],\n",
       "  [20.94063949584961],\n",
       "  [22.353134155273438],\n",
       "  [22.353134155273438],\n",
       "  [22.353134155273438],\n",
       "  [21.128007888793945],\n",
       "  [21.128007888793945],\n",
       "  [21.128007888793945],\n",
       "  [21.313785552978516],\n",
       "  [21.313785552978516],\n",
       "  [21.754823684692383],\n",
       "  [21.798219680786133],\n",
       "  [22.58941650390625],\n",
       "  [21.19548225402832],\n",
       "  [22.160743713378906],\n",
       "  [21.9285831451416],\n",
       "  [22.265535354614258]],\n",
       " 'adjusted_score': 4.101742744445801}"
      ]
     },
     "execution_count": 99,
     "metadata": {},
     "output_type": "execute_result"
    }
   ],
   "source": [
    "export_items[0]"
   ]
  },
  {
   "cell_type": "code",
   "execution_count": 100,
   "id": "50d64cec",
   "metadata": {},
   "outputs": [
    {
     "name": "stdout",
     "output_type": "stream",
     "text": [
      "Max hops: 4, Max adjust: 5.0\n"
     ]
    }
   ],
   "source": [
    "# recompute adjusted score\n",
    "max_hops = config_data['max_hops']\n",
    "max_adjust = config_data['max_adjust']\n",
    "print(f\"Max hops: {max_hops}, Max adjust: {max_adjust}\")"
   ]
  },
  {
   "cell_type": "code",
   "execution_count": 101,
   "id": "e9b9b26e",
   "metadata": {},
   "outputs": [
    {
     "name": "stderr",
     "output_type": "stream",
     "text": [
      "100%|██████████| 160084/160084 [00:00<00:00, 2898652.48it/s]"
     ]
    },
    {
     "name": "stdout",
     "output_type": "stream",
     "text": [
      "Minimum length: 1\n"
     ]
    },
    {
     "name": "stderr",
     "output_type": "stream",
     "text": [
      "\n"
     ]
    }
   ],
   "source": [
    "# length zero adjusted to max_hops + 2\n",
    "for item in tqdm(export_items):\n",
    "    if item['length'] == 0:\n",
    "        item['length'] = max_hops + 2\n",
    "\n",
    "min_length = min(item['length'] for item in export_items)\n",
    "print(f\"Minimum length: {min_length}\")"
   ]
  },
  {
   "cell_type": "code",
   "execution_count": 102,
   "id": "f7ebe84b",
   "metadata": {},
   "outputs": [
    {
     "name": "stderr",
     "output_type": "stream",
     "text": [
      "100%|██████████| 160084/160084 [00:00<00:00, 2575224.89it/s]\n"
     ]
    }
   ],
   "source": [
    "# adjusted score\n",
    "for item in tqdm(export_items):\n",
    "    # ratio = 1 - (item['length'] - min_length) / (max_hops + 1 - min_length)\n",
    "    # item['adjusted_score'] = item['score'] + (ratio * max_adjust)\n",
    "    item['adjusted_score'] = item['score']"
   ]
  },
  {
   "cell_type": "code",
   "execution_count": 103,
   "id": "46e373eb",
   "metadata": {},
   "outputs": [
    {
     "data": {
      "text/plain": [
       "{'score': 0.0,\n",
       " 'length': 6,\n",
       " 'label': 1,\n",
       " 'has_neg': False,\n",
       " 'pos_dist': None,\n",
       " 'neg_dist': None,\n",
       " 'adjusted_score': 0.0}"
      ]
     },
     "execution_count": 103,
     "metadata": {},
     "output_type": "execute_result"
    }
   ],
   "source": [
    "export_items[3]"
   ]
  },
  {
   "cell_type": "code",
   "execution_count": 104,
   "id": "da35d4e6",
   "metadata": {},
   "outputs": [
    {
     "name": "stdout",
     "output_type": "stream",
     "text": [
      "Filtered non-zero items: 7083\n"
     ]
    }
   ],
   "source": [
    "# Get list of label 0 but non-zero length\n",
    "neg_items = [item for item in export_items if item['label'] == 0 and item['has_neg']]\n",
    "print(f\"Filtered non-zero items: {len(neg_items)}\")"
   ]
  },
  {
   "cell_type": "code",
   "execution_count": 105,
   "id": "f24aa22e",
   "metadata": {},
   "outputs": [
    {
     "data": {
      "text/plain": [
       "{'score': 0.07763171195983887,\n",
       " 'length': 4,\n",
       " 'label': 0,\n",
       " 'has_neg': True,\n",
       " 'pos_dist': [21.756620407104492,\n",
       "  20.32785987854004,\n",
       "  22.24242401123047,\n",
       "  21.86017417907715],\n",
       " 'neg_dist': [[21.756620407104492,\n",
       "   20.529212951660156,\n",
       "   20.60442352294922,\n",
       "   20.41798973083496],\n",
       "  [21.756620407104492,\n",
       "   20.529212951660156,\n",
       "   20.60442352294922,\n",
       "   20.450239181518555],\n",
       "  [22.24396324157715, 20.29498863220215, 20.3772029876709, 20.47519302368164],\n",
       "  [22.24396324157715, 20.29498863220215, 20.3772029876709, 20.47519302368164],\n",
       "  [22.24396324157715, 20.29498863220215, 20.3772029876709, 20.47519302368164],\n",
       "  [22.24396324157715, 20.29498863220215, 20.3772029876709, 20.376419067382812],\n",
       "  [22.24396324157715, 20.29498863220215, 20.3772029876709, 20.376419067382812],\n",
       "  [22.24396324157715, 20.29498863220215, 20.3772029876709, 20.376419067382812],\n",
       "  [21.756620407104492,\n",
       "   20.32785987854004,\n",
       "   20.29673194885254,\n",
       "   20.334518432617188],\n",
       "  [22.20726203918457,\n",
       "   20.6400089263916,\n",
       "   20.394393920898438,\n",
       "   20.238073348999023],\n",
       "  [22.24396324157715,\n",
       "   20.29498863220215,\n",
       "   20.37936782836914,\n",
       "   20.570438385009766],\n",
       "  [22.24396324157715,\n",
       "   20.29498863220215,\n",
       "   20.37936782836914,\n",
       "   20.570438385009766],\n",
       "  [22.24396324157715,\n",
       "   20.29498863220215,\n",
       "   20.37936782836914,\n",
       "   20.570438385009766],\n",
       "  [22.24396324157715,\n",
       "   20.29498863220215,\n",
       "   20.190731048583984,\n",
       "   20.876811981201172],\n",
       "  [22.24396324157715,\n",
       "   20.29498863220215,\n",
       "   20.190731048583984,\n",
       "   20.876811981201172],\n",
       "  [22.24396324157715,\n",
       "   20.29498863220215,\n",
       "   20.190731048583984,\n",
       "   20.876811981201172],\n",
       "  [22.20726203918457,\n",
       "   20.6400089263916,\n",
       "   20.394393920898438,\n",
       "   20.692649841308594],\n",
       "  [22.24396324157715, 20.29498863220215, 20.3772029876709, 20.814237594604492],\n",
       "  [22.24396324157715, 20.29498863220215, 20.3772029876709, 20.814237594604492],\n",
       "  [22.24396324157715,\n",
       "   20.29498863220215,\n",
       "   20.3772029876709,\n",
       "   20.814237594604492]],\n",
       " 'adjusted_score': 0.07763171195983887}"
      ]
     },
     "execution_count": 105,
     "metadata": {},
     "output_type": "execute_result"
    }
   ],
   "source": [
    "neg_items[200]"
   ]
  },
  {
   "cell_type": "code",
   "execution_count": 106,
   "id": "bb49d476",
   "metadata": {},
   "outputs": [
    {
     "name": "stdout",
     "output_type": "stream",
     "text": [
      "Filtered positive items: 47553\n"
     ]
    }
   ],
   "source": [
    "pos_items = [item for item in export_items if item['label'] == 1 and item['has_neg']]\n",
    "print(f\"Filtered positive items: {len(pos_items)}\")"
   ]
  },
  {
   "cell_type": "code",
   "execution_count": 107,
   "id": "7bcb8f77",
   "metadata": {},
   "outputs": [
    {
     "data": {
      "text/plain": [
       "{'score': 0.10174286365509033,\n",
       " 'length': 1,\n",
       " 'label': 1,\n",
       " 'has_neg': True,\n",
       " 'pos_dist': [22.353134155273438],\n",
       " 'neg_dist': [[21.08070182800293],\n",
       "  [21.08070182800293],\n",
       "  [21.08070182800293],\n",
       "  [21.08070182800293],\n",
       "  [20.94063949584961],\n",
       "  [22.353134155273438],\n",
       "  [22.353134155273438],\n",
       "  [22.353134155273438],\n",
       "  [21.128007888793945],\n",
       "  [21.128007888793945],\n",
       "  [21.128007888793945],\n",
       "  [21.313785552978516],\n",
       "  [21.313785552978516],\n",
       "  [21.754823684692383],\n",
       "  [21.798219680786133],\n",
       "  [22.58941650390625],\n",
       "  [21.19548225402832],\n",
       "  [22.160743713378906],\n",
       "  [21.9285831451416],\n",
       "  [22.265535354614258]],\n",
       " 'adjusted_score': 0.10174286365509033}"
      ]
     },
     "execution_count": 107,
     "metadata": {},
     "output_type": "execute_result"
    }
   ],
   "source": [
    "pos_items[0]"
   ]
  },
  {
   "cell_type": "code",
   "execution_count": 108,
   "id": "016de052",
   "metadata": {},
   "outputs": [
    {
     "name": "stdout",
     "output_type": "stream",
     "text": [
      "Top 50 negative items: 50\n"
     ]
    }
   ],
   "source": [
    "K = 50\n",
    "# Select top K items in negative highest adjsuted scores\n",
    "top_neg = sorted(neg_items, key=lambda x: x['adjusted_score'], reverse=True)[:K]\n",
    "print(f\"Top {K} negative items: {len(top_neg)}\")"
   ]
  },
  {
   "cell_type": "code",
   "execution_count": 109,
   "id": "c213404d",
   "metadata": {},
   "outputs": [
    {
     "data": {
      "text/plain": [
       "{'score': 1.0,\n",
       " 'length': 4,\n",
       " 'label': 0,\n",
       " 'has_neg': True,\n",
       " 'pos_dist': [20.422826766967773,\n",
       "  22.248979568481445,\n",
       "  21.150657653808594,\n",
       "  20.23993682861328],\n",
       " 'neg_dist': [[20.422826766967773,\n",
       "   21.050504684448242,\n",
       "   20.53862762451172,\n",
       "   20.229887008666992],\n",
       "  [20.422826766967773,\n",
       "   21.050504684448242,\n",
       "   20.53862762451172,\n",
       "   20.229887008666992],\n",
       "  [20.422826766967773,\n",
       "   20.60368537902832,\n",
       "   20.368629455566406,\n",
       "   20.921024322509766],\n",
       "  [20.422826766967773,\n",
       "   20.60368537902832,\n",
       "   20.368629455566406,\n",
       "   21.689128875732422],\n",
       "  [20.422826766967773,\n",
       "   20.60368537902832,\n",
       "   20.368629455566406,\n",
       "   21.322595596313477],\n",
       "  [20.422826766967773,\n",
       "   20.60368537902832,\n",
       "   20.368629455566406,\n",
       "   20.888479232788086],\n",
       "  [20.422826766967773,\n",
       "   21.050504684448242,\n",
       "   20.498796463012695,\n",
       "   22.062734603881836],\n",
       "  [20.422826766967773,\n",
       "   21.050504684448242,\n",
       "   20.498796463012695,\n",
       "   22.062734603881836],\n",
       "  [20.422826766967773,\n",
       "   20.76075553894043,\n",
       "   20.410066604614258,\n",
       "   21.19136619567871],\n",
       "  [20.422826766967773,\n",
       "   20.76075553894043,\n",
       "   20.410066604614258,\n",
       "   21.19136619567871],\n",
       "  [20.422826766967773,\n",
       "   21.050504684448242,\n",
       "   20.573421478271484,\n",
       "   21.43611717224121],\n",
       "  [20.422826766967773,\n",
       "   21.050504684448242,\n",
       "   20.573421478271484,\n",
       "   21.43611717224121],\n",
       "  [20.422826766967773,\n",
       "   21.050504684448242,\n",
       "   20.573421478271484,\n",
       "   22.312591552734375],\n",
       "  [20.422826766967773,\n",
       "   21.050504684448242,\n",
       "   20.573421478271484,\n",
       "   22.312591552734375]],\n",
       " 'adjusted_score': 1.0}"
      ]
     },
     "execution_count": 109,
     "metadata": {},
     "output_type": "execute_result"
    }
   ],
   "source": [
    "top_neg[-1]"
   ]
  },
  {
   "cell_type": "code",
   "execution_count": 110,
   "id": "de7b5e72",
   "metadata": {},
   "outputs": [
    {
     "name": "stdout",
     "output_type": "stream",
     "text": [
      "Top negative score: 1.0\n"
     ]
    }
   ],
   "source": [
    "top_neg_score = top_neg[-1]['adjusted_score']\n",
    "print(f\"Top negative score: {top_neg_score}\")"
   ]
  },
  {
   "cell_type": "code",
   "execution_count": 111,
   "id": "9ef9f857",
   "metadata": {},
   "outputs": [
    {
     "data": {
      "text/plain": [
       "[[20.422826766967773,\n",
       "  21.050504684448242,\n",
       "  20.53862762451172,\n",
       "  20.229887008666992],\n",
       " [20.422826766967773,\n",
       "  21.050504684448242,\n",
       "  20.53862762451172,\n",
       "  20.229887008666992],\n",
       " [20.422826766967773,\n",
       "  20.60368537902832,\n",
       "  20.368629455566406,\n",
       "  20.921024322509766],\n",
       " [20.422826766967773,\n",
       "  20.60368537902832,\n",
       "  20.368629455566406,\n",
       "  21.689128875732422],\n",
       " [20.422826766967773,\n",
       "  20.60368537902832,\n",
       "  20.368629455566406,\n",
       "  21.322595596313477],\n",
       " [20.422826766967773,\n",
       "  20.60368537902832,\n",
       "  20.368629455566406,\n",
       "  20.888479232788086],\n",
       " [20.422826766967773,\n",
       "  21.050504684448242,\n",
       "  20.498796463012695,\n",
       "  22.062734603881836],\n",
       " [20.422826766967773,\n",
       "  21.050504684448242,\n",
       "  20.498796463012695,\n",
       "  22.062734603881836],\n",
       " [20.422826766967773,\n",
       "  20.76075553894043,\n",
       "  20.410066604614258,\n",
       "  21.19136619567871],\n",
       " [20.422826766967773,\n",
       "  20.76075553894043,\n",
       "  20.410066604614258,\n",
       "  21.19136619567871],\n",
       " [20.422826766967773,\n",
       "  21.050504684448242,\n",
       "  20.573421478271484,\n",
       "  21.43611717224121],\n",
       " [20.422826766967773,\n",
       "  21.050504684448242,\n",
       "  20.573421478271484,\n",
       "  21.43611717224121],\n",
       " [20.422826766967773,\n",
       "  21.050504684448242,\n",
       "  20.573421478271484,\n",
       "  22.312591552734375],\n",
       " [20.422826766967773,\n",
       "  21.050504684448242,\n",
       "  20.573421478271484,\n",
       "  22.312591552734375]]"
      ]
     },
     "execution_count": 111,
     "metadata": {},
     "output_type": "execute_result"
    }
   ],
   "source": [
    "top_neg[-1]['neg_dist']"
   ]
  },
  {
   "cell_type": "code",
   "execution_count": 112,
   "id": "d1a1206b",
   "metadata": {},
   "outputs": [
    {
     "name": "stdout",
     "output_type": "stream",
     "text": [
      "Top positive items: 47553\n"
     ]
    }
   ],
   "source": [
    "# Sort the positive items by adjusted score\n",
    "top_pos = sorted(pos_items, key=lambda x: x['adjusted_score'], reverse=True)\n",
    "print(f\"Top positive items: {len(top_pos)}\")"
   ]
  },
  {
   "cell_type": "code",
   "execution_count": 113,
   "id": "7a72644e",
   "metadata": {},
   "outputs": [
    {
     "data": {
      "text/plain": [
       "{'score': 0.0,\n",
       " 'length': 3,\n",
       " 'label': 1,\n",
       " 'has_neg': True,\n",
       " 'pos_dist': [20.20102882385254, 22.482969284057617, 20.511489868164062],\n",
       " 'neg_dist': [[20.20102882385254, 21.71308708190918, 20.47885513305664],\n",
       "  [20.20102882385254, 21.71308708190918, 20.47885513305664],\n",
       "  [20.20102882385254, 21.71308708190918, 20.47885513305664],\n",
       "  [20.20102882385254, 21.71308708190918, 21.766225814819336],\n",
       "  [20.20102882385254, 21.71308708190918, 21.766225814819336],\n",
       "  [20.20102882385254, 21.71308708190918, 21.766225814819336],\n",
       "  [20.20102882385254, 21.71308708190918, 20.76085090637207],\n",
       "  [20.20102882385254, 21.71308708190918, 20.76085090637207],\n",
       "  [20.20102882385254, 21.71308708190918, 20.76085090637207],\n",
       "  [20.20102882385254, 21.71308708190918, 21.326335906982422],\n",
       "  [20.20102882385254, 21.71308708190918, 21.326335906982422],\n",
       "  [20.20102882385254, 21.71308708190918, 21.326335906982422],\n",
       "  [20.20102882385254, 21.71308708190918, 21.37709617614746],\n",
       "  [20.20102882385254, 21.71308708190918, 21.37709617614746],\n",
       "  [20.20102882385254, 21.71308708190918, 21.37709617614746],\n",
       "  [20.20102882385254, 21.71308708190918, 21.06385612487793],\n",
       "  [20.20102882385254, 21.71308708190918, 21.06385612487793],\n",
       "  [20.20102882385254, 21.71308708190918, 21.06385612487793],\n",
       "  [20.20102882385254, 21.71308708190918, 21.849538803100586],\n",
       "  [20.20102882385254, 21.71308708190918, 21.849538803100586]],\n",
       " 'adjusted_score': 0.0}"
      ]
     },
     "execution_count": 113,
     "metadata": {},
     "output_type": "execute_result"
    }
   ],
   "source": [
    "top_pos[-1]"
   ]
  },
  {
   "cell_type": "code",
   "execution_count": 114,
   "id": "d3816912",
   "metadata": {},
   "outputs": [
    {
     "data": {
      "text/plain": [
       "0"
      ]
     },
     "execution_count": 114,
     "metadata": {},
     "output_type": "execute_result"
    }
   ],
   "source": [
    "# How many pos items higher adjusted scores than last item in top_neg\n",
    "higher_pos = [\n",
    "    item for item in top_pos if item['adjusted_score'] > top_neg_score]\n",
    "len(higher_pos)"
   ]
  },
  {
   "cell_type": "code",
   "execution_count": 115,
   "id": "48c50508",
   "metadata": {},
   "outputs": [
    {
     "data": {
      "text/plain": [
       "0.0"
      ]
     },
     "execution_count": 115,
     "metadata": {},
     "output_type": "execute_result"
    }
   ],
   "source": [
    "len(higher_pos) / len(pos_items)"
   ]
  },
  {
   "cell_type": "code",
   "execution_count": 116,
   "id": "ae7a8d16",
   "metadata": {},
   "outputs": [
    {
     "data": {
      "text/plain": [
       "{'score': 1.0,\n",
       " 'length': 4,\n",
       " 'label': 0,\n",
       " 'has_neg': True,\n",
       " 'pos_dist': [22.197872161865234,\n",
       "  20.35811996459961,\n",
       "  22.22220230102539,\n",
       "  20.43638801574707],\n",
       " 'neg_dist': [[22.197872161865234,\n",
       "   20.62787437438965,\n",
       "   20.551225662231445,\n",
       "   20.351850509643555],\n",
       "  [22.197872161865234,\n",
       "   20.62787437438965,\n",
       "   20.551225662231445,\n",
       "   20.351850509643555],\n",
       "  [22.197872161865234,\n",
       "   20.62787437438965,\n",
       "   20.551225662231445,\n",
       "   20.351850509643555],\n",
       "  [22.197872161865234,\n",
       "   20.62787437438965,\n",
       "   20.551225662231445,\n",
       "   20.351850509643555],\n",
       "  [22.197872161865234,\n",
       "   20.62787437438965,\n",
       "   20.551225662231445,\n",
       "   20.351850509643555],\n",
       "  [22.197872161865234,\n",
       "   20.35811996459961,\n",
       "   20.552207946777344,\n",
       "   20.958778381347656],\n",
       "  [22.197872161865234,\n",
       "   20.408058166503906,\n",
       "   20.686731338500977,\n",
       "   21.594724655151367],\n",
       "  [22.197872161865234,\n",
       "   20.35811996459961,\n",
       "   20.420076370239258,\n",
       "   21.008882522583008],\n",
       "  [22.197872161865234,\n",
       "   20.601146697998047,\n",
       "   20.30323028564453,\n",
       "   21.058637619018555],\n",
       "  [22.197872161865234,\n",
       "   20.601146697998047,\n",
       "   20.30323028564453,\n",
       "   21.058637619018555],\n",
       "  [22.197872161865234,\n",
       "   20.601146697998047,\n",
       "   20.5618953704834,\n",
       "   20.938953399658203],\n",
       "  [22.197872161865234,\n",
       "   20.62787437438965,\n",
       "   20.551225662231445,\n",
       "   21.415279388427734],\n",
       "  [22.197872161865234,\n",
       "   20.62787437438965,\n",
       "   20.551225662231445,\n",
       "   21.331924438476562],\n",
       "  [22.197872161865234,\n",
       "   20.35811996459961,\n",
       "   20.552207946777344,\n",
       "   21.397018432617188],\n",
       "  [22.197872161865234,\n",
       "   20.601146697998047,\n",
       "   20.360990524291992,\n",
       "   20.778650283813477],\n",
       "  [22.197872161865234,\n",
       "   20.62787437438965,\n",
       "   20.58021354675293,\n",
       "   20.75300407409668],\n",
       "  [22.197872161865234,\n",
       "   20.62787437438965,\n",
       "   20.58021354675293,\n",
       "   20.75300407409668],\n",
       "  [22.197872161865234,\n",
       "   20.601146697998047,\n",
       "   20.360990524291992,\n",
       "   20.7716121673584],\n",
       "  [22.197872161865234, 20.35811996459961, 20.420076370239258, 21.101318359375],\n",
       "  [22.197872161865234,\n",
       "   20.35811996459961,\n",
       "   20.420076370239258,\n",
       "   21.633487701416016]],\n",
       " 'adjusted_score': 1.0}"
      ]
     },
     "execution_count": 116,
     "metadata": {},
     "output_type": "execute_result"
    }
   ],
   "source": [
    "top_neg[2]"
   ]
  },
  {
   "cell_type": "code",
   "execution_count": 117,
   "id": "75da4064",
   "metadata": {},
   "outputs": [
    {
     "ename": "IndexError",
     "evalue": "list index out of range",
     "output_type": "error",
     "traceback": [
      "\u001b[0;31m---------------------------------------------------------------------------\u001b[0m",
      "\u001b[0;31mIndexError\u001b[0m                                Traceback (most recent call last)",
      "Cell \u001b[0;32mIn[117], line 1\u001b[0m\n\u001b[0;32m----> 1\u001b[0m \u001b[43mhigher_pos\u001b[49m\u001b[43m[\u001b[49m\u001b[38;5;241;43m-\u001b[39;49m\u001b[38;5;241;43m1\u001b[39;49m\u001b[43m]\u001b[49m\n",
      "\u001b[0;31mIndexError\u001b[0m: list index out of range"
     ]
    }
   ],
   "source": [
    "higher_pos[-1]"
   ]
  },
  {
   "cell_type": "code",
   "execution_count": 118,
   "id": "7acfc1ee",
   "metadata": {},
   "outputs": [
    {
     "name": "stdout",
     "output_type": "stream",
     "text": [
      "Example item: {'score': 1.0, 'length': 4, 'label': 0, 'has_neg': True, 'pos_dist': [22.09030532836914, 20.504453659057617, 22.31141471862793, 21.428071975708008], 'neg_dist': [[22.09030532836914, 21.486425399780273, 20.59282875061035, 20.512922286987305], [22.09030532836914, 21.486425399780273, 20.59282875061035, 20.512922286987305], [22.09030532836914, 21.486425399780273, 20.59282875061035, 20.357187271118164], [22.09030532836914, 21.486425399780273, 20.59282875061035, 20.42481803894043], [22.09030532836914, 21.486425399780273, 20.22919273376465, 20.083999633789062], [22.09030532836914, 22.296140670776367, 20.83771514892578, 20.6279354095459], [22.09030532836914, 21.486425399780273, 20.59282875061035, 20.515310287475586], [22.09030532836914, 21.486425399780273, 20.59282875061035, 20.515310287475586], [22.09030532836914, 22.296140670776367, 20.83771514892578, 21.211776733398438], [22.09030532836914, 22.296140670776367, 20.496936798095703, 21.0692138671875], [22.09030532836914, 21.486425399780273, 20.59282875061035, 21.009737014770508], [22.09030532836914, 22.296140670776367, 20.83771514892578, 21.76447105407715], [22.09030532836914, 22.296140670776367, 20.496936798095703, 20.801780700683594], [22.09030532836914, 21.486425399780273, 20.262420654296875, 21.312013626098633], [22.09030532836914, 21.486425399780273, 20.262420654296875, 21.312013626098633], [22.09030532836914, 21.486425399780273, 20.262420654296875, 21.312013626098633], [22.09030532836914, 22.296140670776367, 20.83771514892578, 21.207515716552734], [22.09030532836914, 21.486425399780273, 20.59282875061035, 20.9368953704834], [22.09030532836914, 22.296140670776367, 20.49269676208496, 20.48651695251465], [22.09030532836914, 21.486425399780273, 20.37242317199707, 20.64154624938965]], 'adjusted_score': 1.0}\n"
     ]
    }
   ],
   "source": [
    "# example = top_pos[40000]\n",
    "example = top_neg[-2]\n",
    "print(f\"Example item: {example}\")"
   ]
  },
  {
   "cell_type": "code",
   "execution_count": 119,
   "id": "2afa3a30",
   "metadata": {},
   "outputs": [],
   "source": [
    "import torch"
   ]
  },
  {
   "cell_type": "code",
   "execution_count": 120,
   "id": "5e564b9b",
   "metadata": {},
   "outputs": [],
   "source": [
    "pos = torch.tensor(example['pos_dist']) # (length, )\n",
    "neg = torch.tensor(example['neg_dist'])  # (num_neg, length)"
   ]
  },
  {
   "cell_type": "code",
   "execution_count": 121,
   "id": "3b9f8949",
   "metadata": {},
   "outputs": [],
   "source": [
    "if config_data[\"positive_deviation\"]:\n",
    "    # Add pos (length, ) to neg pool (num_neg, length)\n",
    "    neg = torch.cat([neg, pos.unsqueeze(0)], dim=0)"
   ]
  },
  {
   "cell_type": "code",
   "execution_count": 122,
   "id": "8a0e824d",
   "metadata": {},
   "outputs": [
    {
     "data": {
      "text/plain": [
       "(torch.Size([4]), torch.Size([21, 4]))"
      ]
     },
     "execution_count": 122,
     "metadata": {},
     "output_type": "execute_result"
    }
   ],
   "source": [
    "pos.shape, neg.shape"
   ]
  },
  {
   "cell_type": "code",
   "execution_count": 123,
   "id": "3723395e",
   "metadata": {},
   "outputs": [
    {
     "name": "stdout",
     "output_type": "stream",
     "text": [
      "tensor([22.0903, 21.7096, 20.6324, 20.8592]) tensor([0.0000, 0.4633, 0.4196, 0.4275])\n"
     ]
    }
   ],
   "source": [
    "mean, std = neg.mean(0), neg.std(0, correction=0)\n",
    "print(mean, std)"
   ]
  },
  {
   "cell_type": "code",
   "execution_count": 124,
   "id": "0a825f42",
   "metadata": {},
   "outputs": [
    {
     "name": "stdout",
     "output_type": "stream",
     "text": [
      "tensor([190.7349,  -2.6010,   4.0015,   1.3306]) tensor(48.3665)\n"
     ]
    }
   ],
   "source": [
    "z = (pos - mean) / (std + 1e-8)\n",
    "mean_z = z.mean()\n",
    "print(z, mean_z)"
   ]
  },
  {
   "cell_type": "code",
   "execution_count": 125,
   "id": "bcff3d97",
   "metadata": {},
   "outputs": [
    {
     "name": "stdout",
     "output_type": "stream",
     "text": [
      "Arcsinh mean z: 4.572061538696289\n"
     ]
    }
   ],
   "source": [
    "# arcsinh(mean z)\n",
    "arcsinh_mean_z = torch.asinh(mean_z)\n",
    "print(f\"Arcsinh mean z: {arcsinh_mean_z}\")"
   ]
  },
  {
   "cell_type": "code",
   "execution_count": 126,
   "id": "e76604b5",
   "metadata": {},
   "outputs": [],
   "source": [
    "percentile_pos = 1.0 - torch.special.ndtr(mean_z).item()"
   ]
  },
  {
   "cell_type": "code",
   "execution_count": 127,
   "id": "ebacabc7",
   "metadata": {},
   "outputs": [
    {
     "name": "stdout",
     "output_type": "stream",
     "text": [
      "Percentile of positive item: 0.0000\n"
     ]
    }
   ],
   "source": [
    "print(f\"Percentile of positive item: {percentile_pos:.4f}\")"
   ]
  },
  {
   "cell_type": "code",
   "execution_count": null,
   "id": "f9856067",
   "metadata": {},
   "outputs": [],
   "source": []
  }
 ],
 "metadata": {
  "kernelspec": {
   "display_name": "graphml",
   "language": "python",
   "name": "python3"
  },
  "language_info": {
   "codemirror_mode": {
    "name": "ipython",
    "version": 3
   },
   "file_extension": ".py",
   "mimetype": "text/x-python",
   "name": "python",
   "nbconvert_exporter": "python",
   "pygments_lexer": "ipython3",
   "version": "3.11.8"
  }
 },
 "nbformat": 4,
 "nbformat_minor": 5
}

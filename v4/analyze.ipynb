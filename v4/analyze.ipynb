{
 "cells": [
  {
   "cell_type": "code",
   "execution_count": null,
   "id": "524ea7c0",
   "metadata": {},
   "outputs": [],
   "source": [
    "import os\n",
    "import json\n",
    "import pandas as pd\n",
    "import matplotlib.pyplot as plt\n",
    "import seaborn as sns\n",
    "from loader import PathDataModule\n",
    "from tqdm import tqdm\n",
    "\n",
    "# --- 1. Configuration and Data Loading ---\n",
    "config_path = 'full.json'\n",
    "config_data = json.load(open(config_path, 'r'))\n",
    "print(config_data)"
   ]
  },
  {
   "cell_type": "code",
   "execution_count": null,
   "id": "87870989",
   "metadata": {},
   "outputs": [],
   "source": [
    "\n",
    "# Initialize the DataModule and load the data\n",
    "print(\"Setting up DataModule...\")\n",
    "dm = PathDataModule(config_path=config_path, batch_size=32)\n",
    "dm.setup('fit')\n",
    "print(\"Data loaded.\")\n"
   ]
  },
  {
   "cell_type": "code",
   "execution_count": null,
   "id": "dc3d7ec3",
   "metadata": {},
   "outputs": [],
   "source": [
    "\n",
    "# --- 2. Data Extraction and Preparation ---\n",
    "plot_data = []\n",
    "split = 'valid'  # You can change this to 'valid' or 'test'\n",
    "\n",
    "print(f\"Processing data for '{split}' split...\")\n",
    "edges_df = dm.data[split]\n",
    "pos_paths = dm.pos_paths[split]\n",
    "neg_paths = dm.neg_paths[split]\n"
   ]
  },
  {
   "cell_type": "code",
   "execution_count": null,
   "id": "a6616504",
   "metadata": {},
   "outputs": [],
   "source": [
    "\n",
    "for eid, row in tqdm(edges_df.iterrows(), total=len(edges_df), desc=\"Extracting paths\"):\n",
    "    eid_str = str(eid)\n",
    "    label = row['label']\n",
    "\n",
    "    # Process positive path\n",
    "    if eid_str in pos_paths and pos_paths[eid_str].get('nodes'):\n",
    "        pos_path_len = len(pos_paths[eid_str]['nodes'])\n",
    "        plot_data.append({\n",
    "            'path_length': pos_path_len,\n",
    "            'path_type': 'positive',\n",
    "            'label': 'true_link' if label == 1 else 'false_link'\n",
    "        })\n",
    "\n",
    "    # Process negative paths\n",
    "    if eid_str in neg_paths:\n",
    "        for neg_path_interleaved in neg_paths[eid_str]:\n",
    "            # As per loader.py, nodes are at even indices\n",
    "            neg_path_len = len(neg_path_interleaved[::2])\n",
    "            plot_data.append({\n",
    "                'path_length': neg_path_len,\n",
    "                'path_type': 'negative',\n",
    "                'label': 'true_link' if label == 1 else 'false_link'\n",
    "            })\n"
   ]
  },
  {
   "cell_type": "code",
   "execution_count": null,
   "id": "088fe275",
   "metadata": {},
   "outputs": [],
   "source": [
    "\n",
    "plot_df = pd.DataFrame(plot_data)\n",
    "print(\"Data prepared for plotting.\")\n"
   ]
  },
  {
   "cell_type": "code",
   "execution_count": null,
   "id": "e9d9a7b7",
   "metadata": {},
   "outputs": [],
   "source": [
    "\n",
    "# --- 3. Visualization ---\n",
    "if not plot_df.empty:\n",
    "    print(\"Generating plots...\")\n",
    "    # Set plot style\n",
    "    sns.set_theme(style=\"whitegrid\")\n",
    "\n",
    "    # Create a scatter plot (strip plot) to show the distribution\n",
    "    plt.figure(figsize=(16, 9))\n",
    "    sns.stripplot(data=plot_df, x='path_length', y='path_type', hue='label',\n",
    "                  jitter=0.35, alpha=0.6, dodge=True, palette={'true_link': 'blue', 'false_link': 'red'})\n",
    "    plt.title(\n",
    "        f'Path Length Scatter Plot for {split.capitalize()} Set', fontsize=18)\n",
    "    plt.xlabel('Path Length (Number of Nodes)', fontsize=12)\n",
    "    plt.ylabel('Path Type', fontsize=12)\n",
    "    plt.xticks(range(plot_df['path_length'].min(),\n",
    "               plot_df['path_length'].max() + 1))\n",
    "    plt.legend(title='Edge Label')\n",
    "    plt.show()\n",
    "\n",
    "    # Create a box plot for a clearer summary of the distributions\n",
    "    plt.figure(figsize=(16, 9))\n",
    "    sns.boxplot(data=plot_df, x='path_length', y='path_type', hue='label',\n",
    "                palette={'true_link': 'blue', 'false_link': 'red'})\n",
    "    plt.title(\n",
    "        f'Path Length Distribution for {split.capitalize()} Set', fontsize=18)\n",
    "    plt.xlabel('Path Length (Number of Nodes)', fontsize=12)\n",
    "    plt.ylabel('Path Type', fontsize=12)\n",
    "    plt.xticks(range(plot_df['path_length'].min(),\n",
    "               plot_df['path_length'].max() + 1))\n",
    "    plt.legend(title='Edge Label')\n",
    "    plt.show()\n",
    "else:\n",
    "    print(\"No data available to plot.\")"
   ]
  }
 ],
 "metadata": {
  "kernelspec": {
   "display_name": "graphml",
   "language": "python",
   "name": "python3"
  },
  "language_info": {
   "name": "python",
   "version": "3.11.8"
  }
 },
 "nbformat": 4,
 "nbformat_minor": 5
}

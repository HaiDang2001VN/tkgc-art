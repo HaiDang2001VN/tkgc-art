{
 "cells": [
  {
   "cell_type": "code",
   "execution_count": 1,
   "id": "524ea7c0",
   "metadata": {},
   "outputs": [
    {
     "name": "stdout",
     "output_type": "stream",
     "text": [
      "{'dataset': 'ogbl-collab', 'storage_dir': '../data/', 'embedding_config': './full_embedding.json', 'train_ratio': 0.3, 'hidden_dim': 128, 'max_hops': 4, 'num_threads': 16, 'max_epochs': 3, 'batch_size': 128, 'dim_feedforward': 128, 'nhead': 4, 'num_layers': 3, 'dropout': 0.1, 'store': 'model', 'save_text_embeddings': True, 'shallow': True, 'pre_scan': ['train'], 'adjust_no_neg_paths_samples': True, 'max_adjust': 5.0, 'embedding': 'all', 'test_time': 2, 'num_ckpt': 2, 'scale_loss': True, 'chi2': False}\n"
     ]
    }
   ],
   "source": [
    "import os\n",
    "import json\n",
    "import pandas as pd\n",
    "import numpy as np\n",
    "import matplotlib.pyplot as plt\n",
    "import seaborn as sns\n",
    "from loader import PathDataModule\n",
    "from tqdm import tqdm\n",
    "\n",
    "# --- 1. Configuration and Data Loading ---\n",
    "config_path = 'full.json'\n",
    "config_data = json.load(open(config_path, 'r'))\n",
    "print(config_data)"
   ]
  },
  {
   "cell_type": "code",
   "execution_count": 5,
   "id": "25d7f189-3ec3-4ab7-8de1-414157b4c512",
   "metadata": {},
   "outputs": [
    {
     "name": "stdout",
     "output_type": "stream",
     "text": [
      "Effective vCPUs: 20.0\n"
     ]
    }
   ],
   "source": [
    "import os, requests, json, pprint\n",
    "\n",
    "cid  = os.getenv(\"CONTAINER_ID\")          # ← set by Vast.ai inside every container\n",
    "key  = os.getenv(\"CONTAINER_API_KEY\")     # ← scoped token for this one instance\n",
    "assert cid and key, \"Not running on a Vast.ai container!\"\n",
    "\n",
    "resp = requests.get(\n",
    "    f\"https://console.vast.ai/api/v0/instances/{cid}/\",\n",
    "    headers={\"Authorization\": f\"Bearer {key}\",\n",
    "             \"accept\": \"application/json\"},\n",
    "    timeout=10,\n",
    ")\n",
    "\n",
    "info = resp.json()\n",
    "print(\"Effective vCPUs:\", info['instances'][\"cpu_cores_effective\"])\n",
    "# print(info['instances'].keys())"
   ]
  },
  {
   "cell_type": "code",
   "execution_count": 2,
   "id": "87870989",
   "metadata": {},
   "outputs": [
    {
     "name": "stdout",
     "output_type": "stream",
     "text": [
      "Setting up DataModule...\n",
      "Setting up data for stage: fit\n",
      "Setting up data for split: train\n",
      "Pre-scan enabled for train split. Running full data validation...\n",
      "\n",
      "--- Pre-scanning and filtering train data points ---\n",
      "Scanning 855944 edges in train split...\n"
     ]
    },
    {
     "name": "stderr",
     "output_type": "stream",
     "text": [
      "Scanning edges: 100%|██████████| 855944/855944 [00:01<00:00, 735046.70it/s]\n"
     ]
    },
    {
     "name": "stdout",
     "output_type": "stream",
     "text": [
      "\n",
      "Pre-scan Results for train:\n",
      "  Total edges scanned: 855944\n",
      "  Valid edges (has pos & neg paths): 247104 (28.9%)\n",
      "  Missing positive paths: 594364 (69.4%)\n",
      "  Missing negative paths: 608840 (71.1%)\n",
      "  Empty negative paths: 0 (0.0%)\n",
      "\n",
      "⚠️  WARNING: Some edges are missing required path data!\n",
      "  Filtering train split to keep only 247104 valid edges.\n",
      "  New edge count for train: 247104\n",
      "--- Pre-scan complete ---\n",
      "\n",
      "Use shallow embeddings: True at config ./full_embedding.json\n",
      "Loading KGE model proxy for train split from ../data/transe_ogbl-collab_all_config.json\n",
      "KGEModelProxy initialized on cuda\n",
      "Loaded model state from ../data/transe_ogbl-collab_all_model.pt to cuda\n",
      "Device for KGE model: cuda:0\n",
      "Loaded 247104 edges for train split.\n",
      "Setting up data for split: valid\n"
     ]
    },
    {
     "name": "stderr",
     "output_type": "stream",
     "text": [
      "/workspace/src/v4/embedding.py:65: FutureWarning: You are using `torch.load` with `weights_only=False` (the current default value), which uses the default pickle module implicitly. It is possible to construct malicious pickle data which will execute arbitrary code during unpickling (See https://github.com/pytorch/pytorch/blob/main/SECURITY.md#untrusted-models for more details). In a future release, the default value for `weights_only` will be flipped to `True`. This limits the functions that could be executed during unpickling. Arbitrary objects will no longer be allowed to be loaded via this mode unless they are explicitly allowlisted by the user via `torch.serialization.add_safe_globals`. We recommend you start setting `weights_only=True` for any use case where you don't have full control of the loaded file. Please open an issue on GitHub for any issues related to this experimental feature.\n",
      "  state_dict = torch.load(\n"
     ]
    },
    {
     "name": "stdout",
     "output_type": "stream",
     "text": [
      "Pre-scan not configured for valid split. Skipping data validation.\n",
      "Use shallow embeddings: True at config ./full_embedding.json\n",
      "Loading KGE model proxy for valid split from ../data/transe_ogbl-collab_all_config.json\n",
      "KGEModelProxy initialized on cuda\n",
      "Loaded model state from ../data/transe_ogbl-collab_all_model.pt to cuda\n",
      "Device for KGE model: cuda:0\n",
      "Loaded 160084 edges for valid split.\n",
      "Setting up data for split: test\n",
      "Pre-scan not configured for test split. Skipping data validation.\n",
      "Use shallow embeddings: True at config ./full_embedding.json\n",
      "Loading KGE model proxy for test split from ../data/transe_ogbl-collab_all_config.json\n",
      "KGEModelProxy initialized on cuda\n",
      "Loaded model state from ../data/transe_ogbl-collab_all_model.pt to cuda\n",
      "Device for KGE model: cuda:0\n",
      "Loaded 146329 edges for test split.\n",
      "Data loaded.\n"
     ]
    }
   ],
   "source": [
    "\n",
    "# Initialize the DataModule and load the data\n",
    "print(\"Setting up DataModule...\")\n",
    "dm = PathDataModule(config_path=config_path, batch_size=32)\n",
    "dm.setup('fit')\n",
    "print(\"Data loaded.\")\n"
   ]
  },
  {
   "cell_type": "code",
   "execution_count": 3,
   "id": "dc3d7ec3",
   "metadata": {},
   "outputs": [
    {
     "name": "stdout",
     "output_type": "stream",
     "text": [
      "Processing data for 'test' split...\n"
     ]
    }
   ],
   "source": [
    "\n",
    "# --- 2. Data Extraction and Preparation ---\n",
    "plot_data = []\n",
    "split = 'test'  # You can change this to 'valid' or 'test'\n",
    "\n",
    "print(f\"Processing data for '{split}' split...\")\n",
    "edges_df = dm.data[split]\n",
    "pos_paths = dm.pos_paths[split]\n",
    "neg_paths = dm.neg_paths[split]\n"
   ]
  },
  {
   "cell_type": "code",
   "execution_count": 4,
   "id": "c0369475-3db0-4f15-9596-fb1c557d1681",
   "metadata": {},
   "outputs": [
    {
     "name": "stdout",
     "output_type": "stream",
     "text": [
      "48963 46064\n"
     ]
    }
   ],
   "source": [
    "print(len(pos_paths), len(neg_paths))"
   ]
  },
  {
   "cell_type": "code",
   "execution_count": 5,
   "id": "a6616504",
   "metadata": {},
   "outputs": [
    {
     "name": "stderr",
     "output_type": "stream",
     "text": [
      "Extracting paths: 100%|██████████| 146329/146329 [00:10<00:00, 14242.94it/s]\n"
     ]
    }
   ],
   "source": [
    "\n",
    "for eid, row in tqdm(edges_df.iterrows(), total=len(edges_df), desc=\"Extracting paths\"):\n",
    "    eid_str = str(eid)\n",
    "    label = row['label']\n",
    "    edge_meta = {}\n",
    "\n",
    "    # Process positive path\n",
    "    if eid_str in pos_paths and pos_paths[eid_str].get('nodes'):\n",
    "        pos_path_len = len(pos_paths[eid_str]['nodes'])\n",
    "        edge_meta = {\n",
    "            'path_length': pos_path_len,\n",
    "            # 'path_type': 'positive',\n",
    "            'label': 'true_link' if label == 1 else 'false_link'\n",
    "        }\n",
    "    else:\n",
    "        edge_meta = {\n",
    "            'path_length': 0,\n",
    "            # 'path_type': 'positive',\n",
    "            'label': 'true_link' if label == 1 else 'false_link'\n",
    "        }\n",
    "\n",
    "    # Process negative paths\n",
    "    if eid_str in neg_paths:\n",
    "        # for neg_path_interleaved in neg_paths[eid_str]:\n",
    "        #     # As per loader.py, nodes are at even indices\n",
    "        #     neg_path_len = len(neg_path_interleaved[::2])\n",
    "        #     plot_data.append({\n",
    "        #         'path_length': neg_path_len,\n",
    "        #         'path_type': 'negative',\n",
    "        #         'label': 'true_link' if label == 1 else 'false_link'\n",
    "        #     })\n",
    "        edge_meta[\"num_neg\"] = len(neg_paths[eid_str])\n",
    "\n",
    "    plot_data.append(edge_meta)"
   ]
  },
  {
   "cell_type": "code",
   "execution_count": 6,
   "id": "088fe275",
   "metadata": {},
   "outputs": [
    {
     "name": "stdout",
     "output_type": "stream",
     "text": [
      "Data prepared for plotting.\n"
     ]
    }
   ],
   "source": [
    "\n",
    "plot_df = pd.DataFrame(plot_data)\n",
    "print(\"Data prepared for plotting.\")\n"
   ]
  },
  {
   "cell_type": "code",
   "execution_count": 7,
   "id": "e9d9a7b7",
   "metadata": {},
   "outputs": [],
   "source": [
    "\n",
    "# # --- 3. Visualization ---\n",
    "# if not plot_df.empty:\n",
    "#     print(\"Generating plots...\")\n",
    "#     # Set plot style\n",
    "#     sns.set_theme(style=\"whitegrid\")\n",
    "\n",
    "#     # Create a scatter plot (strip plot) to show the distribution\n",
    "#     plt.figure(figsize=(16, 9))\n",
    "#     sns.stripplot(data=plot_df, x='path_length', y='path_type', hue='label',\n",
    "#                   jitter=0.35, alpha=0.6, dodge=True, palette={'true_link': 'blue', 'false_link': 'red'})\n",
    "#     plt.title(\n",
    "#         f'Path Length Scatter Plot for {split.capitalize()} Set', fontsize=18)\n",
    "#     plt.xlabel('Path Length (Number of Nodes)', fontsize=12)\n",
    "#     plt.ylabel('Path Type', fontsize=12)\n",
    "#     plt.xticks(range(plot_df['path_length'].min(),\n",
    "#                plot_df['path_length'].max() + 1))\n",
    "#     plt.legend(title='Edge Label')\n",
    "#     plt.show()\n",
    "\n",
    "#     # Create a box plot for a clearer summary of the distributions\n",
    "#     plt.figure(figsize=(16, 9))\n",
    "#     sns.boxplot(data=plot_df, x='path_length', y='path_type', hue='label',\n",
    "#                 palette={'true_link': 'blue', 'false_link': 'red'})\n",
    "#     plt.title(\n",
    "#         f'Path Length Distribution for {split.capitalize()} Set', fontsize=18)\n",
    "#     plt.xlabel('Path Length (Number of Nodes)', fontsize=12)\n",
    "#     plt.ylabel('Path Type', fontsize=12)\n",
    "#     plt.xticks(range(plot_df['path_length'].min(),\n",
    "#                plot_df['path_length'].max() + 1))\n",
    "#     plt.legend(title='Edge Label')\n",
    "#     plt.show()\n",
    "# else:\n",
    "#     print(\"No data available to plot.\")"
   ]
  },
  {
   "cell_type": "code",
   "execution_count": 8,
   "id": "82639675-7dd6-4134-b78a-2b6bf93ddb4d",
   "metadata": {},
   "outputs": [
    {
     "data": {
      "text/html": [
       "<div>\n",
       "<style scoped>\n",
       "    .dataframe tbody tr th:only-of-type {\n",
       "        vertical-align: middle;\n",
       "    }\n",
       "\n",
       "    .dataframe tbody tr th {\n",
       "        vertical-align: top;\n",
       "    }\n",
       "\n",
       "    .dataframe thead th {\n",
       "        text-align: right;\n",
       "    }\n",
       "</style>\n",
       "<table border=\"1\" class=\"dataframe\">\n",
       "  <thead>\n",
       "    <tr style=\"text-align: right;\">\n",
       "      <th></th>\n",
       "      <th>path_length</th>\n",
       "      <th>label</th>\n",
       "      <th>num_neg</th>\n",
       "    </tr>\n",
       "  </thead>\n",
       "  <tbody>\n",
       "    <tr>\n",
       "      <th>0</th>\n",
       "      <td>5</td>\n",
       "      <td>true_link</td>\n",
       "      <td>20.0</td>\n",
       "    </tr>\n",
       "    <tr>\n",
       "      <th>1</th>\n",
       "      <td>0</td>\n",
       "      <td>true_link</td>\n",
       "      <td>NaN</td>\n",
       "    </tr>\n",
       "    <tr>\n",
       "      <th>2</th>\n",
       "      <td>2</td>\n",
       "      <td>true_link</td>\n",
       "      <td>20.0</td>\n",
       "    </tr>\n",
       "    <tr>\n",
       "      <th>3</th>\n",
       "      <td>4</td>\n",
       "      <td>true_link</td>\n",
       "      <td>20.0</td>\n",
       "    </tr>\n",
       "    <tr>\n",
       "      <th>4</th>\n",
       "      <td>2</td>\n",
       "      <td>true_link</td>\n",
       "      <td>20.0</td>\n",
       "    </tr>\n",
       "    <tr>\n",
       "      <th>...</th>\n",
       "      <td>...</td>\n",
       "      <td>...</td>\n",
       "      <td>...</td>\n",
       "    </tr>\n",
       "    <tr>\n",
       "      <th>146324</th>\n",
       "      <td>0</td>\n",
       "      <td>false_link</td>\n",
       "      <td>NaN</td>\n",
       "    </tr>\n",
       "    <tr>\n",
       "      <th>146325</th>\n",
       "      <td>4</td>\n",
       "      <td>false_link</td>\n",
       "      <td>1.0</td>\n",
       "    </tr>\n",
       "    <tr>\n",
       "      <th>146326</th>\n",
       "      <td>0</td>\n",
       "      <td>false_link</td>\n",
       "      <td>NaN</td>\n",
       "    </tr>\n",
       "    <tr>\n",
       "      <th>146327</th>\n",
       "      <td>0</td>\n",
       "      <td>false_link</td>\n",
       "      <td>NaN</td>\n",
       "    </tr>\n",
       "    <tr>\n",
       "      <th>146328</th>\n",
       "      <td>0</td>\n",
       "      <td>false_link</td>\n",
       "      <td>NaN</td>\n",
       "    </tr>\n",
       "  </tbody>\n",
       "</table>\n",
       "<p>146329 rows × 3 columns</p>\n",
       "</div>"
      ],
      "text/plain": [
       "        path_length       label  num_neg\n",
       "0                 5   true_link     20.0\n",
       "1                 0   true_link      NaN\n",
       "2                 2   true_link     20.0\n",
       "3                 4   true_link     20.0\n",
       "4                 2   true_link     20.0\n",
       "...             ...         ...      ...\n",
       "146324            0  false_link      NaN\n",
       "146325            4  false_link      1.0\n",
       "146326            0  false_link      NaN\n",
       "146327            0  false_link      NaN\n",
       "146328            0  false_link      NaN\n",
       "\n",
       "[146329 rows x 3 columns]"
      ]
     },
     "execution_count": 8,
     "metadata": {},
     "output_type": "execute_result"
    }
   ],
   "source": [
    "plot_df"
   ]
  },
  {
   "cell_type": "code",
   "execution_count": 9,
   "id": "fb792996-2759-45e0-ac41-56eb88024d06",
   "metadata": {},
   "outputs": [
    {
     "data": {
      "text/html": [
       "<div>\n",
       "<style scoped>\n",
       "    .dataframe tbody tr th:only-of-type {\n",
       "        vertical-align: middle;\n",
       "    }\n",
       "\n",
       "    .dataframe tbody tr th {\n",
       "        vertical-align: top;\n",
       "    }\n",
       "\n",
       "    .dataframe thead th {\n",
       "        text-align: right;\n",
       "    }\n",
       "</style>\n",
       "<table border=\"1\" class=\"dataframe\">\n",
       "  <thead>\n",
       "    <tr style=\"text-align: right;\">\n",
       "      <th></th>\n",
       "      <th>path_length</th>\n",
       "      <th>label</th>\n",
       "      <th>num_neg</th>\n",
       "    </tr>\n",
       "  </thead>\n",
       "  <tbody>\n",
       "    <tr>\n",
       "      <th>0</th>\n",
       "      <td>5</td>\n",
       "      <td>true_link</td>\n",
       "      <td>20.0</td>\n",
       "    </tr>\n",
       "    <tr>\n",
       "      <th>2</th>\n",
       "      <td>2</td>\n",
       "      <td>true_link</td>\n",
       "      <td>20.0</td>\n",
       "    </tr>\n",
       "    <tr>\n",
       "      <th>3</th>\n",
       "      <td>4</td>\n",
       "      <td>true_link</td>\n",
       "      <td>20.0</td>\n",
       "    </tr>\n",
       "    <tr>\n",
       "      <th>4</th>\n",
       "      <td>2</td>\n",
       "      <td>true_link</td>\n",
       "      <td>20.0</td>\n",
       "    </tr>\n",
       "    <tr>\n",
       "      <th>5</th>\n",
       "      <td>2</td>\n",
       "      <td>true_link</td>\n",
       "      <td>20.0</td>\n",
       "    </tr>\n",
       "    <tr>\n",
       "      <th>...</th>\n",
       "      <td>...</td>\n",
       "      <td>...</td>\n",
       "      <td>...</td>\n",
       "    </tr>\n",
       "    <tr>\n",
       "      <th>146298</th>\n",
       "      <td>5</td>\n",
       "      <td>false_link</td>\n",
       "      <td>NaN</td>\n",
       "    </tr>\n",
       "    <tr>\n",
       "      <th>146303</th>\n",
       "      <td>5</td>\n",
       "      <td>false_link</td>\n",
       "      <td>20.0</td>\n",
       "    </tr>\n",
       "    <tr>\n",
       "      <th>146309</th>\n",
       "      <td>5</td>\n",
       "      <td>false_link</td>\n",
       "      <td>11.0</td>\n",
       "    </tr>\n",
       "    <tr>\n",
       "      <th>146316</th>\n",
       "      <td>5</td>\n",
       "      <td>false_link</td>\n",
       "      <td>NaN</td>\n",
       "    </tr>\n",
       "    <tr>\n",
       "      <th>146325</th>\n",
       "      <td>4</td>\n",
       "      <td>false_link</td>\n",
       "      <td>1.0</td>\n",
       "    </tr>\n",
       "  </tbody>\n",
       "</table>\n",
       "<p>48963 rows × 3 columns</p>\n",
       "</div>"
      ],
      "text/plain": [
       "        path_length       label  num_neg\n",
       "0                 5   true_link     20.0\n",
       "2                 2   true_link     20.0\n",
       "3                 4   true_link     20.0\n",
       "4                 2   true_link     20.0\n",
       "5                 2   true_link     20.0\n",
       "...             ...         ...      ...\n",
       "146298            5  false_link      NaN\n",
       "146303            5  false_link     20.0\n",
       "146309            5  false_link     11.0\n",
       "146316            5  false_link      NaN\n",
       "146325            4  false_link      1.0\n",
       "\n",
       "[48963 rows x 3 columns]"
      ]
     },
     "execution_count": 9,
     "metadata": {},
     "output_type": "execute_result"
    }
   ],
   "source": [
    "pos_df = plot_df[plot_df[\"path_length\"] > 0].copy()\n",
    "pos_df"
   ]
  },
  {
   "cell_type": "code",
   "execution_count": 10,
   "id": "d623e965-4b0f-4c5e-8871-b545537f2339",
   "metadata": {},
   "outputs": [
    {
     "data": {
      "text/html": [
       "<div>\n",
       "<style scoped>\n",
       "    .dataframe tbody tr th:only-of-type {\n",
       "        vertical-align: middle;\n",
       "    }\n",
       "\n",
       "    .dataframe tbody tr th {\n",
       "        vertical-align: top;\n",
       "    }\n",
       "\n",
       "    .dataframe thead th {\n",
       "        text-align: right;\n",
       "    }\n",
       "</style>\n",
       "<table border=\"1\" class=\"dataframe\">\n",
       "  <thead>\n",
       "    <tr style=\"text-align: right;\">\n",
       "      <th></th>\n",
       "      <th>label</th>\n",
       "      <th>num_neg</th>\n",
       "    </tr>\n",
       "    <tr>\n",
       "      <th>path_length</th>\n",
       "      <th></th>\n",
       "      <th></th>\n",
       "    </tr>\n",
       "  </thead>\n",
       "  <tbody>\n",
       "    <tr>\n",
       "      <th>2</th>\n",
       "      <td>21538</td>\n",
       "      <td>21538</td>\n",
       "    </tr>\n",
       "    <tr>\n",
       "      <th>3</th>\n",
       "      <td>107</td>\n",
       "      <td>104</td>\n",
       "    </tr>\n",
       "    <tr>\n",
       "      <th>4</th>\n",
       "      <td>12911</td>\n",
       "      <td>12782</td>\n",
       "    </tr>\n",
       "    <tr>\n",
       "      <th>5</th>\n",
       "      <td>3696</td>\n",
       "      <td>3538</td>\n",
       "    </tr>\n",
       "  </tbody>\n",
       "</table>\n",
       "</div>"
      ],
      "text/plain": [
       "             label  num_neg\n",
       "path_length                \n",
       "2            21538    21538\n",
       "3              107      104\n",
       "4            12911    12782\n",
       "5             3696     3538"
      ]
     },
     "execution_count": 10,
     "metadata": {},
     "output_type": "execute_result"
    }
   ],
   "source": [
    "temp = pos_df[pos_df[\"label\"] == \"true_link\"].groupby(\"path_length\").count()\n",
    "temp"
   ]
  },
  {
   "cell_type": "code",
   "execution_count": 11,
   "id": "19389dfd-e59b-422c-9d1e-423e17b6472b",
   "metadata": {},
   "outputs": [
    {
     "data": {
      "text/html": [
       "<div>\n",
       "<style scoped>\n",
       "    .dataframe tbody tr th:only-of-type {\n",
       "        vertical-align: middle;\n",
       "    }\n",
       "\n",
       "    .dataframe tbody tr th {\n",
       "        vertical-align: top;\n",
       "    }\n",
       "\n",
       "    .dataframe thead th {\n",
       "        text-align: right;\n",
       "    }\n",
       "</style>\n",
       "<table border=\"1\" class=\"dataframe\">\n",
       "  <thead>\n",
       "    <tr style=\"text-align: right;\">\n",
       "      <th></th>\n",
       "      <th>label</th>\n",
       "      <th>num_neg</th>\n",
       "    </tr>\n",
       "    <tr>\n",
       "      <th>path_length</th>\n",
       "      <th></th>\n",
       "      <th></th>\n",
       "    </tr>\n",
       "  </thead>\n",
       "  <tbody>\n",
       "    <tr>\n",
       "      <th>2</th>\n",
       "      <td>56.305553</td>\n",
       "      <td>56.735683</td>\n",
       "    </tr>\n",
       "    <tr>\n",
       "      <th>3</th>\n",
       "      <td>0.279724</td>\n",
       "      <td>0.273958</td>\n",
       "    </tr>\n",
       "    <tr>\n",
       "      <th>4</th>\n",
       "      <td>33.752484</td>\n",
       "      <td>33.670513</td>\n",
       "    </tr>\n",
       "    <tr>\n",
       "      <th>5</th>\n",
       "      <td>9.662240</td>\n",
       "      <td>9.319846</td>\n",
       "    </tr>\n",
       "  </tbody>\n",
       "</table>\n",
       "</div>"
      ],
      "text/plain": [
       "                 label    num_neg\n",
       "path_length                      \n",
       "2            56.305553  56.735683\n",
       "3             0.279724   0.273958\n",
       "4            33.752484  33.670513\n",
       "5             9.662240   9.319846"
      ]
     },
     "execution_count": 11,
     "metadata": {},
     "output_type": "execute_result"
    }
   ],
   "source": [
    "temp / temp.sum() * 100"
   ]
  },
  {
   "cell_type": "code",
   "execution_count": 12,
   "id": "b6419779-a02c-463b-9f1b-7bf4cf1b8352",
   "metadata": {},
   "outputs": [
    {
     "data": {
      "text/html": [
       "<div>\n",
       "<style scoped>\n",
       "    .dataframe tbody tr th:only-of-type {\n",
       "        vertical-align: middle;\n",
       "    }\n",
       "\n",
       "    .dataframe tbody tr th {\n",
       "        vertical-align: top;\n",
       "    }\n",
       "\n",
       "    .dataframe thead th {\n",
       "        text-align: right;\n",
       "    }\n",
       "</style>\n",
       "<table border=\"1\" class=\"dataframe\">\n",
       "  <thead>\n",
       "    <tr style=\"text-align: right;\">\n",
       "      <th></th>\n",
       "      <th>label</th>\n",
       "      <th>num_neg</th>\n",
       "    </tr>\n",
       "    <tr>\n",
       "      <th>path_length</th>\n",
       "      <th></th>\n",
       "      <th></th>\n",
       "    </tr>\n",
       "  </thead>\n",
       "  <tbody>\n",
       "    <tr>\n",
       "      <th>2</th>\n",
       "      <td>12</td>\n",
       "      <td>12</td>\n",
       "    </tr>\n",
       "    <tr>\n",
       "      <th>3</th>\n",
       "      <td>63</td>\n",
       "      <td>48</td>\n",
       "    </tr>\n",
       "    <tr>\n",
       "      <th>4</th>\n",
       "      <td>929</td>\n",
       "      <td>704</td>\n",
       "    </tr>\n",
       "    <tr>\n",
       "      <th>5</th>\n",
       "      <td>9707</td>\n",
       "      <td>7338</td>\n",
       "    </tr>\n",
       "  </tbody>\n",
       "</table>\n",
       "</div>"
      ],
      "text/plain": [
       "             label  num_neg\n",
       "path_length                \n",
       "2               12       12\n",
       "3               63       48\n",
       "4              929      704\n",
       "5             9707     7338"
      ]
     },
     "execution_count": 12,
     "metadata": {},
     "output_type": "execute_result"
    }
   ],
   "source": [
    "pos_df[pos_df[\"label\"] == \"false_link\"].groupby(\"path_length\").count()"
   ]
  },
  {
   "cell_type": "code",
   "execution_count": 13,
   "id": "f6429c06-a3e4-4bb7-a2ab-5db04ac9e0e9",
   "metadata": {},
   "outputs": [
    {
     "data": {
      "text/html": [
       "<div>\n",
       "<style scoped>\n",
       "    .dataframe tbody tr th:only-of-type {\n",
       "        vertical-align: middle;\n",
       "    }\n",
       "\n",
       "    .dataframe tbody tr th {\n",
       "        vertical-align: top;\n",
       "    }\n",
       "\n",
       "    .dataframe thead th {\n",
       "        text-align: right;\n",
       "    }\n",
       "</style>\n",
       "<table border=\"1\" class=\"dataframe\">\n",
       "  <thead>\n",
       "    <tr style=\"text-align: right;\">\n",
       "      <th></th>\n",
       "      <th>path_length</th>\n",
       "      <th>label</th>\n",
       "      <th>num_neg</th>\n",
       "    </tr>\n",
       "  </thead>\n",
       "  <tbody>\n",
       "    <tr>\n",
       "      <th>1</th>\n",
       "      <td>0</td>\n",
       "      <td>true_link</td>\n",
       "      <td>NaN</td>\n",
       "    </tr>\n",
       "    <tr>\n",
       "      <th>7</th>\n",
       "      <td>0</td>\n",
       "      <td>true_link</td>\n",
       "      <td>NaN</td>\n",
       "    </tr>\n",
       "    <tr>\n",
       "      <th>8</th>\n",
       "      <td>0</td>\n",
       "      <td>true_link</td>\n",
       "      <td>NaN</td>\n",
       "    </tr>\n",
       "    <tr>\n",
       "      <th>13</th>\n",
       "      <td>0</td>\n",
       "      <td>true_link</td>\n",
       "      <td>NaN</td>\n",
       "    </tr>\n",
       "    <tr>\n",
       "      <th>25</th>\n",
       "      <td>0</td>\n",
       "      <td>true_link</td>\n",
       "      <td>NaN</td>\n",
       "    </tr>\n",
       "    <tr>\n",
       "      <th>...</th>\n",
       "      <td>...</td>\n",
       "      <td>...</td>\n",
       "      <td>...</td>\n",
       "    </tr>\n",
       "    <tr>\n",
       "      <th>146323</th>\n",
       "      <td>0</td>\n",
       "      <td>false_link</td>\n",
       "      <td>NaN</td>\n",
       "    </tr>\n",
       "    <tr>\n",
       "      <th>146324</th>\n",
       "      <td>0</td>\n",
       "      <td>false_link</td>\n",
       "      <td>NaN</td>\n",
       "    </tr>\n",
       "    <tr>\n",
       "      <th>146326</th>\n",
       "      <td>0</td>\n",
       "      <td>false_link</td>\n",
       "      <td>NaN</td>\n",
       "    </tr>\n",
       "    <tr>\n",
       "      <th>146327</th>\n",
       "      <td>0</td>\n",
       "      <td>false_link</td>\n",
       "      <td>NaN</td>\n",
       "    </tr>\n",
       "    <tr>\n",
       "      <th>146328</th>\n",
       "      <td>0</td>\n",
       "      <td>false_link</td>\n",
       "      <td>NaN</td>\n",
       "    </tr>\n",
       "  </tbody>\n",
       "</table>\n",
       "<p>97366 rows × 3 columns</p>\n",
       "</div>"
      ],
      "text/plain": [
       "        path_length       label  num_neg\n",
       "1                 0   true_link      NaN\n",
       "7                 0   true_link      NaN\n",
       "8                 0   true_link      NaN\n",
       "13                0   true_link      NaN\n",
       "25                0   true_link      NaN\n",
       "...             ...         ...      ...\n",
       "146323            0  false_link      NaN\n",
       "146324            0  false_link      NaN\n",
       "146326            0  false_link      NaN\n",
       "146327            0  false_link      NaN\n",
       "146328            0  false_link      NaN\n",
       "\n",
       "[97366 rows x 3 columns]"
      ]
     },
     "execution_count": 13,
     "metadata": {},
     "output_type": "execute_result"
    }
   ],
   "source": [
    "plot_df[plot_df[\"path_length\"] < 2]"
   ]
  },
  {
   "cell_type": "code",
   "execution_count": 14,
   "id": "889b38b1-9afb-4123-8393-ae6fe5ebdff2",
   "metadata": {},
   "outputs": [
    {
     "data": {
      "text/html": [
       "<div>\n",
       "<style scoped>\n",
       "    .dataframe tbody tr th:only-of-type {\n",
       "        vertical-align: middle;\n",
       "    }\n",
       "\n",
       "    .dataframe tbody tr th {\n",
       "        vertical-align: top;\n",
       "    }\n",
       "\n",
       "    .dataframe thead th {\n",
       "        text-align: right;\n",
       "    }\n",
       "</style>\n",
       "<table border=\"1\" class=\"dataframe\">\n",
       "  <thead>\n",
       "    <tr style=\"text-align: right;\">\n",
       "      <th></th>\n",
       "      <th>path_length</th>\n",
       "      <th>num_neg</th>\n",
       "    </tr>\n",
       "  </thead>\n",
       "  <tbody>\n",
       "    <tr>\n",
       "      <th>count</th>\n",
       "      <td>97366.0</td>\n",
       "      <td>0.0</td>\n",
       "    </tr>\n",
       "    <tr>\n",
       "      <th>mean</th>\n",
       "      <td>0.0</td>\n",
       "      <td>NaN</td>\n",
       "    </tr>\n",
       "    <tr>\n",
       "      <th>std</th>\n",
       "      <td>0.0</td>\n",
       "      <td>NaN</td>\n",
       "    </tr>\n",
       "    <tr>\n",
       "      <th>min</th>\n",
       "      <td>0.0</td>\n",
       "      <td>NaN</td>\n",
       "    </tr>\n",
       "    <tr>\n",
       "      <th>25%</th>\n",
       "      <td>0.0</td>\n",
       "      <td>NaN</td>\n",
       "    </tr>\n",
       "    <tr>\n",
       "      <th>50%</th>\n",
       "      <td>0.0</td>\n",
       "      <td>NaN</td>\n",
       "    </tr>\n",
       "    <tr>\n",
       "      <th>75%</th>\n",
       "      <td>0.0</td>\n",
       "      <td>NaN</td>\n",
       "    </tr>\n",
       "    <tr>\n",
       "      <th>max</th>\n",
       "      <td>0.0</td>\n",
       "      <td>NaN</td>\n",
       "    </tr>\n",
       "  </tbody>\n",
       "</table>\n",
       "</div>"
      ],
      "text/plain": [
       "       path_length  num_neg\n",
       "count      97366.0      0.0\n",
       "mean           0.0      NaN\n",
       "std            0.0      NaN\n",
       "min            0.0      NaN\n",
       "25%            0.0      NaN\n",
       "50%            0.0      NaN\n",
       "75%            0.0      NaN\n",
       "max            0.0      NaN"
      ]
     },
     "execution_count": 14,
     "metadata": {},
     "output_type": "execute_result"
    }
   ],
   "source": [
    "plot_df[plot_df[\"path_length\"] < 2].describe()"
   ]
  },
  {
   "cell_type": "code",
   "execution_count": 15,
   "id": "9a600840-6742-4594-957e-0a2e4c1d2231",
   "metadata": {},
   "outputs": [
    {
     "data": {
      "text/html": [
       "<div>\n",
       "<style scoped>\n",
       "    .dataframe tbody tr th:only-of-type {\n",
       "        vertical-align: middle;\n",
       "    }\n",
       "\n",
       "    .dataframe tbody tr th {\n",
       "        vertical-align: top;\n",
       "    }\n",
       "\n",
       "    .dataframe thead th {\n",
       "        text-align: right;\n",
       "    }\n",
       "</style>\n",
       "<table border=\"1\" class=\"dataframe\">\n",
       "  <thead>\n",
       "    <tr style=\"text-align: right;\">\n",
       "      <th></th>\n",
       "      <th>path_length</th>\n",
       "      <th>label</th>\n",
       "      <th>num_neg</th>\n",
       "    </tr>\n",
       "  </thead>\n",
       "  <tbody>\n",
       "    <tr>\n",
       "      <th>count</th>\n",
       "      <td>48963.000000</td>\n",
       "      <td>48963</td>\n",
       "      <td>46064.000000</td>\n",
       "    </tr>\n",
       "    <tr>\n",
       "      <th>unique</th>\n",
       "      <td>NaN</td>\n",
       "      <td>2</td>\n",
       "      <td>NaN</td>\n",
       "    </tr>\n",
       "    <tr>\n",
       "      <th>top</th>\n",
       "      <td>NaN</td>\n",
       "      <td>true_link</td>\n",
       "      <td>NaN</td>\n",
       "    </tr>\n",
       "    <tr>\n",
       "      <th>freq</th>\n",
       "      <td>NaN</td>\n",
       "      <td>38252</td>\n",
       "      <td>NaN</td>\n",
       "    </tr>\n",
       "    <tr>\n",
       "      <th>mean</th>\n",
       "      <td>3.390009</td>\n",
       "      <td>NaN</td>\n",
       "      <td>17.805922</td>\n",
       "    </tr>\n",
       "    <tr>\n",
       "      <th>std</th>\n",
       "      <td>1.290607</td>\n",
       "      <td>NaN</td>\n",
       "      <td>4.968002</td>\n",
       "    </tr>\n",
       "    <tr>\n",
       "      <th>min</th>\n",
       "      <td>2.000000</td>\n",
       "      <td>NaN</td>\n",
       "      <td>1.000000</td>\n",
       "    </tr>\n",
       "    <tr>\n",
       "      <th>25%</th>\n",
       "      <td>2.000000</td>\n",
       "      <td>NaN</td>\n",
       "      <td>20.000000</td>\n",
       "    </tr>\n",
       "    <tr>\n",
       "      <th>50%</th>\n",
       "      <td>4.000000</td>\n",
       "      <td>NaN</td>\n",
       "      <td>20.000000</td>\n",
       "    </tr>\n",
       "    <tr>\n",
       "      <th>75%</th>\n",
       "      <td>5.000000</td>\n",
       "      <td>NaN</td>\n",
       "      <td>20.000000</td>\n",
       "    </tr>\n",
       "    <tr>\n",
       "      <th>max</th>\n",
       "      <td>5.000000</td>\n",
       "      <td>NaN</td>\n",
       "      <td>20.000000</td>\n",
       "    </tr>\n",
       "  </tbody>\n",
       "</table>\n",
       "</div>"
      ],
      "text/plain": [
       "         path_length      label       num_neg\n",
       "count   48963.000000      48963  46064.000000\n",
       "unique           NaN          2           NaN\n",
       "top              NaN  true_link           NaN\n",
       "freq             NaN      38252           NaN\n",
       "mean        3.390009        NaN     17.805922\n",
       "std         1.290607        NaN      4.968002\n",
       "min         2.000000        NaN      1.000000\n",
       "25%         2.000000        NaN     20.000000\n",
       "50%         4.000000        NaN     20.000000\n",
       "75%         5.000000        NaN     20.000000\n",
       "max         5.000000        NaN     20.000000"
      ]
     },
     "execution_count": 15,
     "metadata": {},
     "output_type": "execute_result"
    }
   ],
   "source": [
    "pos_df.describe(include=\"all\")"
   ]
  },
  {
   "cell_type": "code",
   "execution_count": 16,
   "id": "6337238c-1ab8-45e1-ab21-ba223047996c",
   "metadata": {},
   "outputs": [
    {
     "data": {
      "text/plain": [
       "0.76"
      ]
     },
     "execution_count": 16,
     "metadata": {},
     "output_type": "execute_result"
    }
   ],
   "source": [
    "1 - 12/50"
   ]
  },
  {
   "cell_type": "code",
   "execution_count": 17,
   "id": "f9a74d94-d292-493a-9d63-d86d67a2d826",
   "metadata": {},
   "outputs": [],
   "source": [
    "from evaluation import evaluate"
   ]
  },
  {
   "cell_type": "code",
   "execution_count": 18,
   "id": "06cdaa52-bb05-4629-ac30-4deb750e15b9",
   "metadata": {},
   "outputs": [
    {
     "data": {
      "text/html": [
       "<div>\n",
       "<style scoped>\n",
       "    .dataframe tbody tr th:only-of-type {\n",
       "        vertical-align: middle;\n",
       "    }\n",
       "\n",
       "    .dataframe tbody tr th {\n",
       "        vertical-align: top;\n",
       "    }\n",
       "\n",
       "    .dataframe thead th {\n",
       "        text-align: right;\n",
       "    }\n",
       "</style>\n",
       "<table border=\"1\" class=\"dataframe\">\n",
       "  <thead>\n",
       "    <tr style=\"text-align: right;\">\n",
       "      <th></th>\n",
       "      <th>path_length</th>\n",
       "      <th>label</th>\n",
       "      <th>num_neg</th>\n",
       "      <th>score</th>\n",
       "    </tr>\n",
       "  </thead>\n",
       "  <tbody>\n",
       "    <tr>\n",
       "      <th>0</th>\n",
       "      <td>5</td>\n",
       "      <td>true_link</td>\n",
       "      <td>20.0</td>\n",
       "      <td>0.000000</td>\n",
       "    </tr>\n",
       "    <tr>\n",
       "      <th>2</th>\n",
       "      <td>2</td>\n",
       "      <td>true_link</td>\n",
       "      <td>20.0</td>\n",
       "      <td>1.000000</td>\n",
       "    </tr>\n",
       "    <tr>\n",
       "      <th>3</th>\n",
       "      <td>4</td>\n",
       "      <td>true_link</td>\n",
       "      <td>20.0</td>\n",
       "      <td>0.333333</td>\n",
       "    </tr>\n",
       "    <tr>\n",
       "      <th>4</th>\n",
       "      <td>2</td>\n",
       "      <td>true_link</td>\n",
       "      <td>20.0</td>\n",
       "      <td>1.000000</td>\n",
       "    </tr>\n",
       "    <tr>\n",
       "      <th>5</th>\n",
       "      <td>2</td>\n",
       "      <td>true_link</td>\n",
       "      <td>20.0</td>\n",
       "      <td>1.000000</td>\n",
       "    </tr>\n",
       "    <tr>\n",
       "      <th>...</th>\n",
       "      <td>...</td>\n",
       "      <td>...</td>\n",
       "      <td>...</td>\n",
       "      <td>...</td>\n",
       "    </tr>\n",
       "    <tr>\n",
       "      <th>146298</th>\n",
       "      <td>5</td>\n",
       "      <td>false_link</td>\n",
       "      <td>NaN</td>\n",
       "      <td>0.000000</td>\n",
       "    </tr>\n",
       "    <tr>\n",
       "      <th>146303</th>\n",
       "      <td>5</td>\n",
       "      <td>false_link</td>\n",
       "      <td>20.0</td>\n",
       "      <td>0.000000</td>\n",
       "    </tr>\n",
       "    <tr>\n",
       "      <th>146309</th>\n",
       "      <td>5</td>\n",
       "      <td>false_link</td>\n",
       "      <td>11.0</td>\n",
       "      <td>0.000000</td>\n",
       "    </tr>\n",
       "    <tr>\n",
       "      <th>146316</th>\n",
       "      <td>5</td>\n",
       "      <td>false_link</td>\n",
       "      <td>NaN</td>\n",
       "      <td>0.000000</td>\n",
       "    </tr>\n",
       "    <tr>\n",
       "      <th>146325</th>\n",
       "      <td>4</td>\n",
       "      <td>false_link</td>\n",
       "      <td>1.0</td>\n",
       "      <td>0.333333</td>\n",
       "    </tr>\n",
       "  </tbody>\n",
       "</table>\n",
       "<p>48963 rows × 4 columns</p>\n",
       "</div>"
      ],
      "text/plain": [
       "        path_length       label  num_neg     score\n",
       "0                 5   true_link     20.0  0.000000\n",
       "2                 2   true_link     20.0  1.000000\n",
       "3                 4   true_link     20.0  0.333333\n",
       "4                 2   true_link     20.0  1.000000\n",
       "5                 2   true_link     20.0  1.000000\n",
       "...             ...         ...      ...       ...\n",
       "146298            5  false_link      NaN  0.000000\n",
       "146303            5  false_link     20.0  0.000000\n",
       "146309            5  false_link     11.0  0.000000\n",
       "146316            5  false_link      NaN  0.000000\n",
       "146325            4  false_link      1.0  0.333333\n",
       "\n",
       "[48963 rows x 4 columns]"
      ]
     },
     "execution_count": 18,
     "metadata": {},
     "output_type": "execute_result"
    }
   ],
   "source": [
    "result = pos_df.copy()\n",
    "result[\"score\"] = 1 - (result[\"path_length\"] - result[\"path_length\"].min()) / (result[\"path_length\"].max() - result[\"path_length\"].min())\n",
    "result"
   ]
  },
  {
   "cell_type": "code",
   "execution_count": 19,
   "id": "57edeea0-24bd-4d7c-9835-09b50d36bd37",
   "metadata": {},
   "outputs": [
    {
     "name": "stdout",
     "output_type": "stream",
     "text": [
      "0.3333333333333333\n"
     ]
    }
   ],
   "source": [
    "scale = 1 / (result[\"path_length\"].max() - result[\"path_length\"].min())\n",
    "print(scale)"
   ]
  },
  {
   "cell_type": "code",
   "execution_count": 20,
   "id": "e4459a99-a12c-498b-8a7e-d3a001dd7a40",
   "metadata": {},
   "outputs": [
    {
     "data": {
      "text/html": [
       "<div>\n",
       "<style scoped>\n",
       "    .dataframe tbody tr th:only-of-type {\n",
       "        vertical-align: middle;\n",
       "    }\n",
       "\n",
       "    .dataframe tbody tr th {\n",
       "        vertical-align: top;\n",
       "    }\n",
       "\n",
       "    .dataframe thead th {\n",
       "        text-align: right;\n",
       "    }\n",
       "</style>\n",
       "<table border=\"1\" class=\"dataframe\">\n",
       "  <thead>\n",
       "    <tr style=\"text-align: right;\">\n",
       "      <th></th>\n",
       "      <th>path_length</th>\n",
       "      <th>label</th>\n",
       "      <th>num_neg</th>\n",
       "      <th>score</th>\n",
       "      <th>random</th>\n",
       "    </tr>\n",
       "  </thead>\n",
       "  <tbody>\n",
       "    <tr>\n",
       "      <th>0</th>\n",
       "      <td>5</td>\n",
       "      <td>true_link</td>\n",
       "      <td>20.0</td>\n",
       "      <td>0.000000</td>\n",
       "      <td>0.101662</td>\n",
       "    </tr>\n",
       "    <tr>\n",
       "      <th>2</th>\n",
       "      <td>2</td>\n",
       "      <td>true_link</td>\n",
       "      <td>20.0</td>\n",
       "      <td>1.000000</td>\n",
       "      <td>1.977131</td>\n",
       "    </tr>\n",
       "    <tr>\n",
       "      <th>3</th>\n",
       "      <td>4</td>\n",
       "      <td>true_link</td>\n",
       "      <td>20.0</td>\n",
       "      <td>0.333333</td>\n",
       "      <td>0.375609</td>\n",
       "    </tr>\n",
       "    <tr>\n",
       "      <th>4</th>\n",
       "      <td>2</td>\n",
       "      <td>true_link</td>\n",
       "      <td>20.0</td>\n",
       "      <td>1.000000</td>\n",
       "      <td>1.092836</td>\n",
       "    </tr>\n",
       "    <tr>\n",
       "      <th>5</th>\n",
       "      <td>2</td>\n",
       "      <td>true_link</td>\n",
       "      <td>20.0</td>\n",
       "      <td>1.000000</td>\n",
       "      <td>1.188747</td>\n",
       "    </tr>\n",
       "    <tr>\n",
       "      <th>...</th>\n",
       "      <td>...</td>\n",
       "      <td>...</td>\n",
       "      <td>...</td>\n",
       "      <td>...</td>\n",
       "      <td>...</td>\n",
       "    </tr>\n",
       "    <tr>\n",
       "      <th>146298</th>\n",
       "      <td>5</td>\n",
       "      <td>false_link</td>\n",
       "      <td>NaN</td>\n",
       "      <td>0.000000</td>\n",
       "      <td>-0.321437</td>\n",
       "    </tr>\n",
       "    <tr>\n",
       "      <th>146303</th>\n",
       "      <td>5</td>\n",
       "      <td>false_link</td>\n",
       "      <td>20.0</td>\n",
       "      <td>0.000000</td>\n",
       "      <td>0.172624</td>\n",
       "    </tr>\n",
       "    <tr>\n",
       "      <th>146309</th>\n",
       "      <td>5</td>\n",
       "      <td>false_link</td>\n",
       "      <td>11.0</td>\n",
       "      <td>0.000000</td>\n",
       "      <td>-0.210307</td>\n",
       "    </tr>\n",
       "    <tr>\n",
       "      <th>146316</th>\n",
       "      <td>5</td>\n",
       "      <td>false_link</td>\n",
       "      <td>NaN</td>\n",
       "      <td>0.000000</td>\n",
       "      <td>0.223893</td>\n",
       "    </tr>\n",
       "    <tr>\n",
       "      <th>146325</th>\n",
       "      <td>4</td>\n",
       "      <td>false_link</td>\n",
       "      <td>1.0</td>\n",
       "      <td>0.333333</td>\n",
       "      <td>0.009680</td>\n",
       "    </tr>\n",
       "  </tbody>\n",
       "</table>\n",
       "<p>48963 rows × 5 columns</p>\n",
       "</div>"
      ],
      "text/plain": [
       "        path_length       label  num_neg     score    random\n",
       "0                 5   true_link     20.0  0.000000  0.101662\n",
       "2                 2   true_link     20.0  1.000000  1.977131\n",
       "3                 4   true_link     20.0  0.333333  0.375609\n",
       "4                 2   true_link     20.0  1.000000  1.092836\n",
       "5                 2   true_link     20.0  1.000000  1.188747\n",
       "...             ...         ...      ...       ...       ...\n",
       "146298            5  false_link      NaN  0.000000 -0.321437\n",
       "146303            5  false_link     20.0  0.000000  0.172624\n",
       "146309            5  false_link     11.0  0.000000 -0.210307\n",
       "146316            5  false_link      NaN  0.000000  0.223893\n",
       "146325            4  false_link      1.0  0.333333  0.009680\n",
       "\n",
       "[48963 rows x 5 columns]"
      ]
     },
     "execution_count": 20,
     "metadata": {},
     "output_type": "execute_result"
    }
   ],
   "source": [
    "result['random'] = np.random.normal(loc=result['score'], scale=scale)\n",
    "result"
   ]
  },
  {
   "cell_type": "code",
   "execution_count": 21,
   "id": "59966439-45d7-426a-af16-1e42595e4388",
   "metadata": {},
   "outputs": [],
   "source": [
    "score_col = \"score\""
   ]
  },
  {
   "cell_type": "code",
   "execution_count": 22,
   "id": "fb8530d8-16fe-44d5-bf86-b86eb916ce10",
   "metadata": {},
   "outputs": [
    {
     "name": "stdout",
     "output_type": "stream",
     "text": [
      "(38252,)\n"
     ]
    }
   ],
   "source": [
    "pos_scores = result.loc[result['label'] == 'true_link', score_col].values\n",
    "print(pos_scores.shape)"
   ]
  },
  {
   "cell_type": "code",
   "execution_count": 23,
   "id": "00976fc3-c772-4645-9825-fdd615f72330",
   "metadata": {},
   "outputs": [
    {
     "name": "stdout",
     "output_type": "stream",
     "text": [
      "(10711,)\n"
     ]
    }
   ],
   "source": [
    "neg_scores = result.loc[result['label'] == 'false_link', score_col].values\n",
    "print(neg_scores.shape)"
   ]
  },
  {
   "cell_type": "code",
   "execution_count": 24,
   "id": "c2bf39ed-ae85-4011-9e47-8840563cd619",
   "metadata": {},
   "outputs": [
    {
     "name": "stdout",
     "output_type": "stream",
     "text": [
      "Dataset: ogbl-collab\n",
      "Evaluation metric: hits@50\n",
      "Positive scores shape: torch.Size([38252])\n",
      "Negative scores shape: torch.Size([10711])\n"
     ]
    },
    {
     "data": {
      "text/plain": [
       "{'hits@50': 0.5630555265084178}"
      ]
     },
     "execution_count": 24,
     "metadata": {},
     "output_type": "execute_result"
    }
   ],
   "source": [
    "metrics = evaluate(\"ogbl-collab\", pos_scores, neg_scores)\n",
    "metrics"
   ]
  },
  {
   "cell_type": "code",
   "execution_count": 25,
   "id": "c5068c6f-e90d-4adf-9525-6ab621930312",
   "metadata": {},
   "outputs": [
    {
     "data": {
      "text/plain": [
       "<Axes: xlabel='label', ylabel='score'>"
      ]
     },
     "execution_count": 25,
     "metadata": {},
     "output_type": "execute_result"
    },
    {
     "data": {
      "image/png": "[encoded data removed]",
      "text/plain": [
       "<Figure size 640x480 with 1 Axes>"
      ]
     },
     "metadata": {},
     "output_type": "display_data"
    }
   ],
   "source": [
    "result.plot.scatter(\"label\", \"score\")"
   ]
  },
  {
   "cell_type": "code",
   "execution_count": 26,
   "id": "ffc609ad-3d96-4c38-a53d-22d5a29df72d",
   "metadata": {},
   "outputs": [
    {
     "data": {
      "text/html": [
       "<div>\n",
       "<style scoped>\n",
       "    .dataframe tbody tr th:only-of-type {\n",
       "        vertical-align: middle;\n",
       "    }\n",
       "\n",
       "    .dataframe tbody tr th {\n",
       "        vertical-align: top;\n",
       "    }\n",
       "\n",
       "    .dataframe thead th {\n",
       "        text-align: right;\n",
       "    }\n",
       "</style>\n",
       "<table border=\"1\" class=\"dataframe\">\n",
       "  <thead>\n",
       "    <tr style=\"text-align: right;\">\n",
       "      <th></th>\n",
       "      <th>path_length</th>\n",
       "      <th>label</th>\n",
       "      <th>num_neg</th>\n",
       "      <th>score</th>\n",
       "      <th>random</th>\n",
       "      <th>neg</th>\n",
       "    </tr>\n",
       "  </thead>\n",
       "  <tbody>\n",
       "    <tr>\n",
       "      <th>0</th>\n",
       "      <td>5</td>\n",
       "      <td>true_link</td>\n",
       "      <td>20.0</td>\n",
       "      <td>0.000000</td>\n",
       "      <td>0.101662</td>\n",
       "      <td>2</td>\n",
       "    </tr>\n",
       "    <tr>\n",
       "      <th>2</th>\n",
       "      <td>2</td>\n",
       "      <td>true_link</td>\n",
       "      <td>20.0</td>\n",
       "      <td>1.000000</td>\n",
       "      <td>1.977131</td>\n",
       "      <td>2</td>\n",
       "    </tr>\n",
       "    <tr>\n",
       "      <th>3</th>\n",
       "      <td>4</td>\n",
       "      <td>true_link</td>\n",
       "      <td>20.0</td>\n",
       "      <td>0.333333</td>\n",
       "      <td>0.375609</td>\n",
       "      <td>2</td>\n",
       "    </tr>\n",
       "    <tr>\n",
       "      <th>4</th>\n",
       "      <td>2</td>\n",
       "      <td>true_link</td>\n",
       "      <td>20.0</td>\n",
       "      <td>1.000000</td>\n",
       "      <td>1.092836</td>\n",
       "      <td>2</td>\n",
       "    </tr>\n",
       "    <tr>\n",
       "      <th>5</th>\n",
       "      <td>2</td>\n",
       "      <td>true_link</td>\n",
       "      <td>20.0</td>\n",
       "      <td>1.000000</td>\n",
       "      <td>1.188747</td>\n",
       "      <td>2</td>\n",
       "    </tr>\n",
       "    <tr>\n",
       "      <th>...</th>\n",
       "      <td>...</td>\n",
       "      <td>...</td>\n",
       "      <td>...</td>\n",
       "      <td>...</td>\n",
       "      <td>...</td>\n",
       "      <td>...</td>\n",
       "    </tr>\n",
       "    <tr>\n",
       "      <th>146298</th>\n",
       "      <td>5</td>\n",
       "      <td>false_link</td>\n",
       "      <td>NaN</td>\n",
       "      <td>0.000000</td>\n",
       "      <td>-0.321437</td>\n",
       "      <td>0</td>\n",
       "    </tr>\n",
       "    <tr>\n",
       "      <th>146303</th>\n",
       "      <td>5</td>\n",
       "      <td>false_link</td>\n",
       "      <td>20.0</td>\n",
       "      <td>0.000000</td>\n",
       "      <td>0.172624</td>\n",
       "      <td>2</td>\n",
       "    </tr>\n",
       "    <tr>\n",
       "      <th>146309</th>\n",
       "      <td>5</td>\n",
       "      <td>false_link</td>\n",
       "      <td>11.0</td>\n",
       "      <td>0.000000</td>\n",
       "      <td>-0.210307</td>\n",
       "      <td>1</td>\n",
       "    </tr>\n",
       "    <tr>\n",
       "      <th>146316</th>\n",
       "      <td>5</td>\n",
       "      <td>false_link</td>\n",
       "      <td>NaN</td>\n",
       "      <td>0.000000</td>\n",
       "      <td>0.223893</td>\n",
       "      <td>0</td>\n",
       "    </tr>\n",
       "    <tr>\n",
       "      <th>146325</th>\n",
       "      <td>4</td>\n",
       "      <td>false_link</td>\n",
       "      <td>1.0</td>\n",
       "      <td>0.333333</td>\n",
       "      <td>0.009680</td>\n",
       "      <td>0</td>\n",
       "    </tr>\n",
       "  </tbody>\n",
       "</table>\n",
       "<p>48963 rows × 6 columns</p>\n",
       "</div>"
      ],
      "text/plain": [
       "        path_length       label  num_neg     score    random  neg\n",
       "0                 5   true_link     20.0  0.000000  0.101662    2\n",
       "2                 2   true_link     20.0  1.000000  1.977131    2\n",
       "3                 4   true_link     20.0  0.333333  0.375609    2\n",
       "4                 2   true_link     20.0  1.000000  1.092836    2\n",
       "5                 2   true_link     20.0  1.000000  1.188747    2\n",
       "...             ...         ...      ...       ...       ...  ...\n",
       "146298            5  false_link      NaN  0.000000 -0.321437    0\n",
       "146303            5  false_link     20.0  0.000000  0.172624    2\n",
       "146309            5  false_link     11.0  0.000000 -0.210307    1\n",
       "146316            5  false_link      NaN  0.000000  0.223893    0\n",
       "146325            4  false_link      1.0  0.333333  0.009680    0\n",
       "\n",
       "[48963 rows x 6 columns]"
      ]
     },
     "execution_count": 26,
     "metadata": {},
     "output_type": "execute_result"
    }
   ],
   "source": [
    "result[\"neg\"] = (result[\"num_neg\"] / 10).fillna(0).astype(int)\n",
    "result"
   ]
  },
  {
   "cell_type": "code",
   "execution_count": 27,
   "id": "621adc28-054e-49dd-82ac-5728b4635d95",
   "metadata": {},
   "outputs": [
    {
     "data": {
      "text/plain": [
       "path_length  neg\n",
       "2            0       4475\n",
       "             1       3574\n",
       "             2      13489\n",
       "3            0          3\n",
       "             2        104\n",
       "4            0        369\n",
       "             1        261\n",
       "             2      12281\n",
       "5            0        216\n",
       "             1         66\n",
       "             2       3414\n",
       "Name: label, dtype: int64"
      ]
     },
     "execution_count": 27,
     "metadata": {},
     "output_type": "execute_result"
    }
   ],
   "source": [
    "result[result[\"label\"] == \"true_link\"].groupby([\"path_length\", \"neg\"]).count()['label']"
   ]
  },
  {
   "cell_type": "code",
   "execution_count": 28,
   "id": "144cce77-d608-4c04-b15b-1dd6111418c6",
   "metadata": {},
   "outputs": [
    {
     "data": {
      "text/plain": [
       "path_length  neg\n",
       "2            0         9\n",
       "             2         3\n",
       "3            0        23\n",
       "             1         5\n",
       "             2        35\n",
       "4            0       299\n",
       "             1        41\n",
       "             2       589\n",
       "5            0      2655\n",
       "             1       286\n",
       "             2      6766\n",
       "Name: label, dtype: int64"
      ]
     },
     "execution_count": 28,
     "metadata": {},
     "output_type": "execute_result"
    }
   ],
   "source": [
    "result[result[\"label\"] == \"false_link\"].groupby([\"path_length\", \"neg\"]).count()['label']"
   ]
  },
  {
   "cell_type": "code",
   "execution_count": 29,
   "id": "ee29fef2-2899-45ce-8661-a7f13feda382",
   "metadata": {},
   "outputs": [
    {
     "data": {
      "text/plain": [
       "neg  path_length\n",
       "0    2               4475\n",
       "     3                  3\n",
       "     4                369\n",
       "     5                216\n",
       "1    2               3574\n",
       "     4                261\n",
       "     5                 66\n",
       "2    2              13489\n",
       "     3                104\n",
       "     4              12281\n",
       "     5               3414\n",
       "Name: label, dtype: int64"
      ]
     },
     "execution_count": 29,
     "metadata": {},
     "output_type": "execute_result"
    }
   ],
   "source": [
    "result[result[\"label\"] == \"true_link\"].groupby([\"neg\", \"path_length\"]).count()['label']"
   ]
  },
  {
   "cell_type": "code",
   "execution_count": 30,
   "id": "002be8b7-6d75-4d60-956a-3b0dfec24c74",
   "metadata": {},
   "outputs": [
    {
     "data": {
      "text/plain": [
       "neg  path_length\n",
       "0    2                 9\n",
       "     3                23\n",
       "     4               299\n",
       "     5              2655\n",
       "1    3                 5\n",
       "     4                41\n",
       "     5               286\n",
       "2    2                 3\n",
       "     3                35\n",
       "     4               589\n",
       "     5              6766\n",
       "Name: label, dtype: int64"
      ]
     },
     "execution_count": 30,
     "metadata": {},
     "output_type": "execute_result"
    }
   ],
   "source": [
    "result[result[\"label\"] == \"false_link\"].groupby([\"neg\", \"path_length\"]).count()['label']"
   ]
  },
  {
   "cell_type": "code",
   "execution_count": 40,
   "id": "cffd25b7-5748-48a6-8e9f-7f298e67dcfd",
   "metadata": {},
   "outputs": [
    {
     "data": {
      "text/plain": [
       "<Axes: ylabel='Frequency'>"
      ]
     },
     "execution_count": 40,
     "metadata": {},
     "output_type": "execute_result"
    },
    {
     "data": {
      "image/png": "[encoded data removed]",
      "text/plain": [
       "<Figure size 640x480 with 1 Axes>"
      ]
     },
     "metadata": {},
     "output_type": "display_data"
    }
   ],
   "source": [
    "result.loc[(result[\"label\"] == \"true_link\") & (result[\"path_length\"] == 4), \"num_neg\"].plot.hist(bins=10)"
   ]
  },
  {
   "cell_type": "code",
   "execution_count": 41,
   "id": "53005361-77cf-4106-b07d-9cb73711c19d",
   "metadata": {},
   "outputs": [
    {
     "data": {
      "text/plain": [
       "<Axes: ylabel='Frequency'>"
      ]
     },
     "execution_count": 41,
     "metadata": {},
     "output_type": "execute_result"
    },
    {
     "data": {
      "image/png": "[encoded data removed]",
      "text/plain": [
       "<Figure size 640x480 with 1 Axes>"
      ]
     },
     "metadata": {},
     "output_type": "display_data"
    }
   ],
   "source": [
    "result.loc[(result[\"label\"] == \"false_link\") & (result[\"path_length\"] == 4), \"num_neg\"].plot.hist(bins=10)"
   ]
  },
  {
   "cell_type": "code",
   "execution_count": null,
   "id": "03a63495-3ce5-4c7d-b54d-767672d9d576",
   "metadata": {},
   "outputs": [],
   "source": []
  }
 ],
 "metadata": {
  "kernelspec": {
   "display_name": "Python3 (ipykernel)",
   "language": "python",
   "name": "python3"
  },
  "language_info": {
   "codemirror_mode": {
    "name": "ipython",
    "version": 3
   },
   "file_extension": ".py",
   "mimetype": "text/x-python",
   "name": "python",
   "nbconvert_exporter": "python",
   "pygments_lexer": "ipython3",
   "version": "3.12.3"
  }
 },
 "nbformat": 4,
 "nbformat_minor": 5
}
